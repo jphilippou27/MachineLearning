{
 "cells": [
  {
   "cell_type": "markdown",
   "metadata": {},
   "source": [
    "# Project 2: Topic Classification"
   ]
  },
  {
   "cell_type": "markdown",
   "metadata": {},
   "source": [
    "In this project, you'll work with text data from newsgroup postings on a variety of topics. You'll train classifiers to distinguish between the topics based on the text of the posts. Whereas with digit classification, the input is relatively dense: a 28x28 matrix of pixels, many of which are non-zero, here we'll represent each document with a \"bag-of-words\" model. As you'll see, this makes the feature representation quite sparse -- only a few words of the total vocabulary are active in any given document. The bag-of-words assumption here is that the label depends only on the words; their order is not important.\n",
    "\n",
    "The SK-learn documentation on feature extraction will prove useful:\n",
    "http://scikit-learn.org/stable/modules/feature_extraction.html\n",
    "\n",
    "Each problem can be addressed succinctly with the included packages -- please don't add any more. Grading will be based on writing clean, commented code, along with a few short answers.\n",
    "\n",
    "As always, you're welcome to work on the project in groups and discuss ideas on the course wall, but please prepare your own write-up and write your own code."
   ]
  },
  {
   "cell_type": "code",
   "execution_count": 1,
   "metadata": {
    "collapsed": true
   },
   "outputs": [],
   "source": [
    "# This tells matplotlib not to try opening a new window for each plot.\n",
    "%matplotlib inline\n",
    "\n",
    "# General libraries.\n",
    "import re\n",
    "import numpy as np\n",
    "import matplotlib.pyplot as plt\n",
    "\n",
    "# SK-learn libraries for learning.\n",
    "from sklearn.pipeline import Pipeline\n",
    "from sklearn.neighbors import KNeighborsClassifier\n",
    "from sklearn.linear_model import LogisticRegression\n",
    "from sklearn.naive_bayes import BernoulliNB\n",
    "from sklearn.naive_bayes import MultinomialNB\n",
    "from sklearn.grid_search import GridSearchCV\n",
    "\n",
    "# SK-learn libraries for evaluation.\n",
    "from sklearn.metrics import confusion_matrix\n",
    "from sklearn import metrics\n",
    "from sklearn.metrics import classification_report\n",
    "\n",
    "# SK-learn library for importing the newsgroup data.\n",
    "from sklearn.datasets import fetch_20newsgroups\n",
    "\n",
    "# SK-learn libraries for feature extraction from text.\n",
    "from sklearn.feature_extraction.text import *"
   ]
  },
  {
   "cell_type": "markdown",
   "metadata": {},
   "source": [
    "Load the data, stripping out metadata so that we learn classifiers that only use textual features. By default, newsgroups data is split into train and test sets. We further split the test so we have a dev set. Note that we specify 4 categories to use for this project. If you remove the categories argument from the fetch function, you'll get all 20 categories."
   ]
  },
  {
   "cell_type": "code",
   "execution_count": 99,
   "metadata": {},
   "outputs": [
    {
     "name": "stdout",
     "output_type": "stream",
     "text": [
      "training label shape: (2034L,)\n",
      "test label shape: (677L,)\n",
      "dev label shape: (676L,)\n",
      "labels names: ['alt.atheism', 'comp.graphics', 'sci.space', 'talk.religion.misc']\n",
      "/n\n"
     ]
    }
   ],
   "source": [
    "categories = ['alt.atheism', 'talk.religion.misc', 'comp.graphics', 'sci.space']\n",
    "newsgroups_train = fetch_20newsgroups(subset='train',\n",
    "                                      remove=('headers', 'footers', 'quotes'),\n",
    "                                      categories=categories)\n",
    "newsgroups_test = fetch_20newsgroups(subset='test',\n",
    "                                     remove=('headers', 'footers', 'quotes'),\n",
    "                                     categories=categories)\n",
    "\n",
    "num_test = len(newsgroups_test.target)\n",
    "test_data, test_labels = newsgroups_test.data[num_test/2:], newsgroups_test.target[num_test/2:]\n",
    "dev_data, dev_labels = newsgroups_test.data[:num_test/2], newsgroups_test.target[:num_test/2]\n",
    "train_data, train_labels = newsgroups_train.data, newsgroups_train.target\n",
    "\n",
    "print 'training label shape:', train_labels.shape\n",
    "print 'test label shape:', test_labels.shape\n",
    "print 'dev label shape:', dev_labels.shape\n",
    "print 'labels names:', newsgroups_train.target_names"
   ]
  },
  {
   "cell_type": "markdown",
   "metadata": {},
   "source": [
    "(1) For each of the first 5 training examples, print the text of the message along with the label.\n",
    "\n",
    "[2 pts]"
   ]
  },
  {
   "cell_type": "code",
   "execution_count": 101,
   "metadata": {
    "scrolled": true
   },
   "outputs": [
    {
     "name": "stdout",
     "output_type": "stream",
     "text": [
      "example No: 1\n",
      "label: 1\n",
      "category: comp.graphics\n",
      "text: Hi,\n",
      "\n",
      "I've noticed that if you only save a model (with all your mapping planes\n",
      "positioned carefully) to a .3DS file that when you reload it after restarting\n",
      "3DS, they are given a default position and orientation.  But if you save\n",
      "to a .PRJ file their positions/orientation are preserved.  Does anyone\n",
      "know why this information is not stored in the .3DS file?  Nothing is\n",
      "explicitly said in the manual about saving texture rules in the .PRJ file. \n",
      "I'd like to be able to read the texture rule information, does anyone have \n",
      "the format for the .PRJ file?\n",
      "\n",
      "Is the .CEL file format available from somewhere?\n",
      "\n",
      "Rych\n",
      "\n",
      "--------------------------------------\n",
      "example No: 2\n",
      "label: 3\n",
      "category: talk.religion.misc\n",
      "text: \n",
      "\n",
      "Seems to be, barring evidence to the contrary, that Koresh was simply\n",
      "another deranged fanatic who thought it neccessary to take a whole bunch of\n",
      "folks with him, children and all, to satisfy his delusional mania. Jim\n",
      "Jones, circa 1993.\n",
      "\n",
      "\n",
      "Nope - fruitcakes like Koresh have been demonstrating such evil corruption\n",
      "for centuries.\n",
      "\n",
      "--------------------------------------\n",
      "example No: 3\n",
      "label: 2\n",
      "category: sci.space\n",
      "text: \n",
      " >In article <1993Apr19.020359.26996@sq.sq.com>, msb@sq.sq.com (Mark Brader) \n",
      "\n",
      "MB>                                                             So the\n",
      "MB> 1970 figure seems unlikely to actually be anything but a perijove.\n",
      "\n",
      "JG>Sorry, _perijoves_...I'm not used to talking this language.\n",
      "\n",
      "Couldn't we just say periapsis or apoapsis?\n",
      "\n",
      " \n",
      "\n",
      "--------------------------------------\n",
      "example No: 4\n",
      "label: 0\n",
      "category: alt.atheism\n",
      "text: I have a request for those who would like to see Charley Wingate\n",
      "respond to the \"Charley Challenges\" (and judging from my e-mail, there\n",
      "appear to be quite a few of you.)  \n",
      "\n",
      "It is clear that Mr. Wingate intends to continue to post tangential or\n",
      "unrelated articles while ingoring the Challenges themselves.  Between\n",
      "the last two re-postings of the Challenges, I noted perhaps a dozen or\n",
      "more posts by Mr. Wingate, none of which answered a single Challenge.  \n",
      "\n",
      "It seems unmistakable to me that Mr. Wingate hopes that the questions\n",
      "will just go away, and he is doing his level best to change the\n",
      "subject.  Given that this seems a rather common net.theist tactic, I\n",
      "would like to suggest that we impress upon him our desire for answers,\n",
      "in the following manner:\n",
      "\n",
      "1. Ignore any future articles by Mr. Wingate that do not address the\n",
      "Challenges, until he answers them or explictly announces that he\n",
      "refuses to do so.\n",
      "\n",
      "--or--\n",
      "\n",
      "2. If you must respond to one of his articles, include within it\n",
      "something similar to the following:\n",
      "\n",
      "    \"Please answer the questions posed to you in the Charley Challenges.\"\n",
      "\n",
      "Really, I'm not looking to humiliate anyone here, I just want some\n",
      "honest answers.  You wouldn't think that honesty would be too much to\n",
      "ask from a devout Christian, would you?  \n",
      "\n",
      "Nevermind, that was a rhetorical question.\n",
      "\n",
      "--------------------------------------\n",
      "example No: 5\n",
      "label: 2\n",
      "category: sci.space\n",
      "text: AW&ST  had a brief blurb on a Manned Lunar Exploration confernce\n",
      "May 7th  at Crystal City Virginia, under the auspices of AIAA.\n",
      "\n",
      "Does anyone know more about this?  How much, to attend????\n",
      "\n",
      "Anyone want to go?\n",
      "\n",
      "--------------------------------------\n"
     ]
    }
   ],
   "source": [
    "def P1(num_examples):\n",
    "### STUDENT START ###\n",
    "    for i in range(0,num_examples):\n",
    "        print \"example No: \" + str(i+1)\n",
    "        #show the label for the message\n",
    "        print \"label: \" + str(train_labels[i])\n",
    "        #show the category\n",
    "        print \"category: \" + str(newsgroups_train.target_names[train_labels[i]])\n",
    "        #show the text for the message\n",
    "        print \"text: \" + str(train_data[i])+ \"\\n\"\n",
    "        print \"--------------------------------------\"\n",
    "\n",
    "### STUDENT END ###\n",
    "P1(5)"
   ]
  },
  {
   "cell_type": "markdown",
   "metadata": {},
   "source": [
    "(2) Use CountVectorizer to turn the raw training text into feature vectors. You should use the fit_transform function, which makes 2 passes through the data: first it computes the vocabulary (\"fit\"), second it converts the raw text into feature vectors using the vocabulary (\"transform\").\n",
    "\n",
    "The vectorizer has a lot of options. To get familiar with some of them, write code to answer these questions:\n",
    "\n",
    "a. The output of the transform (also of fit_transform) is a sparse matrix: http://docs.scipy.org/doc/scipy-0.14.0/reference/generated/scipy.sparse.csr_matrix.html. What is the size of the vocabulary? What is the average number of non-zero features per example? What fraction of the entries in the matrix are non-zero? Hint: use \"nnz\" and \"shape\" attributes.\n",
    "\n",
    "b. What are the 0th and last feature strings (in alphabetical order)? Hint: use the vectorizer's get_feature_names function.\n",
    "\n",
    "c. Specify your own vocabulary with 4 words: [\"atheism\", \"graphics\", \"space\", \"religion\"]. Confirm the training vectors are appropriately shaped. Now what's the average number of non-zero features per example?\n",
    "\n",
    "d. Instead of extracting unigram word features, use \"analyzer\" and \"ngram_range\" to extract bigram and trigram character features. What size vocabulary does this yield?\n",
    "\n",
    "e. Use the \"min_df\" argument to prune words that appear in fewer than 10 documents. What size vocabulary does this yield?\n",
    "\n",
    "f. Using the standard CountVectorizer, what fraction of the words in the dev data are missing from the vocabulary? Hint: build a vocabulary for both train and dev and look at the size of the difference.\n",
    "\n",
    "[6 pts]"
   ]
  },
  {
   "cell_type": "code",
   "execution_count": 179,
   "metadata": {},
   "outputs": [
    {
     "name": "stdout",
     "output_type": "stream",
     "text": [
      "Question 1a\n",
      "The size of the vocabulary (single grams) is:  26879\n",
      "The average number of non-zero features per example is:  96.7059980334\n",
      "The fraction of the entries in the matrix that are non-zero is: 0.00359782722696\n",
      "\n",
      "Question 1b\n",
      "The 0th feature is: 00\n",
      "The last feature is: zyxel\n",
      "\n",
      "Question 1c\n",
      "The average number of non-zero features per example (with new 4 word vocab) is:  0.268436578171\n",
      "\n",
      "Question 1d\n",
      "Bigrams and trigrams result in a vocabulary of size: 35478\n",
      "\n",
      "Question 1e\n",
      "Words with at least 10 instances result in a vocabulary of size: 3064\n",
      "\n",
      "Question 1f\n",
      "4027\n",
      "The fraction of the words in the dev data  missing from the vocabulary is:  0.247876400345\n"
     ]
    }
   ],
   "source": [
    "def P2():\n",
    "### STUDENT START ###\n",
    "    ########################################################\n",
    "    #Part A\n",
    "    #singleGram\n",
    "    vectorizer = CountVectorizer()\n",
    "    #bin words, \n",
    "    X = vectorizer.fit_transform(train_data)\n",
    "    #Convert to matrix\n",
    "    #X.toarray()\n",
    "    print \"Question 1a\"\n",
    "    print \"The size of the vocabulary (single grams) is:  \" + str(X.shape[1])\n",
    "    \n",
    "    print \"The average number of non-zero features per example is: \",\n",
    "    #calc missing values over total number of examples\n",
    "    print X.nnz/float(X.shape[0]) #shows 196,700 words\n",
    "    \n",
    "    print \"The fraction of the entries in the matrix that are non-zero is:\",\n",
    "    #Calc Sparsity \n",
    "    print str((X.nnz)/float(X.shape[0]*X.shape[1]))+ \"\\n\"\n",
    "    \n",
    "    ########################################################\n",
    "    #Part B\n",
    "    print \"Question 1b\" \n",
    "    feature_names =vectorizer.get_feature_names()\n",
    "    print \"The 0th feature is: \" + str((feature_names[0]))\n",
    "    print \"The last feature is: \" + str(feature_names[-1]) +\"\\n\"\n",
    "    \n",
    "    ########################################################\n",
    "    #Part C\n",
    "    print \"Question 1c\" \n",
    "    #Create new vocab list\n",
    "    vocab = [\"atheism\", \"graphics\", \"space\", \"religion\"]\n",
    "    #binarize it\n",
    "    vocab_array = vectorizer.fit_transform(vocab) #.toarray()\n",
    "    #apply bins to training dataset\n",
    "    vocab_2_data = vectorizer.transform(train_data) #.toarray()\n",
    "    #calc blank rate and overall shape\n",
    "    print \"The average number of non-zero features per example (with new 4 word vocab) is: \",\n",
    "    print  str((vocab_2_data.nnz/float(vocab_2_data.shape[0]))) + \"\\n\"\n",
    "        \n",
    "    ########################################################\n",
    "    #Part D\n",
    "    print \"Question 1d\" \n",
    "    #for words, Bi and TriGrams\n",
    "    bigram_vectorizer = CountVectorizer(analyzer='char',ngram_range=(2, 3),token_pattern=r'\\b\\w+\\b', min_df=1)\n",
    "\n",
    "    #bin words and convert to matrix\n",
    "    X_2 = bigram_vectorizer.fit_transform(train_data)#.toarray()\n",
    "    X_2\n",
    "    print \"Bigrams and trigrams result in a vocabulary of size: \" + str(X_2.shape[1]) + \"\\n\"\n",
    "    \n",
    "    ########################################################\n",
    "    #Part E\n",
    "    print \"Question 1e\" \n",
    "    #for words, Bi and TriGrams\n",
    "    bigram_vectorizer = CountVectorizer(min_df=10)\n",
    "\n",
    "    #bin words and convert to matrix\n",
    "    X_2 = bigram_vectorizer.fit_transform(train_data)#.toarray()\n",
    "    X_2\n",
    "    print \"Words with at least 10 instances result in a vocabulary of size: \" + str(X_2.shape[1]) + \"\\n\"\n",
    "    \n",
    "    ########################################################\n",
    "    #Part F\n",
    "    print \"Question 1f\" \n",
    "    X = vectorizer.fit_transform(dev_data)\n",
    "    dev_feature_names =vectorizer.get_feature_names()\n",
    "    missing = 0\n",
    "    for i in range(0,len(dev_feature_names)):\n",
    "        if dev_feature_names[i] not in (feature_names):\n",
    "            missing += 1\n",
    "    print \"The fraction of the words in the dev data  missing from the vocabulary is:  \" + str(float(missing)/X.shape[1])\n",
    "    \n",
    "    ### STUDENT END ###\n",
    "P2()"
   ]
  },
  {
   "cell_type": "markdown",
   "metadata": {},
   "source": [
    "(3) Use the default CountVectorizer options and report the f1 score (use metrics.f1_score) for a k nearest neighbors classifier; find the optimal value for k. Also fit a Multinomial Naive Bayes model and find the optimal value for alpha. Finally, fit a logistic regression model and find the optimal value for the regularization strength C using l2 regularization. A few questions:\n",
    "\n",
    "a. Why doesn't nearest neighbors work well for this problem?\n",
    "\n",
    "b. Any ideas why logistic regression doesn't work as well as Naive Bayes?\n",
    "\n",
    "c. Logistic regression estimates a weight vector for each class, which you can access with the coef\\_ attribute. Output the sum of the squared weight values for each class for each setting of the C parameter. Briefly explain the relationship between the sum and the value of C.\n",
    "\n",
    "[4 pts]"
   ]
  },
  {
   "cell_type": "code",
   "execution_count": 293,
   "metadata": {
    "scrolled": true
   },
   "outputs": [
    {
     "name": "stdout",
     "output_type": "stream",
     "text": [
      "KNN best f1 score on Training Data: 0.417778915182\n",
      "KNN best nearest neighbor count: 15\n",
      "KNN scores [0.41522664441317314, 0.39178746531123915, 0.41211272744086563, 0.40561404093953313, 0.41688792208238062, 0.41777891518161475]\n",
      "k values [1, 3, 5, 7, 9]\n",
      "Multinomial NB Model best F1: 0.828718198342\n"
     ]
    },
    {
     "ename": "TypeError",
     "evalue": "cannot concatenate 'str' and 'float' objects",
     "output_type": "error",
     "traceback": [
      "\u001b[1;31m---------------------------------------------------------------------------\u001b[0m",
      "\u001b[1;31mTypeError\u001b[0m                                 Traceback (most recent call last)",
      "\u001b[1;32m<ipython-input-293-3bc586b796a4>\u001b[0m in \u001b[0;36m<module>\u001b[1;34m()\u001b[0m\n\u001b[0;32m     48\u001b[0m \u001b[1;31m# summarize the results of the grid search\u001b[0m\u001b[1;33m\u001b[0m\u001b[1;33m\u001b[0m\u001b[0m\n\u001b[0;32m     49\u001b[0m \u001b[1;32mprint\u001b[0m \u001b[1;34m\"Multinomial NB Model best F1: \"\u001b[0m \u001b[1;33m+\u001b[0m \u001b[0mstr\u001b[0m\u001b[1;33m(\u001b[0m\u001b[1;33m(\u001b[0m\u001b[0mgrid\u001b[0m\u001b[1;33m.\u001b[0m\u001b[0mbest_score_\u001b[0m\u001b[1;33m)\u001b[0m\u001b[1;33m)\u001b[0m\u001b[1;33m\u001b[0m\u001b[0m\n\u001b[1;32m---> 50\u001b[1;33m \u001b[1;32mprint\u001b[0m \u001b[1;34m\"Multinomial NB Model best Alpha: \"\u001b[0m \u001b[1;33m+\u001b[0m\u001b[1;33m(\u001b[0m\u001b[0mgrid\u001b[0m\u001b[1;33m.\u001b[0m\u001b[0mbest_estimator_\u001b[0m\u001b[1;33m.\u001b[0m\u001b[0malpha\u001b[0m\u001b[1;33m)\u001b[0m\u001b[1;33m\u001b[0m\u001b[0m\n\u001b[0m\u001b[0;32m     51\u001b[0m \u001b[1;33m\u001b[0m\u001b[0m\n\u001b[0;32m     52\u001b[0m \u001b[1;33m\u001b[0m\u001b[0m\n",
      "\u001b[1;31mTypeError\u001b[0m: cannot concatenate 'str' and 'float' objects"
     ]
    }
   ],
   "source": [
    "#def P3():\n",
    "### STUDENT START ###\n",
    "##################################################\n",
    "#create n grams\n",
    "#default CountVectorizer options \n",
    "#singleGram\n",
    "vectorizer = CountVectorizer()\n",
    "train_vec = vectorizer.fit_transform(train_data).toarray()\n",
    "#train_vec.shape\n",
    "#train_array = train_vec.toarray()\n",
    "#print train_array [1:20,]\n",
    "test_vec = vectorizer.transform(test_data)\n",
    "#print test_vec.shape\n",
    "\n",
    "##################################################\n",
    "#Build KNN model\n",
    "#report the f1 score (use metrics.f1_score) for a k nearest neighbors classifier;\n",
    "#find the optimal value for k. \n",
    "knn_model = KNeighborsClassifier()\n",
    "n_neighbors = {'n_neighbors': [1, 3, 5, 7, 9, 15]} \n",
    "#sklearn library required a more explicit measure (ie f1 alone implies binary results and this is a multi class problem)\n",
    "grid = GridSearchCV(estimator=knn_model, param_grid=n_neighbors, scoring = \"f1_weighted\")\n",
    "grid.fit(train_vec, train_labels)\n",
    "\n",
    "# summarize the results of the grid search\n",
    "print \"KNN best f1 score on Training Data: \" + str(grid.best_score_)\n",
    "print \"KNN best nearest neighbor count: \" + str(grid.best_estimator_.n_neighbors) + \"\\n\"\n",
    "\n",
    "##################################################\n",
    "#Build MNB model\n",
    "#Multinomial Naive Bayes model and find the optimal value for alpha. \n",
    "#gnb_model = BernoulliNB(binarize=0.5) #binarizer function is cutting off here!!\n",
    "alphas = {'alpha': [0.0001, 0.001, 0.01, 0.1, 0.5, 1.0, 2.0, 10.0]}\n",
    "grid = GridSearchCV(estimator=clf_model, param_grid=alphas, scoring = \"f1_weighted\")\n",
    "grid.fit(train_vec, train_labels)\n",
    "#print(grid)\n",
    "# summarize the results of the grid search\n",
    "print \"Multinomial NB Model best F1: \" + str((grid.best_score_))\n",
    "print \"Multinomial NB Model best Alpha: \" +str (grid.best_estimator_.alpha) + \"\\n\"\n",
    "\n",
    "\n",
    "clf_pred = clf_model.fit(train_vec, train_labels, alpha = grid.best_estimator_.alpha).predict(test_vec)\n",
    "wrong_prediction = (clf_pred != test_labels)\n",
    "print \"Multinomial NB Model - Score on Test Pred: \",\n",
    "print clf_model.metrics.f1_score\n",
    "\n",
    "\n",
    "##################################################\n",
    "#Build LR model\n",
    "#fit a logistic regression model and find the optimal value for the regularization strength C using l2 regularization.\n",
    "\n",
    "### STUDENT END ###\n",
    "#P3()"
   ]
  },
  {
   "cell_type": "code",
   "execution_count": 262,
   "metadata": {
    "scrolled": true
   },
   "outputs": [
    {
     "name": "stdout",
     "output_type": "stream",
     "text": [
      "GridSearchCV(cv=None, error_score='raise',\n",
      "       estimator=MultinomialNB(alpha=0.01, class_prior=None, fit_prior=True),\n",
      "       fit_params={}, iid=True, loss_func=None, n_jobs=1,\n",
      "       param_grid={'alpha': [0.0001, 0.001, 0.01, 0.1, 0.5, 1.0, 2.0, 10.0]},\n",
      "       pre_dispatch='2*n_jobs', refit=True, score_func=None,\n",
      "       scoring='f1_weighted', verbose=0)\n",
      "0.828718198342\n",
      "0.01\n",
      "scores [0.82551835418860098, 0.82618774680942975, 0.82871819834225602, 0.82295772554388091, 0.80961823895059748, 0.79662741908186041, 0.77195772065375345, 0.65530898520303482]\n",
      "[ 0.826  0.826  0.829  0.823  0.81   0.797  0.772  0.655]\n",
      "\n",
      "\n",
      "[array([ 0.826,  0.826,  0.829,  0.823,  0.81 ,  0.797,  0.772,  0.655])\n",
      " [0.0, 0.0001, 0.001, 0.01, 0.1, 0.5, 1.0, 2.0, 10.0]]\n",
      "[(0.82599999999999996, 0.0), (0.82599999999999996, 0.0001), (0.82899999999999996, 0.001), (0.82299999999999995, 0.01), (0.81000000000000005, 0.1), (0.79700000000000004, 0.5), (0.77200000000000002, 1.0), (0.65500000000000003, 2.0)]\n",
      "[[  8.26000000e-01   0.00000000e+00]\n",
      " [  8.26000000e-01   1.00000000e-04]\n",
      " [  8.29000000e-01   1.00000000e-03]\n",
      " [  8.23000000e-01   1.00000000e-02]\n",
      " [  8.10000000e-01   1.00000000e-01]\n",
      " [  7.97000000e-01   5.00000000e-01]\n",
      " [  7.72000000e-01   1.00000000e+00]\n",
      " [  6.55000000e-01   2.00000000e+00]]\n"
     ]
    }
   ],
   "source": [
    "#gnb_model = BernoulliNB(binarize=0.5) #binarizer function is cutting off here!!\n",
    "alphas = {'alpha': [0.0001, 0.001, 0.01, 0.1, 0.5, 1.0, 2.0, 10.0]}\n",
    "grid = GridSearchCV(estimator=clf_model, param_grid=alphas, scoring = \"f1_weighted\")\n",
    "grid.fit(train_vec, train_labels)\n",
    "print(grid)\n",
    "# summarize the results of the grid search\n",
    "print(grid.best_score_)\n",
    "print(grid.best_estimator_.alpha)\n",
    "\n",
    "scores = [x[1] for x in grid.grid_scores_]\n",
    "print 'scores',\n",
    "print scores\n",
    "scores_rounded = np.round(scores, 3)\n",
    "print scores_rounded\n",
    "\n",
    "print \"\\n\"\n",
    "df = []\n",
    "df.append(scores_rounded)\n",
    "df.append([0.0, 0.0001, 0.001, 0.01, 0.1, 0.5, 1.0, 2.0, 10.0])\n",
    "print np.array(df)\n",
    "\n",
    "table = zip (np.round(scores, 3),[0.0, 0.0001, 0.001, 0.01, 0.1, 0.5, 1.0, 2.0, 10.0] )\n",
    "print table\n",
    "print np.array(table)\n",
    "#print grid.metrics.f1_score"
   ]
  },
  {
   "cell_type": "code",
   "execution_count": 291,
   "metadata": {},
   "outputs": [
    {
     "name": "stdout",
     "output_type": "stream",
     "text": [
      "[ 0.826  0.826  0.829  0.823  0.81   0.797  0.772  0.655]\n",
      "<type 'numpy.float64'>\n",
      "[(0.82599999999999996, 0.0), (0.82599999999999996, 0.0001), (0.82899999999999996, 0.001), (0.82299999999999995, 0.01), (0.81000000000000005, 0.1), (0.79700000000000004, 0.5), (0.77200000000000002, 1.0), (0.65500000000000003, 2.0)]\n"
     ]
    },
    {
     "ename": "ValueError",
     "evalue": "Unknown format code 'f' for object of type 'str'",
     "output_type": "error",
     "traceback": [
      "\u001b[1;31m---------------------------------------------------------------------------\u001b[0m",
      "\u001b[1;31mValueError\u001b[0m                                Traceback (most recent call last)",
      "\u001b[1;32m<ipython-input-291-79d04153a97a>\u001b[0m in \u001b[0;36m<module>\u001b[1;34m()\u001b[0m\n\u001b[0;32m      6\u001b[0m \u001b[0mtable\u001b[0m \u001b[1;33m=\u001b[0m \u001b[0mzip\u001b[0m \u001b[1;33m(\u001b[0m\u001b[0mscores_rounded\u001b[0m\u001b[1;33m,\u001b[0m\u001b[1;33m[\u001b[0m\u001b[1;36m0.0\u001b[0m\u001b[1;33m,\u001b[0m \u001b[1;36m0.0001\u001b[0m\u001b[1;33m,\u001b[0m \u001b[1;36m0.001\u001b[0m\u001b[1;33m,\u001b[0m \u001b[1;36m0.01\u001b[0m\u001b[1;33m,\u001b[0m \u001b[1;36m0.1\u001b[0m\u001b[1;33m,\u001b[0m \u001b[1;36m0.5\u001b[0m\u001b[1;33m,\u001b[0m \u001b[1;36m1.0\u001b[0m\u001b[1;33m,\u001b[0m \u001b[1;36m2.0\u001b[0m\u001b[1;33m,\u001b[0m \u001b[1;36m10.0\u001b[0m\u001b[1;33m]\u001b[0m \u001b[1;33m)\u001b[0m\u001b[1;33m\u001b[0m\u001b[0m\n\u001b[0;32m      7\u001b[0m \u001b[1;32mprint\u001b[0m \u001b[0mtable\u001b[0m\u001b[1;33m\u001b[0m\u001b[0m\n\u001b[1;32m----> 8\u001b[1;33m \u001b[1;32mprint\u001b[0m \u001b[1;34m\"{0:.1f}%\"\u001b[0m\u001b[1;33m.\u001b[0m\u001b[0mformat\u001b[0m\u001b[1;33m(\u001b[0m\u001b[0mnp\u001b[0m\u001b[1;33m.\u001b[0m\u001b[0marray\u001b[0m\u001b[1;33m(\u001b[0m\u001b[0mtable\u001b[0m\u001b[1;33m)\u001b[0m\u001b[1;33m)\u001b[0m\u001b[1;33m\u001b[0m\u001b[0m\n\u001b[0m",
      "\u001b[1;31mValueError\u001b[0m: Unknown format code 'f' for object of type 'str'"
     ]
    }
   ],
   "source": [
    "#for i in scores:\n",
    "scores_rounded = np.round_(scores, 3) \n",
    "print scores_rounded\n",
    "\n",
    "print type(scores_rounded[2])\n",
    "table = zip (scores_rounded,[0.0, 0.0001, 0.001, 0.01, 0.1, 0.5, 1.0, 2.0, 10.0] )\n",
    "print table\n",
    "print \"{0:.1f}%\".format(np.array(table))"
   ]
  },
  {
   "cell_type": "code",
   "execution_count": 297,
   "metadata": {},
   "outputs": [
    {
     "name": "stdout",
     "output_type": "stream",
     "text": [
      "GridSearchCV(cv=None, error_score='raise',\n",
      "       estimator=LogisticRegression(C=1.0, class_weight=None, dual=False, fit_intercept=True,\n",
      "          intercept_scaling=1, max_iter=100, multi_class='ovr',\n",
      "          penalty='l2', random_state=None, solver='liblinear', tol=0.0001,\n",
      "          verbose=0),\n",
      "       fit_params={}, iid=True, loss_func=None, n_jobs=1,\n",
      "       param_grid={'C': [0.0001, 0.001, 0.01, 0.1, 0.5, 0.9, 0.99, 1, 5, 10, 100]},\n",
      "       pre_dispatch='2*n_jobs', refit=True, score_func=None,\n",
      "       scoring='f1_weighted', verbose=0)\n",
      "Logistic Regression best f1 score for training data: 0.767393454395\n",
      "Logistic Regression best regularization parameter: 0.5\n",
      "scores [0.49025589669234637, 0.65291334302019521, 0.72680331957672106, 0.76115762832299683, 0.76739345439454798, 0.76093867068647525, 0.75942242331090248, 0.75942242331090248, 0.75646671400119525, 0.7501871359976815, 0.74757550907094417]\n",
      "regularization_c [0.0, 0.0001, 0.001, 0.01, 0.1, 0.5, 1.0, 2.0, 10.0]\n"
     ]
    },
    {
     "ename": "AttributeError",
     "evalue": "'GridSearchCV' object has no attribute 'coef_'",
     "output_type": "error",
     "traceback": [
      "\u001b[1;31m---------------------------------------------------------------------------\u001b[0m",
      "\u001b[1;31mAttributeError\u001b[0m                            Traceback (most recent call last)",
      "\u001b[1;32m<ipython-input-297-2054df2b9b95>\u001b[0m in \u001b[0;36m<module>\u001b[1;34m()\u001b[0m\n\u001b[0;32m     17\u001b[0m \u001b[1;32mprint\u001b[0m \u001b[1;33m[\u001b[0m\u001b[1;36m0.0\u001b[0m\u001b[1;33m,\u001b[0m \u001b[1;36m0.0001\u001b[0m\u001b[1;33m,\u001b[0m \u001b[1;36m0.001\u001b[0m\u001b[1;33m,\u001b[0m \u001b[1;36m0.01\u001b[0m\u001b[1;33m,\u001b[0m \u001b[1;36m0.1\u001b[0m\u001b[1;33m,\u001b[0m \u001b[1;36m0.5\u001b[0m\u001b[1;33m,\u001b[0m \u001b[1;36m1.0\u001b[0m\u001b[1;33m,\u001b[0m \u001b[1;36m2.0\u001b[0m\u001b[1;33m,\u001b[0m \u001b[1;36m10.0\u001b[0m\u001b[1;33m]\u001b[0m\u001b[1;33m\u001b[0m\u001b[0m\n\u001b[0;32m     18\u001b[0m \u001b[1;33m\u001b[0m\u001b[0m\n\u001b[1;32m---> 19\u001b[1;33m \u001b[0mweights\u001b[0m \u001b[1;33m=\u001b[0m \u001b[1;33m[\u001b[0m\u001b[0my\u001b[0m\u001b[1;33m[\u001b[0m\u001b[1;36m1\u001b[0m\u001b[1;33m]\u001b[0m \u001b[1;32mfor\u001b[0m \u001b[0my\u001b[0m \u001b[1;32min\u001b[0m \u001b[0mgrid\u001b[0m\u001b[1;33m.\u001b[0m\u001b[0mcoef_\u001b[0m\u001b[1;33m]\u001b[0m\u001b[1;33m\u001b[0m\u001b[0m\n\u001b[0m\u001b[0;32m     20\u001b[0m \u001b[1;32mprint\u001b[0m \u001b[1;34m'weights'\u001b[0m\u001b[1;33m,\u001b[0m\u001b[1;33m\u001b[0m\u001b[0m\n\u001b[0;32m     21\u001b[0m \u001b[1;32mprint\u001b[0m \u001b[0mweights\u001b[0m\u001b[1;33m\u001b[0m\u001b[0m\n",
      "\u001b[1;31mAttributeError\u001b[0m: 'GridSearchCV' object has no attribute 'coef_'"
     ]
    }
   ],
   "source": [
    "#LR Model\n",
    "regularization_c = {'C': [0.0001, 0.001, 0.01, 0.1, 0.5, 0.9, 0.99,1,5,10,100]}\n",
    "LR_model = LogisticRegression(penalty=\"l2\")\n",
    "grid = GridSearchCV(estimator=LR_model, param_grid=regularization_c, scoring = \"f1_weighted\")\n",
    "grid.fit(train_vec, train_labels)\n",
    "print(grid)\n",
    "# summarize the results of the grid search\n",
    "print \"Logistic Regression best f1 score for training data: \" + str(grid.best_score_)\n",
    "print \"Logistic Regression best regularization parameter: \"+ str(grid.best_estimator_.C)\n",
    "\n",
    "\n",
    "scores = [x[1] for x in grid.grid_scores_]\n",
    "print 'scores',\n",
    "print scores\n",
    "\n",
    "print 'regularization_c',\n",
    "print [0.0, 0.0001, 0.001, 0.01, 0.1, 0.5, 1.0, 2.0, 10.0]\n",
    "\n",
    "weights = [y[1] for y in grid.coef_]\n",
    "print 'weights',\n",
    "print weights\n",
    "\n",
    "print 'regularization_c',\n",
    "print [0.0, 0.0001, 0.001, 0.01, 0.1, 0.5, 1.0, 2.0, 10.0]\n",
    "\n",
    "#Logistic regression estimates a weight vector for each class, which you can access with the coef_ attribute. \n",
    "#Output the sum of the squared weight values for each class for each setting of the C parameter. \n",
    "#Briefly explain the relationship between the sum and the value of C."
   ]
  },
  {
   "cell_type": "code",
   "execution_count": 307,
   "metadata": {},
   "outputs": [
    {
     "name": "stdout",
     "output_type": "stream",
     "text": [
      "Training Sample Size:0.0001 Training Sample Size:0.001 Training Sample Size:0.01 Training Sample Size:0.1 Training Sample Size:0.5 Training Sample Size:0.9 Training Sample Size:0.99 Training Sample Size:1 Training Sample Size:5 Training Sample Size:10 Training Sample Size:100 [array([[ -1.52533940e-03,  -1.18724621e-03,  -7.41337960e-05, ...,\n",
      "         -4.49042447e-05,  -8.98084894e-05,  -3.63943428e-05],\n",
      "       [  5.36222087e-04,  -1.84070945e-03,  -9.29400417e-05, ...,\n",
      "         -4.10522482e-05,  -8.21044964e-05,   7.18034641e-05],\n",
      "       [  6.53037643e-04,   3.06177763e-03,   9.30135863e-05, ...,\n",
      "          4.93317908e-05,   9.86635817e-05,  -3.20281368e-05],\n",
      "       [ -1.55153047e-03,  -2.11939984e-03,  -8.16528016e-05, ...,\n",
      "         -3.74927861e-05,  -7.49855723e-05,  -3.47161226e-05]]), array([[ -7.37338972e-03,  -7.55560608e-05,  -3.35096792e-04, ...,\n",
      "         -2.22302635e-04,  -4.44605270e-04,  -1.71376253e-04],\n",
      "       [  3.51190392e-03,  -9.33029030e-03,  -9.17335124e-04, ...,\n",
      "         -1.91676592e-04,  -3.83353184e-04,   7.03305519e-04],\n",
      "       [  3.42056988e-03,   1.06959921e-02,   7.57816056e-04, ...,\n",
      "          3.12200087e-04,   6.24400175e-04,  -1.90797073e-04],\n",
      "       [ -7.79739597e-03,  -8.17557607e-03,  -4.64336611e-04, ...,\n",
      "         -1.42625767e-04,  -2.85251534e-04,  -1.78475056e-04]]), array([[-0.02108808,  0.02496143, -0.00042801, ..., -0.00042761,\n",
      "        -0.00085521, -0.0002521 ],\n",
      "       [ 0.01794572, -0.01786605, -0.00508023, ..., -0.00049047,\n",
      "        -0.00098094,  0.00400537],\n",
      "       [ 0.00337099,  0.00349431,  0.00335782, ...,  0.00081788,\n",
      "         0.00163576, -0.00106663],\n",
      "       [-0.02020409, -0.01889253, -0.00139614, ..., -0.00024155,\n",
      "        -0.0004831 , -0.00024377]]), array([[ -4.91276644e-02,   5.18234328e-02,  -7.74443128e-05, ...,\n",
      "         -3.67475063e-04,  -7.34950126e-04,  -6.81473229e-05],\n",
      "       [  7.23395969e-02,  -3.18670900e-03,  -7.70721595e-03, ...,\n",
      "         -8.15331861e-04,  -1.63066372e-03,   9.26851041e-03],\n",
      "       [ -2.72490153e-02,  -6.26942012e-02,   4.40067380e-03, ...,\n",
      "          1.17555467e-03,   2.35110933e-03,  -5.20921662e-03],\n",
      "       [ -4.65639406e-02,  -1.60640201e-02,  -3.38697797e-03, ...,\n",
      "         -2.37387714e-04,  -4.74775428e-04,  -4.39800968e-05]]), array([[ -9.05527784e-02,   2.81716757e-02,  -5.40551983e-06, ...,\n",
      "         -1.18036331e-04,  -2.36072661e-04,  -7.57074246e-06],\n",
      "       [  1.25338005e-01,   3.32603696e-02,  -4.89917141e-03, ...,\n",
      "         -9.61006563e-04,  -1.92201313e-03,   1.42254391e-02],\n",
      "       [ -5.94763615e-02,  -1.30456374e-01,   2.90835196e-03, ...,\n",
      "          1.23710316e-03,   2.47420632e-03,  -1.08477656e-02],\n",
      "       [ -8.05365481e-02,  -8.62382934e-03,  -6.85504323e-03, ...,\n",
      "         -1.59141506e-04,  -3.18283012e-04,  -6.19701424e-06]]), array([[ -1.12900317e-01,   1.48805915e-02,  -2.41069356e-05, ...,\n",
      "         -4.70871817e-05,  -9.41743634e-05,  -7.89644617e-06],\n",
      "       [  1.41037376e-01,   4.89454847e-02,  -3.50362359e-03, ...,\n",
      "         -9.89554246e-04,  -1.97910849e-03,   1.69584804e-02],\n",
      "       [ -6.98120760e-02,  -1.52926004e-01,   2.21365493e-03, ...,\n",
      "          1.24813821e-03,   2.49627642e-03,  -1.27601603e-02],\n",
      "       [ -9.59550479e-02,  -5.26738064e-03,  -8.61086150e-03, ...,\n",
      "         -1.29537287e-04,  -2.59074575e-04,  -3.95842635e-06]]), array([[ -1.17080341e-01,   1.23476588e-02,  -6.23306708e-05, ...,\n",
      "         -4.18320352e-05,  -8.36640703e-05,  -1.64944678e-05],\n",
      "       [  1.43364225e-01,   5.16049182e-02,  -3.29353483e-03, ...,\n",
      "         -9.88396792e-04,  -1.97679358e-03,   1.74507640e-02],\n",
      "       [ -7.11771040e-02,  -1.56359319e-01,   2.10094348e-03, ...,\n",
      "          1.24988737e-03,   2.49977474e-03,  -1.30273819e-02],\n",
      "       [ -9.87805023e-02,  -4.69434052e-03,  -8.92269455e-03, ...,\n",
      "         -1.24424804e-04,  -2.48849608e-04,  -6.84047981e-06]]), array([[ -1.17084111e-01,   1.24634998e-02,  -5.21132286e-06, ...,\n",
      "         -3.77579219e-05,  -7.55158439e-05,  -3.02414890e-06],\n",
      "       [  1.43724616e-01,   5.18006728e-02,  -3.29076754e-03, ...,\n",
      "         -9.95617694e-04,  -1.99123539e-03,   1.75740401e-02],\n",
      "       [ -7.14264697e-02,  -1.56654876e-01,   2.10126061e-03, ...,\n",
      "          1.24893220e-03,   2.49786440e-03,  -1.30475152e-02],\n",
      "       [ -9.91085967e-02,  -4.55783234e-03,  -8.96121937e-03, ...,\n",
      "         -1.23625364e-04,  -2.47250728e-04,  -7.97377779e-06]]), array([[ -1.98097916e-01,  -2.43389646e-02,  -9.02364057e-05, ...,\n",
      "         -1.41523109e-05,  -2.83046219e-05,  -2.16720741e-05],\n",
      "       [  1.80336644e-01,   1.04475380e-01,  -1.05697320e-03, ...,\n",
      "         -9.86395708e-04,  -1.97279142e-03,   3.00758701e-02],\n",
      "       [ -9.59018824e-02,  -2.08909982e-01,   8.07177375e-04, ...,\n",
      "          1.35223813e-03,   2.70447626e-03,  -1.48591391e-02],\n",
      "       [ -1.53266873e-01,   8.10375003e-03,  -1.36492080e-02, ...,\n",
      "         -6.52457476e-05,  -1.30491495e-04,  -5.35927656e-05]]), array([[ -2.41768280e-01,  -4.00176714e-02,  -2.53992065e-04, ...,\n",
      "         -3.97404963e-05,  -7.94809926e-05,  -6.07176182e-05],\n",
      "       [  1.97170329e-01,   1.32844717e-01,  -1.08247068e-03, ...,\n",
      "         -9.93492264e-04,  -1.98698453e-03,   3.75240577e-02],\n",
      "       [ -1.06196400e-01,  -2.25345370e-01,   1.03960321e-03, ...,\n",
      "          1.43748861e-03,   2.87497722e-03,  -1.40848865e-02],\n",
      "       [ -1.78800423e-01,   1.36411423e-02,  -1.51823928e-02, ...,\n",
      "         -2.21709506e-05,  -4.43419011e-05,  -1.27271714e-05]]), array([[ -4.27210676e-01,  -1.21389233e-01,  -2.26202661e-03, ...,\n",
      "         -3.53233772e-04,  -7.06467544e-04,  -5.42703072e-04],\n",
      "       [  2.79528640e-01,   2.63463332e-01,  -8.42853111e-03, ...,\n",
      "         -1.19512356e-03,  -2.39024712e-03,   6.59014678e-02],\n",
      "       [ -1.39922196e-01,  -2.68139871e-01,   3.04374801e-03, ...,\n",
      "          1.80470524e-03,   3.60941048e-03,  -7.22269577e-03],\n",
      "       [ -2.80244570e-01,   2.84324698e-02,  -1.97999508e-02, ...,\n",
      "         -1.07318713e-04,  -2.14637426e-04,  -1.64657447e-04]])]\n"
     ]
    }
   ],
   "source": [
    "def P3(regularization_c, accuracies):\n",
    "\n",
    "### STUDENT START ###\n",
    "    #iterate over different regularization weights\n",
    "    for c_size in (regularization_c):\n",
    "        #builds model\n",
    "        LR_model = LogisticRegression(penalty=\"l2\", C = c_size)\n",
    "        LR_model.fit(train_vec, train_labels)\n",
    "        \n",
    "        #makes predictions on the dev dataset with the model we just built\n",
    "        test_predicted_labels = LR_model.predict(test_vec)\n",
    "\n",
    "        #accuracy Calcs\n",
    "        wrong_prediction = (test_predicted_labels != test_labels)\n",
    "        print \"Training Sample Size:\" + str(c_size), \n",
    "        accuracies.append(LR_model.coef_)\n",
    "        #time_list.append(run_time)\n",
    "\n",
    "### STUDENT END ###\n",
    "regularization_c =  [0.0001, 0.001, 0.01, 0.1, 0.5, 0.9, 0.99,1,5,10,100]\n",
    "accuracies = []\n",
    "P3(regularization_c, accuracies)\n",
    "print accuracies"
   ]
  },
  {
   "cell_type": "markdown",
   "metadata": {},
   "source": [
    "ANSWER:"
   ]
  },
  {
   "cell_type": "markdown",
   "metadata": {},
   "source": [
    "(4) Train a logistic regression model. Find the 5 features with the largest weights for each label -- 20 features in total. Create a table with 20 rows and 4 columns that shows the weight for each of these features for each of the labels. Create the table again with bigram features. Any surprising features in this table?\n",
    "\n",
    "[5 pts]"
   ]
  },
  {
   "cell_type": "code",
   "execution_count": 6,
   "metadata": {
    "collapsed": true
   },
   "outputs": [],
   "source": [
    "#def P4():\n",
    "### STUDENT START ###\n",
    "\n",
    "\n",
    "### STUDENT END ###\n",
    "#P4()"
   ]
  },
  {
   "cell_type": "markdown",
   "metadata": {},
   "source": [
    "ANSWER:"
   ]
  },
  {
   "cell_type": "markdown",
   "metadata": {},
   "source": [
    "(5) Try to improve the logistic regression classifier by passing a custom preprocessor to CountVectorizer. The preprocessing function runs on the raw text, before it is split into words by the tokenizer. Your preprocessor should try to normalize the input in various ways to improve generalization. For example, try lowercasing everything, replacing sequences of numbers with a single token, removing various other non-letter characters, and shortening long words. If you're not already familiar with regular expressions for manipulating strings, see https://docs.python.org/2/library/re.html, and re.sub() in particular. With your new preprocessor, how much did you reduce the size of the dictionary?\n",
    "\n",
    "For reference, I was able to improve dev F1 by 2 points.\n",
    "\n",
    "[4 pts]"
   ]
  },
  {
   "cell_type": "code",
   "execution_count": 7,
   "metadata": {
    "collapsed": true
   },
   "outputs": [],
   "source": [
    "def empty_preprocessor(s):\n",
    "    return s\n",
    "\n",
    "#def better_preprocessor(s):\n",
    "### STUDENT START ###\n",
    "\n",
    "### STUDENT END ###\n",
    "\n",
    "#def P5():\n",
    "### STUDENT START ###\n",
    "\n",
    "    \n",
    "### STUDENT END ###\n",
    "#P5()"
   ]
  },
  {
   "cell_type": "markdown",
   "metadata": {},
   "source": [
    "(6) The idea of regularization is to avoid learning very large weights (which are likely to fit the training data, but not generalize well) by adding a penalty to the total size of the learned weights. That is, logistic regression seeks the set of weights that minimizes errors in the training data AND has a small size. The default regularization, L2, computes this size as the sum of the squared weights (see P3, above). L1 regularization computes this size as the sum of the absolute values of the weights. The result is that whereas L2 regularization makes all the weights relatively small, L1 regularization drives lots of the weights to 0, effectively removing unimportant features.\n",
    "\n",
    "Train a logistic regression model using a \"l1\" penalty. Output the number of learned weights that are not equal to zero. How does this compare to the number of non-zero weights you get with \"l2\"? Now, reduce the size of the vocabulary by keeping only those features that have at least one non-zero weight and retrain a model using \"l2\".\n",
    "\n",
    "Make a plot showing accuracy of the re-trained model vs. the vocabulary size you get when pruning unused features by adjusting the C parameter.\n",
    "\n",
    "Note: The gradient descent code that trains the logistic regression model sometimes has trouble converging with extreme settings of the C parameter. Relax the convergence criteria by setting tol=.01 (the default is .0001).\n",
    "\n",
    "[4 pts]"
   ]
  },
  {
   "cell_type": "code",
   "execution_count": 8,
   "metadata": {
    "collapsed": true
   },
   "outputs": [],
   "source": [
    "def P6():\n",
    "    # Keep this random seed here to make comparison easier.\n",
    "    np.random.seed(0)\n",
    "\n",
    "    ### STUDENT START ###\n",
    "\n",
    "    \n",
    "\n",
    "    ### STUDENT END ###\n",
    "P6()"
   ]
  },
  {
   "cell_type": "markdown",
   "metadata": {},
   "source": [
    "(7) Use the TfidfVectorizer -- how is this different from the CountVectorizer? Train a logistic regression model with C=100.\n",
    "\n",
    "Make predictions on the dev data and show the top 3 documents where the ratio R is largest, where R is:\n",
    "\n",
    "maximum predicted probability / predicted probability of the correct label\n",
    "\n",
    "What kinds of mistakes is the model making? Suggest a way to address one particular issue that you see.\n",
    "\n",
    "[4 pts]"
   ]
  },
  {
   "cell_type": "code",
   "execution_count": 11,
   "metadata": {
    "collapsed": true
   },
   "outputs": [],
   "source": [
    "#def P7():\n",
    "    ### STUDENT START ###\n",
    "\n",
    "\n",
    "\n",
    "    ### STUDENT END ###\n",
    "#P7()"
   ]
  },
  {
   "cell_type": "markdown",
   "metadata": {},
   "source": [
    "ANSWER:"
   ]
  },
  {
   "cell_type": "markdown",
   "metadata": {},
   "source": [
    "(8) EXTRA CREDIT\n",
    "\n",
    "Try implementing one of your ideas based on your error analysis. Use logistic regression as your underlying model.\n",
    "\n",
    "- [1 pt] for a reasonable attempt\n",
    "- [2 pts] for improved performance"
   ]
  }
 ],
 "metadata": {
  "anaconda-cloud": {},
  "kernelspec": {
   "display_name": "Python [default]",
   "language": "python",
   "name": "python2"
  },
  "language_info": {
   "codemirror_mode": {
    "name": "ipython",
    "version": 2
   },
   "file_extension": ".py",
   "mimetype": "text/x-python",
   "name": "python",
   "nbconvert_exporter": "python",
   "pygments_lexer": "ipython2",
   "version": "2.7.13"
  }
 },
 "nbformat": 4,
 "nbformat_minor": 1
}
