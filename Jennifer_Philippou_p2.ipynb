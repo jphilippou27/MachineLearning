{
 "cells": [
  {
   "cell_type": "markdown",
   "metadata": {},
   "source": [
    "# Project 2: Topic Classification"
   ]
  },
  {
   "cell_type": "markdown",
   "metadata": {},
   "source": [
    "In this project, you'll work with text data from newsgroup postings on a variety of topics. You'll train classifiers to distinguish between the topics based on the text of the posts. Whereas with digit classification, the input is relatively dense: a 28x28 matrix of pixels, many of which are non-zero, here we'll represent each document with a \"bag-of-words\" model. As you'll see, this makes the feature representation quite sparse -- only a few words of the total vocabulary are active in any given document. The bag-of-words assumption here is that the label depends only on the words; their order is not important.\n",
    "\n",
    "The SK-learn documentation on feature extraction will prove useful:\n",
    "http://scikit-learn.org/stable/modules/feature_extraction.html\n",
    "\n",
    "Each problem can be addressed succinctly with the included packages -- please don't add any more. Grading will be based on writing clean, commented code, along with a few short answers.\n",
    "\n",
    "As always, you're welcome to work on the project in groups and discuss ideas on the course wall, but please prepare your own write-up and write your own code."
   ]
  },
  {
   "cell_type": "code",
   "execution_count": 1,
   "metadata": {
    "collapsed": true
   },
   "outputs": [],
   "source": [
    "# This tells matplotlib not to try opening a new window for each plot.\n",
    "%matplotlib inline\n",
    "\n",
    "# General libraries.\n",
    "import re\n",
    "import numpy as np\n",
    "import matplotlib.pyplot as plt\n",
    "\n",
    "# SK-learn libraries for learning.\n",
    "from sklearn.pipeline import Pipeline\n",
    "from sklearn.neighbors import KNeighborsClassifier\n",
    "from sklearn.linear_model import LogisticRegression\n",
    "from sklearn.naive_bayes import BernoulliNB\n",
    "from sklearn.naive_bayes import MultinomialNB\n",
    "from sklearn.grid_search import GridSearchCV\n",
    "\n",
    "# SK-learn libraries for evaluation.\n",
    "from sklearn.metrics import confusion_matrix\n",
    "from sklearn import metrics\n",
    "from sklearn.metrics import classification_report\n",
    "\n",
    "# SK-learn library for importing the newsgroup data.\n",
    "from sklearn.datasets import fetch_20newsgroups\n",
    "\n",
    "# SK-learn libraries for feature extraction from text.\n",
    "from sklearn.feature_extraction.text import *"
   ]
  },
  {
   "cell_type": "markdown",
   "metadata": {},
   "source": [
    "Load the data, stripping out metadata so that we learn classifiers that only use textual features. By default, newsgroups data is split into train and test sets. We further split the test so we have a dev set. Note that we specify 4 categories to use for this project. If you remove the categories argument from the fetch function, you'll get all 20 categories."
   ]
  },
  {
   "cell_type": "code",
   "execution_count": 99,
   "metadata": {},
   "outputs": [
    {
     "name": "stdout",
     "output_type": "stream",
     "text": [
      "training label shape: (2034L,)\n",
      "test label shape: (677L,)\n",
      "dev label shape: (676L,)\n",
      "labels names: ['alt.atheism', 'comp.graphics', 'sci.space', 'talk.religion.misc']\n",
      "/n\n"
     ]
    }
   ],
   "source": [
    "categories = ['alt.atheism', 'talk.religion.misc', 'comp.graphics', 'sci.space']\n",
    "newsgroups_train = fetch_20newsgroups(subset='train',\n",
    "                                      remove=('headers', 'footers', 'quotes'),\n",
    "                                      categories=categories)\n",
    "newsgroups_test = fetch_20newsgroups(subset='test',\n",
    "                                     remove=('headers', 'footers', 'quotes'),\n",
    "                                     categories=categories)\n",
    "\n",
    "num_test = len(newsgroups_test.target)\n",
    "test_data, test_labels = newsgroups_test.data[num_test/2:], newsgroups_test.target[num_test/2:]\n",
    "dev_data, dev_labels = newsgroups_test.data[:num_test/2], newsgroups_test.target[:num_test/2]\n",
    "train_data, train_labels = newsgroups_train.data, newsgroups_train.target\n",
    "\n",
    "print 'training label shape:', train_labels.shape\n",
    "print 'test label shape:', test_labels.shape\n",
    "print 'dev label shape:', dev_labels.shape\n",
    "print 'labels names:', newsgroups_train.target_names"
   ]
  },
  {
   "cell_type": "markdown",
   "metadata": {},
   "source": [
    "(1) For each of the first 5 training examples, print the text of the message along with the label.\n",
    "\n",
    "[2 pts]"
   ]
  },
  {
   "cell_type": "code",
   "execution_count": 101,
   "metadata": {
    "scrolled": true
   },
   "outputs": [
    {
     "name": "stdout",
     "output_type": "stream",
     "text": [
      "example No: 1\n",
      "label: 1\n",
      "category: comp.graphics\n",
      "text: Hi,\n",
      "\n",
      "I've noticed that if you only save a model (with all your mapping planes\n",
      "positioned carefully) to a .3DS file that when you reload it after restarting\n",
      "3DS, they are given a default position and orientation.  But if you save\n",
      "to a .PRJ file their positions/orientation are preserved.  Does anyone\n",
      "know why this information is not stored in the .3DS file?  Nothing is\n",
      "explicitly said in the manual about saving texture rules in the .PRJ file. \n",
      "I'd like to be able to read the texture rule information, does anyone have \n",
      "the format for the .PRJ file?\n",
      "\n",
      "Is the .CEL file format available from somewhere?\n",
      "\n",
      "Rych\n",
      "\n",
      "--------------------------------------\n",
      "example No: 2\n",
      "label: 3\n",
      "category: talk.religion.misc\n",
      "text: \n",
      "\n",
      "Seems to be, barring evidence to the contrary, that Koresh was simply\n",
      "another deranged fanatic who thought it neccessary to take a whole bunch of\n",
      "folks with him, children and all, to satisfy his delusional mania. Jim\n",
      "Jones, circa 1993.\n",
      "\n",
      "\n",
      "Nope - fruitcakes like Koresh have been demonstrating such evil corruption\n",
      "for centuries.\n",
      "\n",
      "--------------------------------------\n",
      "example No: 3\n",
      "label: 2\n",
      "category: sci.space\n",
      "text: \n",
      " >In article <1993Apr19.020359.26996@sq.sq.com>, msb@sq.sq.com (Mark Brader) \n",
      "\n",
      "MB>                                                             So the\n",
      "MB> 1970 figure seems unlikely to actually be anything but a perijove.\n",
      "\n",
      "JG>Sorry, _perijoves_...I'm not used to talking this language.\n",
      "\n",
      "Couldn't we just say periapsis or apoapsis?\n",
      "\n",
      " \n",
      "\n",
      "--------------------------------------\n",
      "example No: 4\n",
      "label: 0\n",
      "category: alt.atheism\n",
      "text: I have a request for those who would like to see Charley Wingate\n",
      "respond to the \"Charley Challenges\" (and judging from my e-mail, there\n",
      "appear to be quite a few of you.)  \n",
      "\n",
      "It is clear that Mr. Wingate intends to continue to post tangential or\n",
      "unrelated articles while ingoring the Challenges themselves.  Between\n",
      "the last two re-postings of the Challenges, I noted perhaps a dozen or\n",
      "more posts by Mr. Wingate, none of which answered a single Challenge.  \n",
      "\n",
      "It seems unmistakable to me that Mr. Wingate hopes that the questions\n",
      "will just go away, and he is doing his level best to change the\n",
      "subject.  Given that this seems a rather common net.theist tactic, I\n",
      "would like to suggest that we impress upon him our desire for answers,\n",
      "in the following manner:\n",
      "\n",
      "1. Ignore any future articles by Mr. Wingate that do not address the\n",
      "Challenges, until he answers them or explictly announces that he\n",
      "refuses to do so.\n",
      "\n",
      "--or--\n",
      "\n",
      "2. If you must respond to one of his articles, include within it\n",
      "something similar to the following:\n",
      "\n",
      "    \"Please answer the questions posed to you in the Charley Challenges.\"\n",
      "\n",
      "Really, I'm not looking to humiliate anyone here, I just want some\n",
      "honest answers.  You wouldn't think that honesty would be too much to\n",
      "ask from a devout Christian, would you?  \n",
      "\n",
      "Nevermind, that was a rhetorical question.\n",
      "\n",
      "--------------------------------------\n",
      "example No: 5\n",
      "label: 2\n",
      "category: sci.space\n",
      "text: AW&ST  had a brief blurb on a Manned Lunar Exploration confernce\n",
      "May 7th  at Crystal City Virginia, under the auspices of AIAA.\n",
      "\n",
      "Does anyone know more about this?  How much, to attend????\n",
      "\n",
      "Anyone want to go?\n",
      "\n",
      "--------------------------------------\n"
     ]
    }
   ],
   "source": [
    "def P1(num_examples):\n",
    "### STUDENT START ###\n",
    "    for i in range(0,num_examples):\n",
    "        print \"example No: \" + str(i+1)\n",
    "        #show the label for the message\n",
    "        print \"label: \" + str(train_labels[i])\n",
    "        #show the category\n",
    "        print \"category: \" + str(newsgroups_train.target_names[train_labels[i]])\n",
    "        #show the text for the message\n",
    "        print \"text: \" + str(train_data[i])+ \"\\n\"\n",
    "        print \"--------------------------------------\"\n",
    "\n",
    "### STUDENT END ###\n",
    "P1(5)"
   ]
  },
  {
   "cell_type": "markdown",
   "metadata": {},
   "source": [
    "(2) Use CountVectorizer to turn the raw training text into feature vectors. You should use the fit_transform function, which makes 2 passes through the data: first it computes the vocabulary (\"fit\"), second it converts the raw text into feature vectors using the vocabulary (\"transform\").\n",
    "\n",
    "The vectorizer has a lot of options. To get familiar with some of them, write code to answer these questions:\n",
    "\n",
    "a. The output of the transform (also of fit_transform) is a sparse matrix: http://docs.scipy.org/doc/scipy-0.14.0/reference/generated/scipy.sparse.csr_matrix.html. What is the size of the vocabulary? What is the average number of non-zero features per example? What fraction of the entries in the matrix are non-zero? Hint: use \"nnz\" and \"shape\" attributes.\n",
    "\n",
    "b. What are the 0th and last feature strings (in alphabetical order)? Hint: use the vectorizer's get_feature_names function.\n",
    "\n",
    "c. Specify your own vocabulary with 4 words: [\"atheism\", \"graphics\", \"space\", \"religion\"]. Confirm the training vectors are appropriately shaped. Now what's the average number of non-zero features per example?\n",
    "\n",
    "d. Instead of extracting unigram word features, use \"analyzer\" and \"ngram_range\" to extract bigram and trigram character features. What size vocabulary does this yield?\n",
    "\n",
    "e. Use the \"min_df\" argument to prune words that appear in fewer than 10 documents. What size vocabulary does this yield?\n",
    "\n",
    "f. Using the standard CountVectorizer, what fraction of the words in the dev data are missing from the vocabulary? Hint: build a vocabulary for both train and dev and look at the size of the difference.\n",
    "\n",
    "[6 pts]"
   ]
  },
  {
   "cell_type": "code",
   "execution_count": 438,
   "metadata": {},
   "outputs": [
    {
     "name": "stdout",
     "output_type": "stream",
     "text": [
      "Question 2a\n",
      "The size of the vocabulary (single grams) is:  26879\n",
      "The average number of non-zero features per example is:  96.7059980334\n",
      "The fraction of the entries in the matrix that are non-zero is: 0.00359782722696\n",
      "\n",
      "Question 2b\n",
      "The 0th feature is: 00\n",
      "The last feature is: zyxel\n",
      "\n",
      "Question 2c\n",
      "The average number of non-zero features per example (with new 4 word vocab) is:  0.268436578171\n",
      "\n",
      "Question 2d\n",
      "Bigrams and trigrams result in a vocabulary of size: 35478\n",
      "\n",
      "Question 2e\n",
      "Words with at least 10 instances result in a vocabulary of size: 3064\n",
      "\n",
      "Question 2f\n",
      "The fraction of the words in the dev data  missing from the vocabulary is:  0.247876400345\n"
     ]
    }
   ],
   "source": [
    "def P2():\n",
    "### STUDENT START ###\n",
    "    ########################################################\n",
    "    #Part A\n",
    "    #singleGram\n",
    "    vectorizer = CountVectorizer()\n",
    "    #bin words, \n",
    "    X = vectorizer.fit_transform(train_data)\n",
    "    #Convert to matrix\n",
    "    #X.toarray()\n",
    "    print \"Question 2a\"\n",
    "    print \"The size of the vocabulary (single grams) is:  \" + str(X.shape[1])\n",
    "    \n",
    "    print \"The average number of non-zero features per example is: \",\n",
    "    #calc missing values over total number of examples\n",
    "    print X.nnz/float(X.shape[0]) #shows 196,700 words\n",
    "    \n",
    "    print \"The fraction of the entries in the matrix that are non-zero is:\",\n",
    "    #Calc Sparsity \n",
    "    print str((X.nnz)/float(X.shape[0]*X.shape[1]))+ \"\\n\"\n",
    "    \n",
    "    ########################################################\n",
    "    #Part B\n",
    "    print \"Question 2b\" \n",
    "    feature_names =vectorizer.get_feature_names()\n",
    "    print \"The 0th feature is: \" + str((feature_names[0]))\n",
    "    print \"The last feature is: \" + str(feature_names[-1]) +\"\\n\"\n",
    "    \n",
    "    ########################################################\n",
    "    #Part C\n",
    "    print \"Question 2c\" \n",
    "    #Create new vocab list\n",
    "    vocab = [\"atheism\", \"graphics\", \"space\", \"religion\"]\n",
    "    #binarize it\n",
    "    vocab_array = vectorizer.fit_transform(vocab) #.toarray()\n",
    "    #apply bins to training dataset\n",
    "    vocab_2_data = vectorizer.transform(train_data) #.toarray()\n",
    "    #calc blank rate and overall shape\n",
    "    print \"The average number of non-zero features per example (with new 4 word vocab) is: \",\n",
    "    print  str((vocab_2_data.nnz/float(vocab_2_data.shape[0]))) + \"\\n\"\n",
    "        \n",
    "    ########################################################\n",
    "    #Part D\n",
    "    print \"Question 2d\" \n",
    "    #for words, Bi and TriGrams\n",
    "    bigram_vectorizer = CountVectorizer(analyzer='char',ngram_range=(2, 3),token_pattern=r'\\b\\w+\\b', min_df=1)\n",
    "\n",
    "    #bin words and convert to matrix\n",
    "    X_2 = bigram_vectorizer.fit_transform(train_data)#.toarray()\n",
    "    X_2\n",
    "    print \"Bigrams and trigrams result in a vocabulary of size: \" + str(X_2.shape[1]) + \"\\n\"\n",
    "    \n",
    "    ########################################################\n",
    "    #Part E\n",
    "    print \"Question 2e\" \n",
    "    #for words, Bi and TriGrams\n",
    "    bigram_vectorizer = CountVectorizer(min_df=10)\n",
    "\n",
    "    #bin words and convert to matrix\n",
    "    X_2 = bigram_vectorizer.fit_transform(train_data)#.toarray()\n",
    "    X_2\n",
    "    print \"Words with at least 10 instances result in a vocabulary of size: \" + str(X_2.shape[1]) + \"\\n\"\n",
    "    \n",
    "    ########################################################\n",
    "    #Part F\n",
    "    print \"Question 2f\" \n",
    "    X = vectorizer.fit_transform(dev_data)\n",
    "    dev_feature_names =vectorizer.get_feature_names()\n",
    "    missing = 0\n",
    "    for i in range(0,len(dev_feature_names)):\n",
    "        if dev_feature_names[i] not in (feature_names):\n",
    "            missing += 1\n",
    "    print \"The fraction of the words in the dev data  missing from the vocabulary is:  \" + str(float(missing)/X.shape[1])\n",
    "    \n",
    "    ### STUDENT END ###\n",
    "P2()"
   ]
  },
  {
   "cell_type": "markdown",
   "metadata": {},
   "source": [
    "(3) Use the default CountVectorizer options and report the f1 score (use metrics.f1_score) for a k nearest neighbors classifier; find the optimal value for k. Also fit a Multinomial Naive Bayes model and find the optimal value for alpha. Finally, fit a logistic regression model and find the optimal value for the regularization strength C using l2 regularization. A few questions:\n",
    "\n",
    "a. Why doesn't nearest neighbors work well for this problem?\n",
    "\n",
    "b. Any ideas why logistic regression doesn't work as well as Naive Bayes?\n",
    "\n",
    "c. Logistic regression estimates a weight vector for each class, which you can access with the coef\\_ attribute. Output the sum of the squared weight values for each class for each setting of the C parameter. Briefly explain the relationship between the sum and the value of C.\n",
    "\n",
    "[4 pts]"
   ]
  },
  {
   "cell_type": "code",
   "execution_count": 338,
   "metadata": {
    "scrolled": true
   },
   "outputs": [
    {
     "name": "stdout",
     "output_type": "stream",
     "text": [
      "KNN best f1 score on Training Data: 0.417778915182\n",
      "KNN best nearest neighbor count: 15\n",
      "\n",
      "Multinomial NB Model best F1: 0.828718198342\n",
      "Multinomial NB Model best Alpha: 0.01\n",
      "\n",
      "Logistic Regression best f1 score for training data: 0.767943492932\n",
      "Logistic Regression best regularization parameter: 0.25\n"
     ]
    }
   ],
   "source": [
    "def P3():\n",
    "    ### STUDENT START ###\n",
    "    ##################################################\n",
    "    #create n grams\n",
    "    #default CountVectorizer options \n",
    "    #singleGram\n",
    "    vectorizer = CountVectorizer()\n",
    "    train_vec = vectorizer.fit_transform(train_data).toarray()\n",
    "    #train_vec.shape\n",
    "    #train_array = train_vec.toarray()\n",
    "    #print train_array [1:20,]\n",
    "    test_vec = vectorizer.transform(test_data)\n",
    "    #print test_vec.shape\n",
    "\n",
    "    ##################################################\n",
    "    #Build KNN model\n",
    "    #report the f1 score (use metrics.f1_score) for a k nearest neighbors classifier;\n",
    "    #find the optimal value for k. \n",
    "    knn_model = KNeighborsClassifier()\n",
    "    n_neighbors = {'n_neighbors': [1, 3, 5, 7, 9, 15]} \n",
    "    #sklearn library required a more explicit measure (ie f1 alone implies binary results and this is a multi class problem)\n",
    "    grid = GridSearchCV(estimator=knn_model, param_grid=n_neighbors, scoring = \"f1_weighted\")\n",
    "    grid.fit(train_vec, train_labels)\n",
    "\n",
    "    # summarize the results of the grid search\n",
    "    print \"KNN best f1 score on Training Data: \" + str(grid.best_score_)\n",
    "    print \"KNN best nearest neighbor count: \" + str(grid.best_estimator_.n_neighbors) + \"\\n\"\n",
    "\n",
    "    ##################################################\n",
    "    #Build MNB model\n",
    "    #Multinomial Naive Bayes model and find the optimal value for alpha. \n",
    "    #gnb_model = BernoulliNB(binarize=0.5) #binarizer function is cutting off here!!\n",
    "    alphas = {'alpha': [0.0001, 0.001, 0.01, 0.1, 0.5, 1.0, 2.0, 10.0]}\n",
    "    grid = GridSearchCV(estimator=clf_model, param_grid=alphas, scoring = \"f1_weighted\")\n",
    "    grid.fit(train_vec, train_labels)\n",
    "    #print(grid)\n",
    "    # summarize the results of the grid search\n",
    "    print \"Multinomial NB Model best F1: \" + str((grid.best_score_))\n",
    "    print \"Multinomial NB Model best Alpha: \" +str (grid.best_estimator_.alpha) + \"\\n\"\n",
    "\n",
    "\n",
    "    #clf_pred = clf_model.fit(train_vec, train_labels, alpha = grid.best_estimator_.alpha).predict(test_vec)\n",
    "    #wrong_prediction = (clf_pred != test_labels)\n",
    "    #print \"Multinomial NB Model - Score on Test Pred: \",\n",
    "    #print clf_model.metrics.f1_score\n",
    "\n",
    "\n",
    "    ##################################################\n",
    "    #Build LR model\n",
    "    #fit a logistic regression model and find the optimal value for the regularization strength C using l2 regularization.\n",
    "    #LR Model\n",
    "    regularization_c = {'C': [0.0001, 0.001, 0.01, 0.1, 0.25, 0.5, 0.75, 0.9, 0.99,1]} #5,10,100]}\n",
    "    LR_model = LogisticRegression(penalty=\"l2\")\n",
    "    grid = GridSearchCV(estimator=LR_model, param_grid=regularization_c, scoring = \"f1_weighted\")\n",
    "    grid.fit(train_vec, train_labels)\n",
    "    #summarize the results of the grid search\n",
    "    print \"Logistic Regression best f1 score for training data: \" + str(grid.best_score_)\n",
    "    print \"Logistic Regression best regularization parameter: \"+ str(grid.best_estimator_.C)\n",
    "\n",
    "\n",
    "### STUDENT END ###\n",
    "P3()"
   ]
  },
  {
   "cell_type": "markdown",
   "metadata": {},
   "source": [
    "ANSWER:\n",
    "\n",
    "a. Why doesn't nearest neighbors work well for this problem? Maybe there is too much noise with overlapping basic words that makes 2 pieces of text seem more similar than they really are.\n",
    "\n",
    "b. Any ideas why logistic regression doesn't work as well as Naive Bayes? Logistic regression doesn't handle lots of features especially well. "
   ]
  },
  {
   "cell_type": "code",
   "execution_count": null,
   "metadata": {},
   "outputs": [],
   "source": [
    "#LR Model\n",
    "regularization_c = {'C': [0.0001, 0.001, 0.01, 0.1, 0.5, 0.9, 0.99,1,5,10,100]}\n",
    "LR_model = LogisticRegression(penalty=\"l2\")\n",
    "grid = GridSearchCV(estimator=LR_model, param_grid=regularization_c, scoring = \"f1_weighted\")\n",
    "grid.fit(train_vec, train_labels)\n",
    "# summarize the results of the grid search\n",
    "print \"Logistic Regression best f1 score for training data: \" + str(grid.best_score_)\n",
    "print \"Logistic Regression best regularization parameter: \"+ str(grid.best_estimator_.C)\n",
    "\n",
    "scores = [x[1] for x in grid.grid_scores_]\n",
    "print 'scores',\n",
    "print scores\n",
    "\n",
    "print 'regularization_c',\n",
    "print [0.0, 0.0001, 0.001, 0.01, 0.1, 0.5, 1.0, 2.0, 10.0]\n",
    "\n",
    "#Logistic regression estimates a weight vector for each class, which you can access with the coef_ attribute. \n",
    "#Output the sum of the squared weight values for each class for each setting of the C parameter. \n",
    "#Briefly explain the relationship between the sum and the value of C."
   ]
  },
  {
   "cell_type": "code",
   "execution_count": 337,
   "metadata": {},
   "outputs": [
    {
     "name": "stdout",
     "output_type": "stream",
     "text": [
      "Regularization weight: 0.0001 [[ -1.52533940e-03  -1.18724621e-03  -7.41337960e-05 ...,  -4.49042447e-05\n",
      "   -8.98084894e-05  -3.63943428e-05]\n",
      " [  5.36222087e-04  -1.84070945e-03  -9.29400417e-05 ...,  -4.10522482e-05\n",
      "   -8.21044964e-05   7.18034641e-05]\n",
      " [  6.53037643e-04   3.06177763e-03   9.30135863e-05 ...,   4.93317908e-05\n",
      "    9.86635817e-05  -3.20281368e-05]\n",
      " [ -1.55153047e-03  -2.11939984e-03  -8.16528016e-05 ...,  -3.74927861e-05\n",
      "   -7.49855723e-05  -3.47161226e-05]]\n"
     ]
    },
    {
     "ename": "IndexError",
     "evalue": "arrays used as indices must be of integer (or boolean) type",
     "output_type": "error",
     "traceback": [
      "\u001b[1;31m---------------------------------------------------------------------------\u001b[0m",
      "\u001b[1;31mIndexError\u001b[0m                                Traceback (most recent call last)",
      "\u001b[1;32m<ipython-input-337-91a1bf656a6f>\u001b[0m in \u001b[0;36m<module>\u001b[1;34m()\u001b[0m\n\u001b[0;32m     25\u001b[0m \u001b[0mregularization_c\u001b[0m \u001b[1;33m=\u001b[0m  \u001b[1;33m[\u001b[0m\u001b[1;36m0.0001\u001b[0m\u001b[1;33m,\u001b[0m \u001b[1;36m0.001\u001b[0m\u001b[1;33m,\u001b[0m \u001b[1;36m0.01\u001b[0m\u001b[1;33m,\u001b[0m \u001b[1;36m0.1\u001b[0m\u001b[1;33m,\u001b[0m \u001b[1;36m0.25\u001b[0m\u001b[1;33m,\u001b[0m \u001b[1;36m0.5\u001b[0m\u001b[1;33m,\u001b[0m \u001b[1;36m0.75\u001b[0m\u001b[1;33m,\u001b[0m \u001b[1;36m0.9\u001b[0m\u001b[1;33m,\u001b[0m \u001b[1;36m0.99\u001b[0m\u001b[1;33m,\u001b[0m\u001b[1;36m1\u001b[0m\u001b[1;33m]\u001b[0m\u001b[1;33m\u001b[0m\u001b[0m\n\u001b[0;32m     26\u001b[0m \u001b[0maccuracies\u001b[0m \u001b[1;33m=\u001b[0m \u001b[1;33m[\u001b[0m\u001b[1;33m]\u001b[0m\u001b[1;33m\u001b[0m\u001b[0m\n\u001b[1;32m---> 27\u001b[1;33m \u001b[0mP3\u001b[0m\u001b[1;33m(\u001b[0m\u001b[0mregularization_c\u001b[0m\u001b[1;33m,\u001b[0m \u001b[0maccuracies\u001b[0m\u001b[1;33m)\u001b[0m\u001b[1;33m\u001b[0m\u001b[0m\n\u001b[0m\u001b[0;32m     28\u001b[0m \u001b[1;32mprint\u001b[0m \u001b[0maccuracies\u001b[0m\u001b[1;33m\u001b[0m\u001b[0m\n",
      "\u001b[1;32m<ipython-input-337-91a1bf656a6f>\u001b[0m in \u001b[0;36mP3\u001b[1;34m(regularization_c, accuracies)\u001b[0m\n\u001b[0;32m     18\u001b[0m         \u001b[0mcategories_coef\u001b[0m \u001b[1;33m=\u001b[0m \u001b[0mLR_model\u001b[0m\u001b[1;33m.\u001b[0m\u001b[0mcoef_\u001b[0m\u001b[1;33m[\u001b[0m\u001b[1;36m0\u001b[0m\u001b[1;33m:\u001b[0m\u001b[1;36m4\u001b[0m\u001b[1;33m]\u001b[0m\u001b[1;33m\u001b[0m\u001b[0m\n\u001b[0;32m     19\u001b[0m         \u001b[1;32mfor\u001b[0m \u001b[0mj\u001b[0m \u001b[1;32min\u001b[0m \u001b[0mcategories_coef\u001b[0m\u001b[1;33m:\u001b[0m\u001b[1;33m\u001b[0m\u001b[0m\n\u001b[1;32m---> 20\u001b[1;33m             \u001b[0mcoef_SSE\u001b[0m \u001b[1;33m=\u001b[0m \u001b[0msum\u001b[0m\u001b[1;33m(\u001b[0m\u001b[1;33m(\u001b[0m\u001b[0mcategories_coef\u001b[0m\u001b[1;33m[\u001b[0m\u001b[0mj\u001b[0m\u001b[1;33m]\u001b[0m\u001b[1;33m**\u001b[0m\u001b[1;36m2\u001b[0m\u001b[1;33m)\u001b[0m\u001b[1;33m)\u001b[0m\u001b[1;33m\u001b[0m\u001b[0m\n\u001b[0m\u001b[0;32m     21\u001b[0m             \u001b[1;32mprint\u001b[0m \u001b[1;34m\"SSE\"\u001b[0m \u001b[1;33m+\u001b[0m \u001b[0mstr\u001b[0m\u001b[1;33m(\u001b[0m\u001b[0mcoef_SSE\u001b[0m\u001b[1;33m)\u001b[0m\u001b[1;33m\u001b[0m\u001b[0m\n\u001b[0;32m     22\u001b[0m         \u001b[1;31m#time_list.append(run_time)\u001b[0m\u001b[1;33m\u001b[0m\u001b[1;33m\u001b[0m\u001b[0m\n",
      "\u001b[1;31mIndexError\u001b[0m: arrays used as indices must be of integer (or boolean) type"
     ]
    }
   ],
   "source": [
    "def P3(regularization_c, accuracies):\n",
    "\n",
    "### STUDENT START ###\n",
    "    #iterate over different regularization weights\n",
    "    for c_size in (regularization_c):\n",
    "        #builds model\n",
    "        LR_model = LogisticRegression(penalty=\"l2\", C = c_size)\n",
    "        LR_model.fit(train_vec, train_labels)\n",
    "        \n",
    "        #makes predictions on the dev dataset with the model I just built\n",
    "        test_predicted_labels = LR_model.predict(test_vec)\n",
    "\n",
    "        #accuracy Calcs\n",
    "        wrong_prediction = (test_predicted_labels != test_labels)\n",
    "        print \"Regularization weight: \" + str(c_size), \n",
    "        \n",
    "        print LR_model.coef_[1:4]\n",
    "        categories_coef = LR_model.coef_[0:4]\n",
    "        for j in categories_coef:\n",
    "            coef_SSE = sum((categories_coef[j]**2))\n",
    "            print \"SSE\" + str(coef_SSE)\n",
    "        #time_list.append(run_time)\n",
    "\n",
    "### STUDENT END ###\n",
    "regularization_c =  [0.0001, 0.001, 0.01, 0.1, 0.25, 0.5, 0.75, 0.9, 0.99,1]\n",
    "accuracies = []\n",
    "P3(regularization_c, accuracies)\n",
    "print accuracies"
   ]
  },
  {
   "cell_type": "markdown",
   "metadata": {},
   "source": [
    "ANSWER:\n",
    "c. Logistic regression estimates a weight vector for each class, which you can access with the coef_ attribute. Output the sum of the squared weight values for each class for each setting of the C parameter. Briefly explain the relationship between the sum and the value of C.\n"
   ]
  },
  {
   "cell_type": "markdown",
   "metadata": {},
   "source": [
    "(4) Train a logistic regression model. Find the 5 features with the largest weights for each label -- 20 features in total. Create a table with 20 rows and 4 columns that shows the weight for each of these features for each of the labels. Create the table again with bigram features. Any surprising features in this table?\n",
    "\n",
    "[5 pts]"
   ]
  },
  {
   "cell_type": "code",
   "execution_count": 6,
   "metadata": {
    "collapsed": true
   },
   "outputs": [],
   "source": [
    "#def P4():\n",
    "### STUDENT START ###\n",
    "LR_model = LogisticRegression(penalty=\"l2\", C = c_size)\n",
    "LR_model.fit(train_vec, train_labels)\n",
    "\n",
    "#makes predictions on the dev dataset with the model I just built\n",
    "test_predicted_labels = LR_model.predict(test_vec)\n",
    "\n",
    "#accuracy Calcs\n",
    "wrong_prediction = (test_predicted_labels != test_labels)\n",
    "print \"Regularization weight: \" + str(c_size), \n",
    "\n",
    "print LR_model.coef_[0:4]\n",
    "categories_coef = LR_model.coef_[0:4]\n",
    "\n",
    "### STUDENT END ###\n",
    "#P4()"
   ]
  },
  {
   "cell_type": "markdown",
   "metadata": {},
   "source": [
    "ANSWER:"
   ]
  },
  {
   "cell_type": "markdown",
   "metadata": {},
   "source": [
    "(5) Try to improve the logistic regression classifier by passing a custom preprocessor to CountVectorizer. The preprocessing function runs on the raw text, before it is split into words by the tokenizer. Your preprocessor should try to normalize the input in various ways to improve generalization. For example, try lowercasing everything, replacing sequences of numbers with a single token, removing various other non-letter characters, and shortening long words. If you're not already familiar with regular expressions for manipulating strings, see https://docs.python.org/2/library/re.html, and re.sub() in particular. With your new preprocessor, how much did you reduce the size of the dictionary?\n",
    "\n",
    "For reference, I was able to improve dev F1 by 2 points.\n",
    "\n",
    "[4 pts]"
   ]
  },
  {
   "cell_type": "code",
   "execution_count": 426,
   "metadata": {},
   "outputs": [
    {
     "name": "stdout",
     "output_type": "stream",
     "text": [
      "No Preprocessing vocabulary size: 33291\n"
     ]
    },
    {
     "name": "stderr",
     "output_type": "stream",
     "text": [
      "C:\\Users\\N0209810\\.conda\\envs\\my_root\\lib\\site-packages\\sklearn\\metrics\\classification.py:676: DeprecationWarning: The default `weighted` averaging is deprecated, and from version 0.18, use of precision, recall or F-score with multiclass or multilabel data or pos_label=None will result in an exception. Please set an explicit value for `average`, one of (None, 'micro', 'macro', 'weighted', 'samples'). In cross validation use, for instance, scoring=\"f1_weighted\" instead of scoring=\"f1\".\n",
      "  sample_weight=sample_weight)\n"
     ]
    },
    {
     "name": "stdout",
     "output_type": "stream",
     "text": [
      "No Preprocessing  f1: 0.714551506596\n",
      "Special Preprocessing vocabulary size: 24718\n",
      "Special Preprocessing  f1: 0.734435367357\n"
     ]
    },
    {
     "name": "stderr",
     "output_type": "stream",
     "text": [
      "C:\\Users\\N0209810\\.conda\\envs\\my_root\\lib\\site-packages\\sklearn\\metrics\\classification.py:676: DeprecationWarning: The default `weighted` averaging is deprecated, and from version 0.18, use of precision, recall or F-score with multiclass or multilabel data or pos_label=None will result in an exception. Please set an explicit value for `average`, one of (None, 'micro', 'macro', 'weighted', 'samples'). In cross validation use, for instance, scoring=\"f1_weighted\" instead of scoring=\"f1\".\n",
      "  sample_weight=sample_weight)\n"
     ]
    }
   ],
   "source": [
    "def empty_preprocessor(s):\n",
    "    return s\n",
    "\n",
    "def better_preprocessor(s):\n",
    "### STUDENT START ###\n",
    "    #to lower\n",
    "    s = s.lower()\n",
    "    #removes paragraphs/tabs etc (?) matches any word character (equal to [a-zA-Z0-9_]); increases accuracy\n",
    "    s = re.sub(r'[^\\w]', ' ',s)\n",
    "    #replace all numbers\n",
    "    s = re.sub(\"\\d+\", \"NUM\", s)\n",
    "    #Remove special characters; finds any whitespace character \n",
    "    s = re.sub('^\\s[^A-Za-z0-9]+',\"\",s)\n",
    "    \n",
    "    #white noise words; ubiquitious and of little value\n",
    "    #taken from https://github.com/postgres/postgres/tree/master/src/backend/snowball/stopwords\n",
    "    stopwords = ['i','me','my','myself','we','our','ours','ourselves','you','your','yours','yourself','yourselves','he','him','his','himself','she','her','hers','herself','it','its','itself','they','them','their','theirs','themselves','what','which','who','whom','this','that','these','those','am','is','are','was','were','be','been','being','have','has','had','having','do','does','did','doing','a','an','the','and','but','if','or','because','as','until','while','of','at','by','for','with','about','against','between','into','through','during','before','after','above','below','to','from','up','down','in','out','on','off','over','under','again','further','then','once','here','there','when','where','why','how','all','any','both','each','few','more','most','other','some','such','no','nor','not','only','own','same','so','than','too','very','s','t','can','will','just','don','should','now']\n",
    "\n",
    "    #remove stop words\n",
    "    for word in stopwords:\n",
    "        s= re.sub(\"\\s\"+ word +\"\\s\", \" \", s)\n",
    "        \n",
    "    #stemming; made it way worse, not surprising--I've never had good experience with it\n",
    "    #s= re.sub(\"ing\" +\"\\s\", \"\", s)\n",
    "    #s= re.sub(\"ly\" +\"\\s\", \"\", s)\n",
    "    #s= re.sub(\"s\" +\"\\s\", \"\", s)\n",
    "    \n",
    "    return s\n",
    "\n",
    "\n",
    "### STUDENT END ###\n",
    "\n",
    "def P5():\n",
    "### STUDENT START ###\n",
    "    #################################################\n",
    "    #Vanilla vectorizing\n",
    "    vanilla_vectorizer = CountVectorizer(preprocessor=empty_preprocessor)\n",
    "    vanilla_train_vec = vanilla_vectorizer.fit_transform(train_data).toarray()\n",
    "    vanilla_dev_vec = vanilla_vectorizer.transform(dev_data)\n",
    "    \n",
    "    #vocab size\n",
    "    print \"No Preprocessing vocabulary size: \" + str(vanilla_train_vec.shape[1])\n",
    "    \n",
    "    #Model with no preprocessing \n",
    "    vanilla_LR_model = LogisticRegression(penalty=\"l2\", C = 0.2)\n",
    "    vanilla_LR_model.fit(vanilla_train_vec, train_labels)\n",
    "    \n",
    "    #makes predictions on the dev dataset with the model I just built\n",
    "    vanilla_test_pred_labels = vanilla_LR_model.predict(vanilla_dev_vec)\n",
    "    \n",
    "    #accuracy Calcs (using f1 for multiclass problem + LR model)\n",
    "    vanilla_f1 = metrics.f1_score(vanilla_test_pred_labels, dev_labels)\n",
    "    print \"No Preprocessing  f1: \" + str(vanilla_f1) \n",
    "    \n",
    "    #################################################\n",
    "    #Special Preprocessing ---seriously missing nltk library :(\n",
    "    special_vectorizer = CountVectorizer(preprocessor=better_preprocessor)\n",
    "    special_train_vec = special_vectorizer.fit_transform(train_data).toarray()\n",
    "    special_dev_vec = special_vectorizer.transform(dev_data)\n",
    "    \n",
    "    #vocab size\n",
    "    print \"Special Preprocessing vocabulary size: \" + str(special_train_vec.shape[1])\n",
    "    \n",
    "    #Model with no preprocessing \n",
    "    special_LR_model = LogisticRegression(penalty=\"l2\", C = 0.2)\n",
    "    special_LR_model.fit(special_train_vec, train_labels)\n",
    "    \n",
    "    #makes predictions on the dev dataset with the model I just built\n",
    "    special_test_pred_labels = special_LR_model.predict(special_dev_vec)\n",
    "    \n",
    "    #accuracy Calcs (using f1 for multiclass problem + LR model)\n",
    "    special_f1 = metrics.f1_score(special_test_pred_labels, dev_labels)\n",
    "    print \"Special Preprocessing  f1: \" + str(special_f1)\n",
    "\n",
    "### STUDENT END ###\n",
    "P5()"
   ]
  },
  {
   "cell_type": "markdown",
   "metadata": {},
   "source": [
    "(6) The idea of regularization is to avoid learning very large weights (which are likely to fit the training data, but not generalize well) by adding a penalty to the total size of the learned weights. That is, logistic regression seeks the set of weights that minimizes errors in the training data AND has a small size. The default regularization, L2, computes this size as the sum of the squared weights (see P3, above). L1 regularization computes this size as the sum of the absolute values of the weights. The result is that whereas L2 regularization makes all the weights relatively small, L1 regularization drives lots of the weights to 0, effectively removing unimportant features.\n",
    "\n",
    "Train a logistic regression model using a \"l1\" penalty. Output the number of learned weights that are not equal to zero. How does this compare to the number of non-zero weights you get with \"l2\"? Now, reduce the size of the vocabulary by keeping only those features that have at least one non-zero weight and retrain a model using \"l2\".\n",
    "\n",
    "Make a plot showing accuracy of the re-trained model vs. the vocabulary size you get when pruning unused features by adjusting the C parameter.\n",
    "\n",
    "Note: The gradient descent code that trains the logistic regression model sometimes has trouble converging with extreme settings of the C parameter. Relax the convergence criteria by setting tol=.01 (the default is .0001).\n",
    "\n",
    "[4 pts]"
   ]
  },
  {
   "cell_type": "code",
   "execution_count": 8,
   "metadata": {
    "collapsed": true
   },
   "outputs": [],
   "source": [
    "def P6():\n",
    "    # Keep this random seed here to make comparison easier.\n",
    "    np.random.seed(0)\n",
    "\n",
    "    ### STUDENT START ###\n",
    "\n",
    "    \n",
    "\n",
    "    ### STUDENT END ###\n",
    "P6()"
   ]
  },
  {
   "cell_type": "markdown",
   "metadata": {},
   "source": [
    "(7) Use the TfidfVectorizer -- how is this different from the CountVectorizer? Train a logistic regression model with C=100.\n",
    "\n",
    "Make predictions on the dev data and show the top 3 documents where the ratio R is largest, where R is:\n",
    "\n",
    "maximum predicted probability / predicted probability of the correct label\n",
    "\n",
    "What kinds of mistakes is the model making? Suggest a way to address one particular issue that you see.\n",
    "\n",
    "[4 pts]"
   ]
  },
  {
   "cell_type": "code",
   "execution_count": 448,
   "metadata": {},
   "outputs": [
    {
     "name": "stdout",
     "output_type": "stream",
     "text": [
      "No Preprocessing vocabulary size: 26879\n",
      "   0\n",
      "0  2\n",
      "1  1\n",
      "2  1\n",
      "3  1\n",
      "4  1\n",
      "          0         1         2         3\n",
      "0  0.036394  0.054100  0.896433  0.013074\n",
      "1  0.012895  0.962808  0.017386  0.006911\n",
      "2  0.000184  0.978198  0.020246  0.001373\n",
      "3  0.006031  0.933845  0.027719  0.032405\n",
      "4  0.013416  0.981187  0.003549  0.001848\n",
      "             precision    recall  f1-score   support\n",
      "\n",
      "          0       0.62      0.69      0.65       148\n",
      "          1       0.91      0.80      0.85       209\n",
      "          2       0.83      0.83      0.83       199\n",
      "          3       0.64      0.68      0.66       120\n",
      "\n",
      "avg / total       0.77      0.76      0.77       676\n",
      "\n",
      "          0\n",
      "0  0.896433\n",
      "1  0.962808\n",
      "2  0.978198\n",
      "3  0.933845\n",
      "4  0.981187\n",
      "676\n",
      "\n"
     ]
    }
   ],
   "source": [
    "def P7():\n",
    "    ### STUDENT START ###\n",
    "    #length weighting vectorizing\n",
    "    tfidf_vectorizer = TfidfVectorizer()\n",
    "    tfidf_train_vec = tfidf_vectorizer.fit_transform(train_data)\n",
    "    dev_vec = tfidf_vectorizer.transform(dev_data)\n",
    "    \n",
    "    #vocab size\n",
    "    print \"No Preprocessing vocabulary size: \" + str(tfidf_train_vec.shape[1])\n",
    "    \n",
    "    #Model with no preprocessing \n",
    "    tfidf_LR_model = LogisticRegression(penalty=\"l2\", C = 100)\n",
    "    tfidf_LR_model.fit(tfidf_train_vec, train_labels)\n",
    "    \n",
    "    #makes predictions on the dev dataset with the model I just built\n",
    "    tfidf_test_pred_labels = tfidf_LR_model.predict(dev_vec)\n",
    "    tfidf_test_pred_probs = tfidf_LR_model.predict_proba(dev_vec)\n",
    "    \n",
    "    #building an understanding of what comes out of the model\n",
    "    df_label = pd.DataFrame(tfidf_test_pred_labels)\n",
    "    print df_label.head()\n",
    "    df_prob = pd.DataFrame(tfidf_test_pred_probs)\n",
    "    print df_prob.head()\n",
    "    #DOESN'T ASK 4\n",
    "    #accuracy Calcs (using f1 for multiclass problem + LR model)\n",
    "    #tfidf_f1 = metrics.f1_score(tfidf_test_pred_labels, dev_labels)\n",
    "    #print \"No Preprocessing  f1: \" + str(tfidf_f1) \n",
    "    print classification_report(tfidf_test_pred_labels, dev_labels)\n",
    "                                \n",
    "    max_probabilities =[] \n",
    "    #look at all entries in the dev dataset\n",
    "    for item in range(0,len(dev_data)):\n",
    "        #find the max prob for each entry\n",
    "        max_prob = np.max(tfidf_test_pred_probs[item])\n",
    "        max_probabilities.append(max_prob)\n",
    "        \n",
    "        \n",
    "    df_max_prob = pd.DataFrame(max_probabilities)\n",
    "    print df_max_prob.head()\n",
    "    print len (max_probabilities)\n",
    "    \n",
    "    #Cbind prob and label\n",
    "    #if label = 1 then predicted prob = accuracy_report[]\n",
    "    #calc r\n",
    "    #sort df to find max R\n",
    "\n",
    "    \n",
    "    #R = maximum predicted probability / predicted probability of the correct label\n",
    "    \n",
    "    print\n",
    "    \n",
    "    ### STUDENT END ###\n",
    "P7()"
   ]
  },
  {
   "cell_type": "code",
   "execution_count": 429,
   "metadata": {
    "collapsed": true
   },
   "outputs": [],
   "source": [
    "import pandas as pd"
   ]
  },
  {
   "cell_type": "markdown",
   "metadata": {},
   "source": [
    "ANSWER: TfidfVectorizer -- how is this different from the CountVectorizer? The term frequency inverse document frequency weighs the importance of the features given the length of the overall message so that longer messages don't carry additional importance in the model just because they are longer."
   ]
  },
  {
   "cell_type": "markdown",
   "metadata": {},
   "source": [
    "(8) EXTRA CREDIT\n",
    "\n",
    "Try implementing one of your ideas based on your error analysis. Use logistic regression as your underlying model.\n",
    "\n",
    "- [1 pt] for a reasonable attempt\n",
    "- [2 pts] for improved performance"
   ]
  }
 ],
 "metadata": {
  "anaconda-cloud": {},
  "kernelspec": {
   "display_name": "Python [default]",
   "language": "python",
   "name": "python2"
  },
  "language_info": {
   "codemirror_mode": {
    "name": "ipython",
    "version": 2
   },
   "file_extension": ".py",
   "mimetype": "text/x-python",
   "name": "python",
   "nbconvert_exporter": "python",
   "pygments_lexer": "ipython2",
   "version": "2.7.13"
  }
 },
 "nbformat": 4,
 "nbformat_minor": 1
}
