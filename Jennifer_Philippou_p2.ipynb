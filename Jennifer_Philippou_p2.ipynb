{
 "cells": [
  {
   "cell_type": "markdown",
   "metadata": {},
   "source": [
    "# Project 2: Topic Classification"
   ]
  },
  {
   "cell_type": "markdown",
   "metadata": {},
   "source": [
    "In this project, you'll work with text data from newsgroup postings on a variety of topics. You'll train classifiers to distinguish between the topics based on the text of the posts. Whereas with digit classification, the input is relatively dense: a 28x28 matrix of pixels, many of which are non-zero, here we'll represent each document with a \"bag-of-words\" model. As you'll see, this makes the feature representation quite sparse -- only a few words of the total vocabulary are active in any given document. The bag-of-words assumption here is that the label depends only on the words; their order is not important.\n",
    "\n",
    "The SK-learn documentation on feature extraction will prove useful:\n",
    "http://scikit-learn.org/stable/modules/feature_extraction.html\n",
    "\n",
    "Each problem can be addressed succinctly with the included packages -- please don't add any more. Grading will be based on writing clean, commented code, along with a few short answers.\n",
    "\n",
    "As always, you're welcome to work on the project in groups and discuss ideas on the course wall, but please prepare your own write-up and write your own code."
   ]
  },
  {
   "cell_type": "code",
   "execution_count": 1,
   "metadata": {
    "collapsed": true
   },
   "outputs": [],
   "source": [
    "# This tells matplotlib not to try opening a new window for each plot.\n",
    "%matplotlib inline\n",
    "\n",
    "# General libraries.\n",
    "import re\n",
    "import numpy as np\n",
    "import matplotlib.pyplot as plt\n",
    "\n",
    "# SK-learn libraries for learning.\n",
    "from sklearn.pipeline import Pipeline\n",
    "from sklearn.neighbors import KNeighborsClassifier\n",
    "from sklearn.linear_model import LogisticRegression\n",
    "from sklearn.naive_bayes import BernoulliNB\n",
    "from sklearn.naive_bayes import MultinomialNB\n",
    "from sklearn.grid_search import GridSearchCV\n",
    "\n",
    "# SK-learn libraries for evaluation.\n",
    "from sklearn.metrics import confusion_matrix\n",
    "from sklearn import metrics\n",
    "from sklearn.metrics import classification_report\n",
    "\n",
    "# SK-learn library for importing the newsgroup data.\n",
    "from sklearn.datasets import fetch_20newsgroups\n",
    "\n",
    "# SK-learn libraries for feature extraction from text.\n",
    "from sklearn.feature_extraction.text import *"
   ]
  },
  {
   "cell_type": "markdown",
   "metadata": {},
   "source": [
    "Load the data, stripping out metadata so that we learn classifiers that only use textual features. By default, newsgroups data is split into train and test sets. We further split the test so we have a dev set. Note that we specify 4 categories to use for this project. If you remove the categories argument from the fetch function, you'll get all 20 categories."
   ]
  },
  {
   "cell_type": "code",
   "execution_count": 99,
   "metadata": {},
   "outputs": [
    {
     "name": "stdout",
     "output_type": "stream",
     "text": [
      "training label shape: (2034L,)\n",
      "test label shape: (677L,)\n",
      "dev label shape: (676L,)\n",
      "labels names: ['alt.atheism', 'comp.graphics', 'sci.space', 'talk.religion.misc']\n",
      "/n\n"
     ]
    }
   ],
   "source": [
    "categories = ['alt.atheism', 'talk.religion.misc', 'comp.graphics', 'sci.space']\n",
    "newsgroups_train = fetch_20newsgroups(subset='train',\n",
    "                                      remove=('headers', 'footers', 'quotes'),\n",
    "                                      categories=categories)\n",
    "newsgroups_test = fetch_20newsgroups(subset='test',\n",
    "                                     remove=('headers', 'footers', 'quotes'),\n",
    "                                     categories=categories)\n",
    "\n",
    "num_test = len(newsgroups_test.target)\n",
    "test_data, test_labels = newsgroups_test.data[num_test/2:], newsgroups_test.target[num_test/2:]\n",
    "dev_data, dev_labels = newsgroups_test.data[:num_test/2], newsgroups_test.target[:num_test/2]\n",
    "train_data, train_labels = newsgroups_train.data, newsgroups_train.target\n",
    "\n",
    "print 'training label shape:', train_labels.shape\n",
    "print 'test label shape:', test_labels.shape\n",
    "print 'dev label shape:', dev_labels.shape\n",
    "print 'labels names:', newsgroups_train.target_names"
   ]
  },
  {
   "cell_type": "markdown",
   "metadata": {},
   "source": [
    "(1) For each of the first 5 training examples, print the text of the message along with the label.\n",
    "\n",
    "[2 pts]"
   ]
  },
  {
   "cell_type": "code",
   "execution_count": 101,
   "metadata": {
    "scrolled": true
   },
   "outputs": [
    {
     "name": "stdout",
     "output_type": "stream",
     "text": [
      "example No: 1\n",
      "label: 1\n",
      "category: comp.graphics\n",
      "text: Hi,\n",
      "\n",
      "I've noticed that if you only save a model (with all your mapping planes\n",
      "positioned carefully) to a .3DS file that when you reload it after restarting\n",
      "3DS, they are given a default position and orientation.  But if you save\n",
      "to a .PRJ file their positions/orientation are preserved.  Does anyone\n",
      "know why this information is not stored in the .3DS file?  Nothing is\n",
      "explicitly said in the manual about saving texture rules in the .PRJ file. \n",
      "I'd like to be able to read the texture rule information, does anyone have \n",
      "the format for the .PRJ file?\n",
      "\n",
      "Is the .CEL file format available from somewhere?\n",
      "\n",
      "Rych\n",
      "\n",
      "--------------------------------------\n",
      "example No: 2\n",
      "label: 3\n",
      "category: talk.religion.misc\n",
      "text: \n",
      "\n",
      "Seems to be, barring evidence to the contrary, that Koresh was simply\n",
      "another deranged fanatic who thought it neccessary to take a whole bunch of\n",
      "folks with him, children and all, to satisfy his delusional mania. Jim\n",
      "Jones, circa 1993.\n",
      "\n",
      "\n",
      "Nope - fruitcakes like Koresh have been demonstrating such evil corruption\n",
      "for centuries.\n",
      "\n",
      "--------------------------------------\n",
      "example No: 3\n",
      "label: 2\n",
      "category: sci.space\n",
      "text: \n",
      " >In article <1993Apr19.020359.26996@sq.sq.com>, msb@sq.sq.com (Mark Brader) \n",
      "\n",
      "MB>                                                             So the\n",
      "MB> 1970 figure seems unlikely to actually be anything but a perijove.\n",
      "\n",
      "JG>Sorry, _perijoves_...I'm not used to talking this language.\n",
      "\n",
      "Couldn't we just say periapsis or apoapsis?\n",
      "\n",
      " \n",
      "\n",
      "--------------------------------------\n",
      "example No: 4\n",
      "label: 0\n",
      "category: alt.atheism\n",
      "text: I have a request for those who would like to see Charley Wingate\n",
      "respond to the \"Charley Challenges\" (and judging from my e-mail, there\n",
      "appear to be quite a few of you.)  \n",
      "\n",
      "It is clear that Mr. Wingate intends to continue to post tangential or\n",
      "unrelated articles while ingoring the Challenges themselves.  Between\n",
      "the last two re-postings of the Challenges, I noted perhaps a dozen or\n",
      "more posts by Mr. Wingate, none of which answered a single Challenge.  \n",
      "\n",
      "It seems unmistakable to me that Mr. Wingate hopes that the questions\n",
      "will just go away, and he is doing his level best to change the\n",
      "subject.  Given that this seems a rather common net.theist tactic, I\n",
      "would like to suggest that we impress upon him our desire for answers,\n",
      "in the following manner:\n",
      "\n",
      "1. Ignore any future articles by Mr. Wingate that do not address the\n",
      "Challenges, until he answers them or explictly announces that he\n",
      "refuses to do so.\n",
      "\n",
      "--or--\n",
      "\n",
      "2. If you must respond to one of his articles, include within it\n",
      "something similar to the following:\n",
      "\n",
      "    \"Please answer the questions posed to you in the Charley Challenges.\"\n",
      "\n",
      "Really, I'm not looking to humiliate anyone here, I just want some\n",
      "honest answers.  You wouldn't think that honesty would be too much to\n",
      "ask from a devout Christian, would you?  \n",
      "\n",
      "Nevermind, that was a rhetorical question.\n",
      "\n",
      "--------------------------------------\n",
      "example No: 5\n",
      "label: 2\n",
      "category: sci.space\n",
      "text: AW&ST  had a brief blurb on a Manned Lunar Exploration confernce\n",
      "May 7th  at Crystal City Virginia, under the auspices of AIAA.\n",
      "\n",
      "Does anyone know more about this?  How much, to attend????\n",
      "\n",
      "Anyone want to go?\n",
      "\n",
      "--------------------------------------\n"
     ]
    }
   ],
   "source": [
    "def P1(num_examples):\n",
    "### STUDENT START ###\n",
    "    for i in range(0,num_examples):\n",
    "        print \"example No: \" + str(i+1)\n",
    "        #show the label for the message\n",
    "        print \"label: \" + str(train_labels[i])\n",
    "        #show the category\n",
    "        print \"category: \" + str(newsgroups_train.target_names[train_labels[i]])\n",
    "        #show the text for the message\n",
    "        print \"text: \" + str(train_data[i])+ \"\\n\"\n",
    "        print \"--------------------------------------\"\n",
    "\n",
    "### STUDENT END ###\n",
    "P1(5)"
   ]
  },
  {
   "cell_type": "markdown",
   "metadata": {},
   "source": [
    "(2) Use CountVectorizer to turn the raw training text into feature vectors. You should use the fit_transform function, which makes 2 passes through the data: first it computes the vocabulary (\"fit\"), second it converts the raw text into feature vectors using the vocabulary (\"transform\").\n",
    "\n",
    "The vectorizer has a lot of options. To get familiar with some of them, write code to answer these questions:\n",
    "\n",
    "a. The output of the transform (also of fit_transform) is a sparse matrix: http://docs.scipy.org/doc/scipy-0.14.0/reference/generated/scipy.sparse.csr_matrix.html. What is the size of the vocabulary? What is the average number of non-zero features per example? What fraction of the entries in the matrix are non-zero? Hint: use \"nnz\" and \"shape\" attributes.\n",
    "\n",
    "b. What are the 0th and last feature strings (in alphabetical order)? Hint: use the vectorizer's get_feature_names function.\n",
    "\n",
    "c. Specify your own vocabulary with 4 words: [\"atheism\", \"graphics\", \"space\", \"religion\"]. Confirm the training vectors are appropriately shaped. Now what's the average number of non-zero features per example?\n",
    "\n",
    "d. Instead of extracting unigram word features, use \"analyzer\" and \"ngram_range\" to extract bigram and trigram character features. What size vocabulary does this yield?\n",
    "\n",
    "e. Use the \"min_df\" argument to prune words that appear in fewer than 10 documents. What size vocabulary does this yield?\n",
    "\n",
    "f. Using the standard CountVectorizer, what fraction of the words in the dev data are missing from the vocabulary? Hint: build a vocabulary for both train and dev and look at the size of the difference.\n",
    "\n",
    "[6 pts]"
   ]
  },
  {
   "cell_type": "code",
   "execution_count": 179,
   "metadata": {},
   "outputs": [
    {
     "name": "stdout",
     "output_type": "stream",
     "text": [
      "Question 1a\n",
      "The size of the vocabulary (single grams) is:  26879\n",
      "The average number of non-zero features per example is:  96.7059980334\n",
      "The fraction of the entries in the matrix that are non-zero is: 0.00359782722696\n",
      "\n",
      "Question 1b\n",
      "The 0th feature is: 00\n",
      "The last feature is: zyxel\n",
      "\n",
      "Question 1c\n",
      "The average number of non-zero features per example (with new 4 word vocab) is:  0.268436578171\n",
      "\n",
      "Question 1d\n",
      "Bigrams and trigrams result in a vocabulary of size: 35478\n",
      "\n",
      "Question 1e\n",
      "Words with at least 10 instances result in a vocabulary of size: 3064\n",
      "\n",
      "Question 1f\n",
      "4027\n",
      "The fraction of the words in the dev data  missing from the vocabulary is:  0.247876400345\n"
     ]
    }
   ],
   "source": [
    "def P2():\n",
    "### STUDENT START ###\n",
    "    ########################################################\n",
    "    #Part A\n",
    "    #singleGram\n",
    "    vectorizer = CountVectorizer()\n",
    "    #bin words, \n",
    "    X = vectorizer.fit_transform(train_data)\n",
    "    #Convert to matrix\n",
    "    #X.toarray()\n",
    "    print \"Question 1a\"\n",
    "    print \"The size of the vocabulary (single grams) is:  \" + str(X.shape[1])\n",
    "    \n",
    "    print \"The average number of non-zero features per example is: \",\n",
    "    #calc missing values over total number of examples\n",
    "    print X.nnz/float(X.shape[0]) #shows 196,700 words\n",
    "    \n",
    "    print \"The fraction of the entries in the matrix that are non-zero is:\",\n",
    "    #Calc Sparsity \n",
    "    print str((X.nnz)/float(X.shape[0]*X.shape[1]))+ \"\\n\"\n",
    "    \n",
    "    ########################################################\n",
    "    #Part B\n",
    "    print \"Question 1b\" \n",
    "    feature_names =vectorizer.get_feature_names()\n",
    "    print \"The 0th feature is: \" + str((feature_names[0]))\n",
    "    print \"The last feature is: \" + str(feature_names[-1]) +\"\\n\"\n",
    "    \n",
    "    ########################################################\n",
    "    #Part C\n",
    "    print \"Question 1c\" \n",
    "    #Create new vocab list\n",
    "    vocab = [\"atheism\", \"graphics\", \"space\", \"religion\"]\n",
    "    #binarize it\n",
    "    vocab_array = vectorizer.fit_transform(vocab) #.toarray()\n",
    "    #apply bins to training dataset\n",
    "    vocab_2_data = vectorizer.transform(train_data) #.toarray()\n",
    "    #calc blank rate and overall shape\n",
    "    print \"The average number of non-zero features per example (with new 4 word vocab) is: \",\n",
    "    print  str((vocab_2_data.nnz/float(vocab_2_data.shape[0]))) + \"\\n\"\n",
    "        \n",
    "    ########################################################\n",
    "    #Part D\n",
    "    print \"Question 1d\" \n",
    "    #for words, Bi and TriGrams\n",
    "    bigram_vectorizer = CountVectorizer(analyzer='char',ngram_range=(2, 3),token_pattern=r'\\b\\w+\\b', min_df=1)\n",
    "\n",
    "    #bin words and convert to matrix\n",
    "    X_2 = bigram_vectorizer.fit_transform(train_data)#.toarray()\n",
    "    X_2\n",
    "    print \"Bigrams and trigrams result in a vocabulary of size: \" + str(X_2.shape[1]) + \"\\n\"\n",
    "    \n",
    "    ########################################################\n",
    "    #Part E\n",
    "    print \"Question 1e\" \n",
    "    #for words, Bi and TriGrams\n",
    "    bigram_vectorizer = CountVectorizer(min_df=10)\n",
    "\n",
    "    #bin words and convert to matrix\n",
    "    X_2 = bigram_vectorizer.fit_transform(train_data)#.toarray()\n",
    "    X_2\n",
    "    print \"Words with at least 10 instances result in a vocabulary of size: \" + str(X_2.shape[1]) + \"\\n\"\n",
    "    \n",
    "    ########################################################\n",
    "    #Part F\n",
    "    print \"Question 1f\" \n",
    "    X = vectorizer.fit_transform(dev_data)\n",
    "    dev_feature_names =vectorizer.get_feature_names()\n",
    "    missing = 0\n",
    "    for i in range(0,len(dev_feature_names)):\n",
    "        if dev_feature_names[i] not in (feature_names):\n",
    "            missing += 1\n",
    "    print \"The fraction of the words in the dev data  missing from the vocabulary is:  \" + str(float(missing)/X.shape[1])\n",
    "    \n",
    "    ### STUDENT END ###\n",
    "P2()"
   ]
  },
  {
   "cell_type": "markdown",
   "metadata": {},
   "source": [
    "(3) Use the default CountVectorizer options and report the f1 score (use metrics.f1_score) for a k nearest neighbors classifier; find the optimal value for k. Also fit a Multinomial Naive Bayes model and find the optimal value for alpha. Finally, fit a logistic regression model and find the optimal value for the regularization strength C using l2 regularization. A few questions:\n",
    "\n",
    "a. Why doesn't nearest neighbors work well for this problem?\n",
    "\n",
    "b. Any ideas why logistic regression doesn't work as well as Naive Bayes?\n",
    "\n",
    "c. Logistic regression estimates a weight vector for each class, which you can access with the coef\\_ attribute. Output the sum of the squared weight values for each class for each setting of the C parameter. Briefly explain the relationship between the sum and the value of C.\n",
    "\n",
    "[4 pts]"
   ]
  },
  {
   "cell_type": "code",
   "execution_count": 214,
   "metadata": {
    "scrolled": true
   },
   "outputs": [
    {
     "name": "stdout",
     "output_type": "stream",
     "text": [
      "GridSearchCV(cv=None, error_score='raise',\n",
      "       estimator=KNeighborsClassifier(algorithm='auto', leaf_size=30, metric='minkowski',\n",
      "           metric_params=None, n_neighbors=5, p=2, weights='uniform'),\n",
      "       fit_params={}, iid=True, loss_func=None, n_jobs=1,\n",
      "       param_grid={'n_neighbors': [1, 3]}, pre_dispatch='2*n_jobs',\n",
      "       refit=True, score_func=None, scoring='f1_weighted', verbose=0)\n",
      "0.415226644413\n",
      "1\n",
      "KNN scores [0.41522664441317314, 0.39178746531123915]\n",
      "k values [1, 3, 5, 7, 9]\n",
      "Multinomial NB Model -  number of incorrect predictions: 148 ; Accuracy Rate 78.1%\n",
      "             precision    recall  f1-score   support\n",
      "\n",
      "          0       0.64      0.71      0.67       154\n",
      "          1       0.92      0.89      0.91       204\n",
      "          2       0.83      0.85      0.84       195\n",
      "          3       0.66      0.59      0.62       124\n",
      "\n",
      "avg / total       0.78      0.78      0.78       677\n",
      "\n"
     ]
    }
   ],
   "source": [
    "#def P3():\n",
    "### STUDENT START ###\n",
    "##################################################\n",
    "#create n grams\n",
    "#default CountVectorizer options \n",
    "#singleGram\n",
    "vectorizer = CountVectorizer()\n",
    "train_vec = vectorizer.fit_transform(train_data).toarray()\n",
    "#train_vec.shape\n",
    "#train_array = train_vec.toarray()\n",
    "#print train_array [1:20,]\n",
    "test_vec = vectorizer.transform(test_data)\n",
    "#print test_vec.shape\n",
    "\n",
    "##################################################\n",
    "#stitch together scoring function\n",
    "#ftwo_scorer = make_scorer(fbeta_score, beta=2)\n",
    "#make_scorer(fbeta_score, beta=2)\n",
    "#grid = GridSearchCV(LinearSVC(), param_grid={'C': [1, 10]},\n",
    "#                     scoring=ftwo_scorer)\n",
    "#REALIZED I DID NOT NEED TO DO :-)\n",
    "\n",
    "##################################################\n",
    "#Build KNN model\n",
    "#report the f1 score (use metrics.f1_score) for a k nearest neighbors classifier;\n",
    "#find the optimal value for k. \n",
    "knn_model = KNeighborsClassifier()\n",
    "n_neighbors = {'n_neighbors': [1, 3, 5, 7, 9, 15]} \n",
    "#sklearn library required a more explicit measure (ie f1 alone implies binary results and this is a multi class problem)\n",
    "#so I tested f1.macro and f1.weighted (pulled from here: http://scikit-learn.org/stable/modules/model_evaluation.html)\n",
    "#error message: The default `weighted` averaging is deprecated, and from version 0.18, use of precision, recall or F-score with multiclass or multilabel data or pos_label=None will result in an exception. Please set an explicit value for `average`, one of (None, 'micro', 'macro', 'weighted', 'samples'). In cross validation use, for instance, scoring=\"f1_weighted\" instead of scoring=\"f1\".\n",
    "\n",
    "grid = GridSearchCV(estimator=knn_model, param_grid=n_neighbors, scoring = \"f1_weighted\")\n",
    "grid.fit(train_vec, train_labels)\n",
    "print(grid)\n",
    "# summarize the results of the grid search\n",
    "print(grid.best_score_)\n",
    "print(grid.best_estimator_.n_neighbors)\n",
    "\n",
    "scores = [x[1] for x in grid.grid_scores_]\n",
    "print 'KNN scores',\n",
    "print scores\n",
    "\n",
    "print 'k values',\n",
    "print [1, 3, 5, 7, 9]\n",
    "\n",
    "\n",
    "##################################################\n",
    "#Build MNB model\n",
    "#Multinomial Naive Bayes model and find the optimal value for alpha. \n",
    "clf_model = MultinomialNB(alpha =0.01)\n",
    "clf_pred = clf_model.fit(train_vec, train_labels).predict(test_vec)\n",
    "wrong_prediction = (clf_pred != test_labels)\n",
    "print \"Multinomial NB Model - \",\n",
    "print 'number of incorrect predictions:', np.sum(wrong_prediction),\n",
    "accuracy_rate = np.sum((clf_pred == test_labels))/float(len(test_labels))*100\n",
    "print '; Accuracy Rate ' +  \"{0:.1f}%\".format(accuracy_rate)\n",
    "#print clf_model.metrics.f1_score\n",
    "print classification_report(test_labels,clf_pred)\n",
    "\n",
    "\n",
    "##################################################\n",
    "#Build LR model\n",
    "#fit a logistic regression model and find the optimal value for the regularization strength C using l2 regularization.\n",
    "\n",
    "### STUDENT END ###\n",
    "#P3()"
   ]
  },
  {
   "cell_type": "code",
   "execution_count": 216,
   "metadata": {
    "scrolled": true
   },
   "outputs": [
    {
     "name": "stdout",
     "output_type": "stream",
     "text": [
      "GridSearchCV(cv=None, error_score='raise',\n",
      "       estimator=MultinomialNB(alpha=0.01, class_prior=None, fit_prior=True),\n",
      "       fit_params={}, iid=True, loss_func=None, n_jobs=1,\n",
      "       param_grid={'alpha': [0.0001, 0.001, 0.01, 0.1, 0.5, 1.0, 2.0, 10.0]},\n",
      "       pre_dispatch='2*n_jobs', refit=True, score_func=None,\n",
      "       scoring='f1_weighted', verbose=0)\n",
      "0.828718198342\n",
      "0.01\n",
      "scores [0.82551835418860098, 0.82618774680942975, 0.82871819834225602, 0.82295772554388091, 0.80961823895059748, 0.79662741908186041, 0.77195772065375345, 0.65530898520303482]\n",
      "alphas [0.0, 0.0001, 0.001, 0.01, 0.1, 0.5, 1.0, 2.0, 10.0]\n"
     ]
    }
   ],
   "source": [
    "#gnb_model = BernoulliNB(binarize=0.5) #binarizer function is cutting off here!!\n",
    "alphas = {'alpha': [0.0001, 0.001, 0.01, 0.1, 0.5, 1.0, 2.0, 10.0]}\n",
    "grid = GridSearchCV(estimator=clf_model, param_grid=alphas, scoring = \"f1_weighted\")\n",
    "grid.fit(train_vec, train_labels)\n",
    "print(grid)\n",
    "# summarize the results of the grid search\n",
    "print(grid.best_score_)\n",
    "print(grid.best_estimator_.alpha)\n",
    "\n",
    "scores = [x[1] for x in grid.grid_scores_]\n",
    "print 'scores',\n",
    "print scores\n",
    "\n",
    "print 'alphas',\n",
    "print [0.0, 0.0001, 0.001, 0.01, 0.1, 0.5, 1.0, 2.0, 10.0]\n",
    "\n",
    "#print grid.metrics.f1_score"
   ]
  },
  {
   "cell_type": "code",
   "execution_count": 232,
   "metadata": {},
   "outputs": [
    {
     "name": "stdout",
     "output_type": "stream",
     "text": [
      "             precision    recall  f1-score   support\n",
      "\n",
      "          0       0.64      0.60      0.62       154\n",
      "          1       0.82      0.89      0.85       204\n",
      "          2       0.78      0.80      0.79       195\n",
      "          3       0.64      0.56      0.59       124\n",
      "\n",
      "avg / total       0.73      0.74      0.73       677\n",
      "\n"
     ]
    }
   ],
   "source": [
    "#LR model Simple\n",
    "LR_model = LogisticRegression(penalty=\"l2\")\n",
    "LR_model.fit(train_vec, train_labels)\n",
    "y_pred = LR_model.predict(test_vec)\n",
    "print classification_report(test_labels,y_pred)\n"
   ]
  },
  {
   "cell_type": "code",
   "execution_count": 235,
   "metadata": {},
   "outputs": [
    {
     "ename": "TypeError",
     "evalue": "__init__() got an unexpected keyword argument 'penalty'",
     "output_type": "error",
     "traceback": [
      "\u001b[1;31m---------------------------------------------------------------------------\u001b[0m",
      "\u001b[1;31mTypeError\u001b[0m                                 Traceback (most recent call last)",
      "\u001b[1;32m<ipython-input-235-ed60955797f7>\u001b[0m in \u001b[0;36m<module>\u001b[1;34m()\u001b[0m\n\u001b[0;32m      2\u001b[0m \u001b[0mCs\u001b[0m \u001b[1;33m=\u001b[0m \u001b[1;33m{\u001b[0m\u001b[1;34m'Cs'\u001b[0m\u001b[1;33m:\u001b[0m \u001b[1;33m[\u001b[0m\u001b[1;36m0.0001\u001b[0m\u001b[1;33m,\u001b[0m \u001b[1;36m0.001\u001b[0m\u001b[1;33m,\u001b[0m \u001b[1;36m0.01\u001b[0m\u001b[1;33m,\u001b[0m \u001b[1;36m0.1\u001b[0m\u001b[1;33m,\u001b[0m \u001b[1;36m0.5\u001b[0m\u001b[1;33m,\u001b[0m \u001b[1;36m1.0\u001b[0m\u001b[1;33m,\u001b[0m \u001b[1;36m2.0\u001b[0m\u001b[1;33m,\u001b[0m \u001b[1;36m10.0\u001b[0m\u001b[1;33m]\u001b[0m\u001b[1;33m}\u001b[0m\u001b[1;33m\u001b[0m\u001b[0m\n\u001b[0;32m      3\u001b[0m \u001b[0mLR_model\u001b[0m \u001b[1;33m=\u001b[0m \u001b[0mLogisticRegression\u001b[0m\u001b[1;33m(\u001b[0m\u001b[1;33m)\u001b[0m\u001b[1;33m\u001b[0m\u001b[0m\n\u001b[1;32m----> 4\u001b[1;33m \u001b[0mgrid\u001b[0m \u001b[1;33m=\u001b[0m \u001b[0mGridSearchCV\u001b[0m\u001b[1;33m(\u001b[0m\u001b[0mestimator\u001b[0m\u001b[1;33m=\u001b[0m\u001b[0mLR_model\u001b[0m\u001b[1;33m,\u001b[0m \u001b[0mpenalty\u001b[0m\u001b[1;33m=\u001b[0m\u001b[1;34m\"l2\"\u001b[0m\u001b[1;33m,\u001b[0m \u001b[0mparam_grid\u001b[0m\u001b[1;33m=\u001b[0m\u001b[0mCs\u001b[0m\u001b[1;33m,\u001b[0m \u001b[0mscoring\u001b[0m \u001b[1;33m=\u001b[0m \u001b[1;34m\"f1_weighted\"\u001b[0m\u001b[1;33m)\u001b[0m\u001b[1;33m\u001b[0m\u001b[0m\n\u001b[0m\u001b[0;32m      5\u001b[0m \u001b[0mgrid\u001b[0m\u001b[1;33m.\u001b[0m\u001b[0mfit\u001b[0m\u001b[1;33m(\u001b[0m\u001b[0mtrain_vec\u001b[0m\u001b[1;33m,\u001b[0m \u001b[0mtrain_labels\u001b[0m\u001b[1;33m)\u001b[0m\u001b[1;33m\u001b[0m\u001b[0m\n\u001b[0;32m      6\u001b[0m \u001b[1;32mprint\u001b[0m\u001b[1;33m(\u001b[0m\u001b[0mgrid\u001b[0m\u001b[1;33m)\u001b[0m\u001b[1;33m\u001b[0m\u001b[0m\n",
      "\u001b[1;31mTypeError\u001b[0m: __init__() got an unexpected keyword argument 'penalty'"
     ]
    }
   ],
   "source": [
    "#LR Model\n",
    "Cs = {'Cs': [0.0001, 0.001, 0.01, 0.1, 0.5, 1.0, 2.0, 10.0]}\n",
    "LR_model = LogisticRegression()\n",
    "grid = GridSearchCV(estimator=LR_model, penalty=\"l2\", param_grid=Cs, multi_class='multinomial', scoring = \"f1_weighted\")\n",
    "grid.fit(train_vec, train_labels)\n",
    "print(grid)\n",
    "# summarize the results of the grid search\n",
    "print(grid.best_score_)\n",
    "print(grid.best_estimator_.alpha)\n",
    "\n",
    "scores = [x[1] for x in grid.grid_scores_]\n",
    "print 'scores',\n",
    "print scores\n",
    "\n",
    "print 'alphas',\n",
    "print [0.0, 0.0001, 0.001, 0.01, 0.1, 0.5, 1.0, 2.0, 10.0]"
   ]
  },
  {
   "cell_type": "code",
   "execution_count": null,
   "metadata": {
    "collapsed": true
   },
   "outputs": [],
   "source": [
    "^^^WTF"
   ]
  },
  {
   "cell_type": "markdown",
   "metadata": {},
   "source": [
    "ANSWER:"
   ]
  },
  {
   "cell_type": "markdown",
   "metadata": {},
   "source": [
    "(4) Train a logistic regression model. Find the 5 features with the largest weights for each label -- 20 features in total. Create a table with 20 rows and 4 columns that shows the weight for each of these features for each of the labels. Create the table again with bigram features. Any surprising features in this table?\n",
    "\n",
    "[5 pts]"
   ]
  },
  {
   "cell_type": "code",
   "execution_count": 6,
   "metadata": {
    "collapsed": true
   },
   "outputs": [],
   "source": [
    "#def P4():\n",
    "### STUDENT START ###\n",
    "\n",
    "\n",
    "### STUDENT END ###\n",
    "#P4()"
   ]
  },
  {
   "cell_type": "markdown",
   "metadata": {},
   "source": [
    "ANSWER:"
   ]
  },
  {
   "cell_type": "markdown",
   "metadata": {},
   "source": [
    "(5) Try to improve the logistic regression classifier by passing a custom preprocessor to CountVectorizer. The preprocessing function runs on the raw text, before it is split into words by the tokenizer. Your preprocessor should try to normalize the input in various ways to improve generalization. For example, try lowercasing everything, replacing sequences of numbers with a single token, removing various other non-letter characters, and shortening long words. If you're not already familiar with regular expressions for manipulating strings, see https://docs.python.org/2/library/re.html, and re.sub() in particular. With your new preprocessor, how much did you reduce the size of the dictionary?\n",
    "\n",
    "For reference, I was able to improve dev F1 by 2 points.\n",
    "\n",
    "[4 pts]"
   ]
  },
  {
   "cell_type": "code",
   "execution_count": 7,
   "metadata": {
    "collapsed": true
   },
   "outputs": [],
   "source": [
    "def empty_preprocessor(s):\n",
    "    return s\n",
    "\n",
    "#def better_preprocessor(s):\n",
    "### STUDENT START ###\n",
    "\n",
    "### STUDENT END ###\n",
    "\n",
    "#def P5():\n",
    "### STUDENT START ###\n",
    "\n",
    "    \n",
    "### STUDENT END ###\n",
    "#P5()"
   ]
  },
  {
   "cell_type": "markdown",
   "metadata": {},
   "source": [
    "(6) The idea of regularization is to avoid learning very large weights (which are likely to fit the training data, but not generalize well) by adding a penalty to the total size of the learned weights. That is, logistic regression seeks the set of weights that minimizes errors in the training data AND has a small size. The default regularization, L2, computes this size as the sum of the squared weights (see P3, above). L1 regularization computes this size as the sum of the absolute values of the weights. The result is that whereas L2 regularization makes all the weights relatively small, L1 regularization drives lots of the weights to 0, effectively removing unimportant features.\n",
    "\n",
    "Train a logistic regression model using a \"l1\" penalty. Output the number of learned weights that are not equal to zero. How does this compare to the number of non-zero weights you get with \"l2\"? Now, reduce the size of the vocabulary by keeping only those features that have at least one non-zero weight and retrain a model using \"l2\".\n",
    "\n",
    "Make a plot showing accuracy of the re-trained model vs. the vocabulary size you get when pruning unused features by adjusting the C parameter.\n",
    "\n",
    "Note: The gradient descent code that trains the logistic regression model sometimes has trouble converging with extreme settings of the C parameter. Relax the convergence criteria by setting tol=.01 (the default is .0001).\n",
    "\n",
    "[4 pts]"
   ]
  },
  {
   "cell_type": "code",
   "execution_count": 8,
   "metadata": {
    "collapsed": true
   },
   "outputs": [],
   "source": [
    "def P6():\n",
    "    # Keep this random seed here to make comparison easier.\n",
    "    np.random.seed(0)\n",
    "\n",
    "    ### STUDENT START ###\n",
    "\n",
    "    \n",
    "\n",
    "    ### STUDENT END ###\n",
    "P6()"
   ]
  },
  {
   "cell_type": "markdown",
   "metadata": {},
   "source": [
    "(7) Use the TfidfVectorizer -- how is this different from the CountVectorizer? Train a logistic regression model with C=100.\n",
    "\n",
    "Make predictions on the dev data and show the top 3 documents where the ratio R is largest, where R is:\n",
    "\n",
    "maximum predicted probability / predicted probability of the correct label\n",
    "\n",
    "What kinds of mistakes is the model making? Suggest a way to address one particular issue that you see.\n",
    "\n",
    "[4 pts]"
   ]
  },
  {
   "cell_type": "code",
   "execution_count": 11,
   "metadata": {
    "collapsed": true
   },
   "outputs": [],
   "source": [
    "#def P7():\n",
    "    ### STUDENT START ###\n",
    "\n",
    "\n",
    "\n",
    "    ### STUDENT END ###\n",
    "#P7()"
   ]
  },
  {
   "cell_type": "markdown",
   "metadata": {},
   "source": [
    "ANSWER:"
   ]
  },
  {
   "cell_type": "markdown",
   "metadata": {},
   "source": [
    "(8) EXTRA CREDIT\n",
    "\n",
    "Try implementing one of your ideas based on your error analysis. Use logistic regression as your underlying model.\n",
    "\n",
    "- [1 pt] for a reasonable attempt\n",
    "- [2 pts] for improved performance"
   ]
  }
 ],
 "metadata": {
  "anaconda-cloud": {},
  "kernelspec": {
   "display_name": "Python [default]",
   "language": "python",
   "name": "python2"
  },
  "language_info": {
   "codemirror_mode": {
    "name": "ipython",
    "version": 2
   },
   "file_extension": ".py",
   "mimetype": "text/x-python",
   "name": "python",
   "nbconvert_exporter": "python",
   "pygments_lexer": "ipython2",
   "version": "2.7.13"
  }
 },
 "nbformat": 4,
 "nbformat_minor": 1
}
