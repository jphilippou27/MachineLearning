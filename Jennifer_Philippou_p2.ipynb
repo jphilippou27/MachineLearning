{
 "cells": [
  {
   "cell_type": "markdown",
   "metadata": {},
   "source": [
    "# Project 2: Topic Classification"
   ]
  },
  {
   "cell_type": "markdown",
   "metadata": {},
   "source": [
    "In this project, you'll work with text data from newsgroup postings on a variety of topics. You'll train classifiers to distinguish between the topics based on the text of the posts. Whereas with digit classification, the input is relatively dense: a 28x28 matrix of pixels, many of which are non-zero, here we'll represent each document with a \"bag-of-words\" model. As you'll see, this makes the feature representation quite sparse -- only a few words of the total vocabulary are active in any given document. The bag-of-words assumption here is that the label depends only on the words; their order is not important.\n",
    "\n",
    "The SK-learn documentation on feature extraction will prove useful:\n",
    "http://scikit-learn.org/stable/modules/feature_extraction.html\n",
    "\n",
    "Each problem can be addressed succinctly with the included packages -- please don't add any more. Grading will be based on writing clean, commented code, along with a few short answers.\n",
    "\n",
    "As always, you're welcome to work on the project in groups and discuss ideas on the course wall, but please prepare your own write-up and write your own code."
   ]
  },
  {
   "cell_type": "code",
   "execution_count": 1,
   "metadata": {
    "collapsed": true
   },
   "outputs": [],
   "source": [
    "# This tells matplotlib not to try opening a new window for each plot.\n",
    "%matplotlib inline\n",
    "\n",
    "# General libraries.\n",
    "import re\n",
    "import numpy as np\n",
    "import matplotlib.pyplot as plt\n",
    "\n",
    "# SK-learn libraries for learning.\n",
    "from sklearn.pipeline import Pipeline\n",
    "from sklearn.neighbors import KNeighborsClassifier\n",
    "from sklearn.linear_model import LogisticRegression\n",
    "from sklearn.naive_bayes import BernoulliNB\n",
    "from sklearn.naive_bayes import MultinomialNB\n",
    "from sklearn.grid_search import GridSearchCV\n",
    "\n",
    "# SK-learn libraries for evaluation.\n",
    "from sklearn.metrics import confusion_matrix\n",
    "from sklearn import metrics\n",
    "from sklearn.metrics import classification_report\n",
    "\n",
    "# SK-learn library for importing the newsgroup data.\n",
    "from sklearn.datasets import fetch_20newsgroups\n",
    "\n",
    "# SK-learn libraries for feature extraction from text.\n",
    "from sklearn.feature_extraction.text import *"
   ]
  },
  {
   "cell_type": "markdown",
   "metadata": {},
   "source": [
    "Load the data, stripping out metadata so that we learn classifiers that only use textual features. By default, newsgroups data is split into train and test sets. We further split the test so we have a dev set. Note that we specify 4 categories to use for this project. If you remove the categories argument from the fetch function, you'll get all 20 categories."
   ]
  },
  {
   "cell_type": "code",
   "execution_count": 99,
   "metadata": {},
   "outputs": [
    {
     "name": "stdout",
     "output_type": "stream",
     "text": [
      "training label shape: (2034L,)\n",
      "test label shape: (677L,)\n",
      "dev label shape: (676L,)\n",
      "labels names: ['alt.atheism', 'comp.graphics', 'sci.space', 'talk.religion.misc']\n",
      "/n\n"
     ]
    }
   ],
   "source": [
    "categories = ['alt.atheism', 'talk.religion.misc', 'comp.graphics', 'sci.space']\n",
    "newsgroups_train = fetch_20newsgroups(subset='train',\n",
    "                                      remove=('headers', 'footers', 'quotes'),\n",
    "                                      categories=categories)\n",
    "newsgroups_test = fetch_20newsgroups(subset='test',\n",
    "                                     remove=('headers', 'footers', 'quotes'),\n",
    "                                     categories=categories)\n",
    "\n",
    "num_test = len(newsgroups_test.target)\n",
    "test_data, test_labels = newsgroups_test.data[num_test/2:], newsgroups_test.target[num_test/2:]\n",
    "dev_data, dev_labels = newsgroups_test.data[:num_test/2], newsgroups_test.target[:num_test/2]\n",
    "train_data, train_labels = newsgroups_train.data, newsgroups_train.target\n",
    "\n",
    "print 'training label shape:', train_labels.shape\n",
    "print 'test label shape:', test_labels.shape\n",
    "print 'dev label shape:', dev_labels.shape\n",
    "print 'labels names:', newsgroups_train.target_names"
   ]
  },
  {
   "cell_type": "markdown",
   "metadata": {},
   "source": [
    "(1) For each of the first 5 training examples, print the text of the message along with the label.\n",
    "\n",
    "[2 pts]"
   ]
  },
  {
   "cell_type": "code",
   "execution_count": 101,
   "metadata": {
    "scrolled": true
   },
   "outputs": [
    {
     "name": "stdout",
     "output_type": "stream",
     "text": [
      "example No: 1\n",
      "label: 1\n",
      "category: comp.graphics\n",
      "text: Hi,\n",
      "\n",
      "I've noticed that if you only save a model (with all your mapping planes\n",
      "positioned carefully) to a .3DS file that when you reload it after restarting\n",
      "3DS, they are given a default position and orientation.  But if you save\n",
      "to a .PRJ file their positions/orientation are preserved.  Does anyone\n",
      "know why this information is not stored in the .3DS file?  Nothing is\n",
      "explicitly said in the manual about saving texture rules in the .PRJ file. \n",
      "I'd like to be able to read the texture rule information, does anyone have \n",
      "the format for the .PRJ file?\n",
      "\n",
      "Is the .CEL file format available from somewhere?\n",
      "\n",
      "Rych\n",
      "\n",
      "--------------------------------------\n",
      "example No: 2\n",
      "label: 3\n",
      "category: talk.religion.misc\n",
      "text: \n",
      "\n",
      "Seems to be, barring evidence to the contrary, that Koresh was simply\n",
      "another deranged fanatic who thought it neccessary to take a whole bunch of\n",
      "folks with him, children and all, to satisfy his delusional mania. Jim\n",
      "Jones, circa 1993.\n",
      "\n",
      "\n",
      "Nope - fruitcakes like Koresh have been demonstrating such evil corruption\n",
      "for centuries.\n",
      "\n",
      "--------------------------------------\n",
      "example No: 3\n",
      "label: 2\n",
      "category: sci.space\n",
      "text: \n",
      " >In article <1993Apr19.020359.26996@sq.sq.com>, msb@sq.sq.com (Mark Brader) \n",
      "\n",
      "MB>                                                             So the\n",
      "MB> 1970 figure seems unlikely to actually be anything but a perijove.\n",
      "\n",
      "JG>Sorry, _perijoves_...I'm not used to talking this language.\n",
      "\n",
      "Couldn't we just say periapsis or apoapsis?\n",
      "\n",
      " \n",
      "\n",
      "--------------------------------------\n",
      "example No: 4\n",
      "label: 0\n",
      "category: alt.atheism\n",
      "text: I have a request for those who would like to see Charley Wingate\n",
      "respond to the \"Charley Challenges\" (and judging from my e-mail, there\n",
      "appear to be quite a few of you.)  \n",
      "\n",
      "It is clear that Mr. Wingate intends to continue to post tangential or\n",
      "unrelated articles while ingoring the Challenges themselves.  Between\n",
      "the last two re-postings of the Challenges, I noted perhaps a dozen or\n",
      "more posts by Mr. Wingate, none of which answered a single Challenge.  \n",
      "\n",
      "It seems unmistakable to me that Mr. Wingate hopes that the questions\n",
      "will just go away, and he is doing his level best to change the\n",
      "subject.  Given that this seems a rather common net.theist tactic, I\n",
      "would like to suggest that we impress upon him our desire for answers,\n",
      "in the following manner:\n",
      "\n",
      "1. Ignore any future articles by Mr. Wingate that do not address the\n",
      "Challenges, until he answers them or explictly announces that he\n",
      "refuses to do so.\n",
      "\n",
      "--or--\n",
      "\n",
      "2. If you must respond to one of his articles, include within it\n",
      "something similar to the following:\n",
      "\n",
      "    \"Please answer the questions posed to you in the Charley Challenges.\"\n",
      "\n",
      "Really, I'm not looking to humiliate anyone here, I just want some\n",
      "honest answers.  You wouldn't think that honesty would be too much to\n",
      "ask from a devout Christian, would you?  \n",
      "\n",
      "Nevermind, that was a rhetorical question.\n",
      "\n",
      "--------------------------------------\n",
      "example No: 5\n",
      "label: 2\n",
      "category: sci.space\n",
      "text: AW&ST  had a brief blurb on a Manned Lunar Exploration confernce\n",
      "May 7th  at Crystal City Virginia, under the auspices of AIAA.\n",
      "\n",
      "Does anyone know more about this?  How much, to attend????\n",
      "\n",
      "Anyone want to go?\n",
      "\n",
      "--------------------------------------\n"
     ]
    }
   ],
   "source": [
    "def P1(num_examples):\n",
    "### STUDENT START ###\n",
    "    for i in range(0,num_examples):\n",
    "        print \"example No: \" + str(i+1)\n",
    "        #show the label for the message\n",
    "        print \"label: \" + str(train_labels[i])\n",
    "        #show the category\n",
    "        print \"category: \" + str(newsgroups_train.target_names[train_labels[i]])\n",
    "        #show the text for the message\n",
    "        print \"text: \" + str(train_data[i])+ \"\\n\"\n",
    "        print \"--------------------------------------\"\n",
    "\n",
    "### STUDENT END ###\n",
    "P1(5)"
   ]
  },
  {
   "cell_type": "markdown",
   "metadata": {},
   "source": [
    "(2) Use CountVectorizer to turn the raw training text into feature vectors. You should use the fit_transform function, which makes 2 passes through the data: first it computes the vocabulary (\"fit\"), second it converts the raw text into feature vectors using the vocabulary (\"transform\").\n",
    "\n",
    "The vectorizer has a lot of options. To get familiar with some of them, write code to answer these questions:\n",
    "\n",
    "a. The output of the transform (also of fit_transform) is a sparse matrix: http://docs.scipy.org/doc/scipy-0.14.0/reference/generated/scipy.sparse.csr_matrix.html. What is the size of the vocabulary? What is the average number of non-zero features per example? What fraction of the entries in the matrix are non-zero? Hint: use \"nnz\" and \"shape\" attributes.\n",
    "\n",
    "b. What are the 0th and last feature strings (in alphabetical order)? Hint: use the vectorizer's get_feature_names function.\n",
    "\n",
    "c. Specify your own vocabulary with 4 words: [\"atheism\", \"graphics\", \"space\", \"religion\"]. Confirm the training vectors are appropriately shaped. Now what's the average number of non-zero features per example?\n",
    "\n",
    "d. Instead of extracting unigram word features, use \"analyzer\" and \"ngram_range\" to extract bigram and trigram character features. What size vocabulary does this yield?\n",
    "\n",
    "e. Use the \"min_df\" argument to prune words that appear in fewer than 10 documents. What size vocabulary does this yield?\n",
    "\n",
    "f. Using the standard CountVectorizer, what fraction of the words in the dev data are missing from the vocabulary? Hint: build a vocabulary for both train and dev and look at the size of the difference.\n",
    "\n",
    "[6 pts]"
   ]
  },
  {
   "cell_type": "code",
   "execution_count": 438,
   "metadata": {},
   "outputs": [
    {
     "name": "stdout",
     "output_type": "stream",
     "text": [
      "Question 2a\n",
      "The size of the vocabulary (single grams) is:  26879\n",
      "The average number of non-zero features per example is:  96.7059980334\n",
      "The fraction of the entries in the matrix that are non-zero is: 0.00359782722696\n",
      "\n",
      "Question 2b\n",
      "The 0th feature is: 00\n",
      "The last feature is: zyxel\n",
      "\n",
      "Question 2c\n",
      "The average number of non-zero features per example (with new 4 word vocab) is:  0.268436578171\n",
      "\n",
      "Question 2d\n",
      "Bigrams and trigrams result in a vocabulary of size: 35478\n",
      "\n",
      "Question 2e\n",
      "Words with at least 10 instances result in a vocabulary of size: 3064\n",
      "\n",
      "Question 2f\n",
      "The fraction of the words in the dev data  missing from the vocabulary is:  0.247876400345\n"
     ]
    }
   ],
   "source": [
    "def P2():\n",
    "### STUDENT START ###\n",
    "    ########################################################\n",
    "    #Part A\n",
    "    #singleGram\n",
    "    vectorizer = CountVectorizer()\n",
    "    #bin words, \n",
    "    X = vectorizer.fit_transform(train_data)\n",
    "    #Convert to matrix\n",
    "    #X.toarray()\n",
    "    print \"Question 2a\"\n",
    "    print \"The size of the vocabulary (single grams) is:  \" + str(X.shape[1])\n",
    "    \n",
    "    print \"The average number of non-zero features per example is: \",\n",
    "    #calc missing values over total number of examples\n",
    "    print X.nnz/float(X.shape[0]) #shows 196,700 words\n",
    "    \n",
    "    print \"The fraction of the entries in the matrix that are non-zero is:\",\n",
    "    #Calc Sparsity \n",
    "    print str((X.nnz)/float(X.shape[0]*X.shape[1]))+ \"\\n\"\n",
    "    \n",
    "    ########################################################\n",
    "    #Part B\n",
    "    print \"Question 2b\" \n",
    "    feature_names =vectorizer.get_feature_names()\n",
    "    print \"The 0th feature is: \" + str((feature_names[0]))\n",
    "    print \"The last feature is: \" + str(feature_names[-1]) +\"\\n\"\n",
    "    \n",
    "    ########################################################\n",
    "    #Part C\n",
    "    print \"Question 2c\" \n",
    "    #Create new vocab list\n",
    "    vocab = [\"atheism\", \"graphics\", \"space\", \"religion\"]\n",
    "    #binarize it\n",
    "    vocab_array = vectorizer.fit_transform(vocab) #.toarray()\n",
    "    #apply bins to training dataset\n",
    "    vocab_2_data = vectorizer.transform(train_data) #.toarray()\n",
    "    #calc blank rate and overall shape\n",
    "    print \"The average number of non-zero features per example (with new 4 word vocab) is: \",\n",
    "    print  str((vocab_2_data.nnz/float(vocab_2_data.shape[0]))) + \"\\n\"\n",
    "        \n",
    "    ########################################################\n",
    "    #Part D\n",
    "    print \"Question 2d\" \n",
    "    #for words, Bi and TriGrams\n",
    "    bigram_vectorizer = CountVectorizer(analyzer='char',ngram_range=(2, 3),token_pattern=r'\\b\\w+\\b', min_df=1)\n",
    "\n",
    "    #bin words and convert to matrix\n",
    "    X_2 = bigram_vectorizer.fit_transform(train_data)#.toarray()\n",
    "    X_2\n",
    "    print \"Bigrams and trigrams result in a vocabulary of size: \" + str(X_2.shape[1]) + \"\\n\"\n",
    "    \n",
    "    ########################################################\n",
    "    #Part E\n",
    "    print \"Question 2e\" \n",
    "    #for words, Bi and TriGrams\n",
    "    bigram_vectorizer = CountVectorizer(min_df=10)\n",
    "\n",
    "    #bin words and convert to matrix\n",
    "    X_2 = bigram_vectorizer.fit_transform(train_data)#.toarray()\n",
    "    X_2\n",
    "    print \"Words with at least 10 instances result in a vocabulary of size: \" + str(X_2.shape[1]) + \"\\n\"\n",
    "    \n",
    "    ########################################################\n",
    "    #Part F\n",
    "    print \"Question 2f\" \n",
    "    X = vectorizer.fit_transform(dev_data)\n",
    "    dev_feature_names =vectorizer.get_feature_names()\n",
    "    missing = 0\n",
    "    for i in range(0,len(dev_feature_names)):\n",
    "        if dev_feature_names[i] not in (feature_names):\n",
    "            missing += 1\n",
    "    print \"The fraction of the words in the dev data  missing from the vocabulary is:  \" + str(float(missing)/X.shape[1])\n",
    "    \n",
    "    ### STUDENT END ###\n",
    "P2()"
   ]
  },
  {
   "cell_type": "markdown",
   "metadata": {},
   "source": [
    "(3) Use the default CountVectorizer options and report the f1 score (use metrics.f1_score) for a k nearest neighbors classifier; find the optimal value for k. Also fit a Multinomial Naive Bayes model and find the optimal value for alpha. Finally, fit a logistic regression model and find the optimal value for the regularization strength C using l2 regularization. A few questions:\n",
    "\n",
    "a. Why doesn't nearest neighbors work well for this problem?\n",
    "\n",
    "b. Any ideas why logistic regression doesn't work as well as Naive Bayes?\n",
    "\n",
    "c. Logistic regression estimates a weight vector for each class, which you can access with the coef\\_ attribute. Output the sum of the squared weight values for each class for each setting of the C parameter. Briefly explain the relationship between the sum and the value of C.\n",
    "\n",
    "[4 pts]"
   ]
  },
  {
   "cell_type": "code",
   "execution_count": 338,
   "metadata": {
    "scrolled": true
   },
   "outputs": [
    {
     "name": "stdout",
     "output_type": "stream",
     "text": [
      "KNN best f1 score on Training Data: 0.417778915182\n",
      "KNN best nearest neighbor count: 15\n",
      "\n",
      "Multinomial NB Model best F1: 0.828718198342\n",
      "Multinomial NB Model best Alpha: 0.01\n",
      "\n",
      "Logistic Regression best f1 score for training data: 0.767943492932\n",
      "Logistic Regression best regularization parameter: 0.25\n"
     ]
    }
   ],
   "source": [
    "def P3():\n",
    "    ### STUDENT START ###\n",
    "    ##################################################\n",
    "    #create n grams\n",
    "    #default CountVectorizer options \n",
    "    #singleGram\n",
    "    vectorizer = CountVectorizer()\n",
    "    train_vec = vectorizer.fit_transform(train_data).toarray()\n",
    "    #train_vec.shape\n",
    "    #train_array = train_vec.toarray()\n",
    "    #print train_array [1:20,]\n",
    "    test_vec = vectorizer.transform(test_data)\n",
    "    #print test_vec.shape\n",
    "\n",
    "    ##################################################\n",
    "    #Build KNN model\n",
    "    #report the f1 score (use metrics.f1_score) for a k nearest neighbors classifier;\n",
    "    #find the optimal value for k. \n",
    "    knn_model = KNeighborsClassifier()\n",
    "    n_neighbors = {'n_neighbors': [1, 3, 5, 7, 9, 15]} \n",
    "    #sklearn library required a more explicit measure (ie f1 alone implies binary results and this is a multi class problem)\n",
    "    grid = GridSearchCV(estimator=knn_model, param_grid=n_neighbors, scoring = \"f1_weighted\")\n",
    "    grid.fit(train_vec, train_labels)\n",
    "\n",
    "    # summarize the results of the grid search\n",
    "    print \"KNN best f1 score on Training Data: \" + str(grid.best_score_)\n",
    "    print \"KNN best nearest neighbor count: \" + str(grid.best_estimator_.n_neighbors) + \"\\n\"\n",
    "\n",
    "    ##################################################\n",
    "    #Build MNB model\n",
    "    #Multinomial Naive Bayes model and find the optimal value for alpha. \n",
    "    #gnb_model = BernoulliNB(binarize=0.5) #binarizer function is cutting off here!!\n",
    "    alphas = {'alpha': [0.0001, 0.001, 0.01, 0.1, 0.5, 1.0, 2.0, 10.0]}\n",
    "    grid = GridSearchCV(estimator=clf_model, param_grid=alphas, scoring = \"f1_weighted\")\n",
    "    grid.fit(train_vec, train_labels)\n",
    "    #print(grid)\n",
    "    # summarize the results of the grid search\n",
    "    print \"Multinomial NB Model best F1: \" + str((grid.best_score_))\n",
    "    print \"Multinomial NB Model best Alpha: \" +str (grid.best_estimator_.alpha) + \"\\n\"\n",
    "\n",
    "\n",
    "    #clf_pred = clf_model.fit(train_vec, train_labels, alpha = grid.best_estimator_.alpha).predict(test_vec)\n",
    "    #wrong_prediction = (clf_pred != test_labels)\n",
    "    #print \"Multinomial NB Model - Score on Test Pred: \",\n",
    "    #print clf_model.metrics.f1_score\n",
    "\n",
    "\n",
    "    ##################################################\n",
    "    #Build LR model\n",
    "    #fit a logistic regression model and find the optimal value for the regularization strength C using l2 regularization.\n",
    "    #LR Model\n",
    "    regularization_c = {'C': [0.0001, 0.001, 0.01, 0.1, 0.25, 0.5, 0.75, 0.9, 0.99,1]} #5,10,100]} #added 0.25 and 0.75 after seeing that 0.5 performed well, dropped above 1 at that point too\n",
    "    LR_model = LogisticRegression(penalty=\"l2\")\n",
    "    grid = GridSearchCV(estimator=LR_model, param_grid=regularization_c, scoring = \"f1_weighted\")\n",
    "    grid.fit(train_vec, train_labels)\n",
    "    #summarize the results of the grid search\n",
    "    print \"Logistic Regression best f1 score for training data: \" + str(grid.best_score_)\n",
    "    print \"Logistic Regression best regularization parameter: \"+ str(grid.best_estimator_.C)\n",
    "\n",
    "\n",
    "### STUDENT END ###\n",
    "P3()"
   ]
  },
  {
   "cell_type": "code",
   "execution_count": 578,
   "metadata": {},
   "outputs": [
    {
     "name": "stdout",
     "output_type": "stream",
     "text": [
      "Regularization weight: 0.0001 [0.01, 0.01, 0.01, 0.01]\n",
      "Regularization weight: 0.001 [0.17, 0.2, 0.18, 0.19]\n",
      "Regularization weight: 0.01 [2.54, 2.94, 2.86, 2.25]\n",
      "Regularization weight: 0.1 [27.13, 24.65, 27.46, 23.02]\n",
      "Regularization weight: 0.25 [59.82, 50.57, 58.94, 51.47]\n",
      "Regularization weight: 0.5 [102.61, 83.1, 99.03, 89.01]\n",
      "Regularization weight: 0.75 [137.33, 108.97, 130.93, 119.53]\n",
      "Regularization weight: 0.9 [155.64, 122.51, 147.62, 135.68]\n",
      "Regularization weight: 0.99 [165.83, 130.06, 156.96, 144.76]\n",
      "Regularization weight: 1 [166.96, 130.87, 158.04, 145.7]\n",
      "Regularization weight: 10 [586.68, 447.94, 540.36, 530.79]\n",
      "Regularization weight: 100 [1405.64, 1083.91, 1295.47, 1309.35]\n"
     ]
    }
   ],
   "source": [
    "def P3(regularization_c, accuracies):\n",
    "\n",
    "### STUDENT START ###\n",
    "    #iterate over different regularization weights\n",
    "    for c_size in (regularization_c):\n",
    "        #builds model\n",
    "        LR_model = LogisticRegression(penalty=\"l2\", C = c_size)\n",
    "        LR_model.fit(train_vec, train_labels)\n",
    "        \n",
    "        #makes predictions on the dev dataset with the model I just built\n",
    "        test_predicted_labels = LR_model.predict(test_vec)\n",
    "\n",
    "        #accuracy Calcs\n",
    "        wrong_prediction = (test_predicted_labels != test_labels)\n",
    "        print \"Regularization weight: \" + str(c_size), \n",
    "        \n",
    "        #each column is a word\n",
    "        features = LR_model.coef_\n",
    "        \n",
    "        category_calc = []\n",
    "        #sum of the squared weight values for each class\n",
    "        for row in range(0,4):\n",
    "            calc_SSE = round(sum(features[row]**2),2)\n",
    "            category_calc.append(calc_SSE)\n",
    "        print category_calc\n",
    "\n",
    "### STUDENT END ###\n",
    "regularization_c = [0.0001, 0.001, 0.01, 0.1, 0.25, 0.5, 0.75, 0.9, 0.99,1,10,100]\n",
    "P3(regularization_c, accuracies)"
   ]
  },
  {
   "cell_type": "markdown",
   "metadata": {},
   "source": [
    "ANSWER:\n",
    "\n",
    "a. Why doesn't nearest neighbors work well for this problem? Maybe there is too much noise with overlapping basic words that makes 2 pieces of text seem more similar than they really are. Every word has an even weight and the text excerpts vary quite a bit in length. The longest excerpts will have lots of pull in this model because it will show lots of neighbors near it.\n",
    "\n",
    "b. Any ideas why logistic regression doesn't work as well as Naive Bayes? Logistic regression doesn't handle lots of features especially well in this instance because the model is overfitting the data--its allocating all of the variance to the possible words so the model isn't generalizing well. NB  banks on the independance of features, and obviously we know that words are not independent so perhaps NB captures the relationship between words better.\n",
    "\n",
    "c. The higher the regularization weight (C), the larger the the sum of the squared weight values is for all classes. The regularization term de-emphasizes features that don't add much value when it is lower, when it's larger it looks like it amplyfies the noise associated with larger features."
   ]
  },
  {
   "cell_type": "markdown",
   "metadata": {},
   "source": [
    "(4) Train a logistic regression model. Find the 5 features with the largest weights for each label -- 20 features in total. Create a table with 20 rows and 4 columns that shows the weight for each of these features for each of the labels. Create the table again with bigram features. Any surprising features in this table?\n",
    "\n",
    "[5 pts]"
   ]
  },
  {
   "cell_type": "code",
   "execution_count": 847,
   "metadata": {},
   "outputs": [
    {
     "name": "stdout",
     "output_type": "stream",
     "text": [
      "For Single Grams the largest coefficients are: \n",
      "\n",
      "Word: islam Weights: [0.5626598225609315, -0.096437246818030883, -0.22978479966498122, -0.23218009366290771]\n",
      "Word: religion Weights: [0.65749378379442469, -0.41028416048634436, -0.5368068142314395, -0.027741687834087033]\n",
      "Word: atheism Weights: [0.65759212874908901, -0.28775739635287129, -0.28983536964840989, -0.32727431010786706]\n",
      "Word: atheists Weights: [0.65808007448616868, -0.088839093568503238, -0.21784519599450225, -0.46821568726086965]\n",
      "Word: bobby Weights: [0.66738900181130212, -0.16083052982041462, -0.23296011793374236, -0.31522740046997122]\n",
      "Word: computer Weights: [0.010951133758741419, 0.71857499755616561, -0.46059518267122407, -0.31695221808993906]\n",
      "Word: 3d Weights: [-0.24901624968313446, 0.7653297520676754, -0.45054120989405888, -0.25688045920357394]\n",
      "Word: file Weights: [-0.22731562169933098, 0.86641302291813993, -0.56506648896441303, -0.40272638187737492]\n",
      "Word: image Weights: [-0.3705846564315744, 0.89927950456592565, -0.53032407287344407, -0.30300299234690353]\n",
      "Word: graphics Weights: [-0.53495618893050367, 1.3410791324552633, -0.8919113179942324, -0.5064307288044203]\n",
      "Word: spacecraft Weights: [-0.24120968886660624, -0.257974886635433, 0.57267695319538892, -0.21709913337377662]\n",
      "Word: launch Weights: [-0.29732886697990751, -0.32945390094413157, 0.64341036264171858, -0.23019733100414591]\n",
      "Word: nasa Weights: [-0.3727765947591124, -0.343329996721293, 0.70755928719937233, -0.33609639384215817]\n",
      "Word: orbit Weights: [-0.2900914806844207, -0.45598140958919092, 0.81994911682337324, -0.38001637030912711]\n",
      "Word: space Weights: [-0.87567749275831741, -0.93081010525431895, 1.5896176691668491, -0.79377140426307724]\n",
      "Word: order Weights: [-0.51465638723615637, -0.052638359733776778, -0.10387444610134609, 0.59744399295274275]\n",
      "Word: fbi Weights: [-0.18657968446448867, -0.16683983941019409, -0.30540520587242287, 0.60442247942371774]\n",
      "Word: blood Weights: [-0.32757198031438417, -0.083253752729383013, -0.16210686186515372, 0.65471455589161465]\n",
      "Word: christians Weights: [-0.48130577191881829, -0.23984699192382125, -0.30483407213509572, 0.72806748654648645]\n",
      "\n",
      "\n",
      "For Bi Grams the largest coefficients are: \n",
      "\n",
      "Word: are you Weights: [0.38305679319894681, -0.18433116786879608, -0.093278025447299948, -0.24938274902154298]\n",
      "Word: in this Weights: [0.39165513641488187, -0.011531401178085163, -0.35345715148791745, -0.10623767116797882]\n",
      "Word: isn t Weights: [0.39984383226746928, -0.29851430953758745, -0.091881340601149247, -0.19548552716356732]\n",
      "Word: claim that Weights: [0.41956985051965856, -0.14632436867557413, -0.19474412563381094, -0.1013135381853864]\n",
      "Word: cheers kent Weights: [0.42281806971760766, -0.49998972447950152, -0.50064558712995699, 0.43308875382162593]\n",
      "Word: i need Weights: [-0.28001064487660826, 0.56956574777771785, -0.32332868258531694, -0.18849826290767638]\n",
      "Word: comp graphics Weights: [-0.21724641106892459, 0.57782302181722744, -0.28910375178589298, -0.19321298472234757]\n",
      "Word: out there Weights: [-0.19779180144346106, 0.58666851605122827, -0.35313267166268203, -0.2105764664073666]\n",
      "Word: in advance Weights: [-0.34336796905726785, 0.64790696506812429, -0.33692325733154965, -0.31330581997025408]\n",
      "Word: looking for Weights: [-0.42702814384505972, 0.75754480645090205, -0.32964825867861303, -0.3808951746922809]\n",
      "Word: the shuttle Weights: [-0.13200448373546528, -0.18129504318246395, 0.4064287513123449, -0.14363496322831651]\n",
      "Word: and such Weights: [-0.16443217536089669, -0.25055734299912941, 0.4736188824227473, -0.17291398736833963]\n",
      "Word: sci space Weights: [-0.19227913642985114, -0.26918779066952231, 0.4932673176944074, -0.16591036390355321]\n",
      "Word: the moon Weights: [-0.28041699241465473, -0.38319758260500092, 0.66801335542472773, -0.175463930624006]\n",
      "Word: the space Weights: [-0.19914251971713803, -0.41197804834752211, 0.69004835622715355, -0.22254153025422957]\n",
      "Word: with you Weights: [-0.19236709043049621, 0.059425103386358348, -0.26021990339683232, 0.36207694693933307]\n",
      "Word: the fbi Weights: [-0.10013789679105765, -0.15717617914269169, -0.23919193591013405, 0.43146667865711419]\n",
      "Word: cheers kent Weights: [0.42281806971760766, -0.49998972447950152, -0.50064558712995699, 0.43308875382162593]\n",
      "Word: i see Weights: [-0.23781542816131854, -0.17018801828032568, -0.049152667733832561, 0.4469723899765396]\n"
     ]
    }
   ],
   "source": [
    "#def P4():\n",
    "### STUDENT START ###\n",
    "##############################################\n",
    "#single grams\n",
    "vectorizer = CountVectorizer()\n",
    "train_vec = vectorizer.fit_transform(train_data).toarray()\n",
    "test_vec = vectorizer.transform(test_data)\n",
    "\n",
    "#fit model\n",
    "LR_model = LogisticRegression(penalty=\"l2\", C = 0.25)\n",
    "LR_model.fit(train_vec, train_labels)\n",
    "\n",
    "#model outputs\n",
    "df_features2 = LR_model.coef_#**2 #LR model coefficents\n",
    "\n",
    "#grab the location of the top 5 highest weighted features\n",
    "high_weight_features = []\n",
    "#looking at every class (has its own row in the coef table)\n",
    "for category in range(0,4):\n",
    "    #select top 5\n",
    "    top_5 = df_features2[category,].argsort()[-5:]\n",
    "    high_weight_features.append(top_5) #works sorta\n",
    "\n",
    "#merge the classes index into 1 array with all weights ...took forever :(\n",
    "hw_features2 = np.concatenate(high_weight_features, axis=0 )\n",
    "#grab all feature names\n",
    "feature_names = vectorizer.get_feature_names()\n",
    "#select just the feature names with the top 5 weights for each class\n",
    "top20_name = [feature_names[match]for match in hw_features2]\n",
    "\n",
    "all_weights = []\n",
    "#figure out the weights by class\n",
    "for category in range(0,4):\n",
    "    #based on the location of the top 20 words, grab the weights for all 4 classes\n",
    "    selected_feature_weights = [df_features2[category,match]for match in hw_features2] \n",
    "    all_weights.append(selected_feature_weights)\n",
    "\n",
    "#display results\n",
    "print \"For Single Grams the largest coefficients are: \" + \"\\n\"\n",
    "for table_row in range(0,19):\n",
    "    print('Word: {} Weights: {}'.format(top20_name[table_row], [all_weights[w_class][table_row] for w_class in range(0,4)]))\n",
    "print \"\\n\"\n",
    "##############################################\n",
    "#bigrams\n",
    "vectorizer = CountVectorizer(ngram_range=(2, 2),token_pattern=r'\\b\\w+\\b', min_df=1)\n",
    "train_vec = vectorizer.fit_transform(train_data)\n",
    "\n",
    "#fit model\n",
    "LR_model = LogisticRegression(penalty=\"l2\", C = 0.25)\n",
    "LR_model.fit(train_vec, train_labels)\n",
    "\n",
    "#model outputs\n",
    "df_features2 = LR_model.coef_#**2 #LR model coefficents\n",
    "\n",
    "#grab the location of the top 5 highest weighted features\n",
    "high_weight_features = []\n",
    "#looking at every class (has its own row in the coef table)\n",
    "for category in range(0,4):\n",
    "    #select top 5\n",
    "    top_5 = df_features2[category,].argsort()[-5:]\n",
    "    high_weight_features.append(top_5) #works sorta\n",
    "\n",
    "#merge the classes index into 1 array with all weights ...took forever :(\n",
    "hw_features2 = np.concatenate(high_weight_features, axis=0 )\n",
    "#grab all feature names\n",
    "feature_names = vectorizer.get_feature_names()\n",
    "#select just the feature names with the top 5 weights for each class\n",
    "top20_name = [feature_names[match]for match in hw_features2]\n",
    "\n",
    "all_weights = []\n",
    "#figure out the weights by class\n",
    "for category in range(0,4):\n",
    "    #based on the location of the top 20 words, grab the weights for all 4 classes\n",
    "    selected_feature_weights = [df_features2[category,match]for match in hw_features2]\n",
    "    all_weights.append(selected_feature_weights)\n",
    "\n",
    "#display results\n",
    "print \"For Bi Grams the largest coefficients are: \" + \"\\n\"\n",
    "for table_row in range(0,19):\n",
    "    print('Word: {} Weights: {}'.format(top20_name[table_row], [all_weights[w_class][table_row] for w_class in range(0,4)] )) #\"\\n\"\n",
    "\n",
    "### STUDENT END ###\n",
    "#P4()"
   ]
  },
  {
   "cell_type": "markdown",
   "metadata": {},
   "source": [
    "ANSWER: Its really surprising how much overlap there is in the bigram table across topics (ex \"cheers kent\") Kent is not a particularly common last name, but maybe it's someone important the in the religous world(?). I'm not surprised by the limited overlap between the 2 tables and the high volume of small words in the bigram table."
   ]
  },
  {
   "cell_type": "markdown",
   "metadata": {},
   "source": [
    "(5) Try to improve the logistic regression classifier by passing a custom preprocessor to CountVectorizer. The preprocessing function runs on the raw text, before it is split into words by the tokenizer. Your preprocessor should try to normalize the input in various ways to improve generalization. For example, try lowercasing everything, replacing sequences of numbers with a single token, removing various other non-letter characters, and shortening long words. If you're not already familiar with regular expressions for manipulating strings, see https://docs.python.org/2/library/re.html, and re.sub() in particular. With your new preprocessor, how much did you reduce the size of the dictionary?\n",
    "\n",
    "For reference, I was able to improve dev F1 by 2 points.\n",
    "\n",
    "[4 pts]"
   ]
  },
  {
   "cell_type": "code",
   "execution_count": 750,
   "metadata": {},
   "outputs": [
    {
     "name": "stdout",
     "output_type": "stream",
     "text": [
      "No Preprocessing vocabulary size: 33291\n"
     ]
    },
    {
     "name": "stderr",
     "output_type": "stream",
     "text": [
      "C:\\Users\\N0209810\\.conda\\envs\\my_root\\lib\\site-packages\\sklearn\\metrics\\classification.py:676: DeprecationWarning: The default `weighted` averaging is deprecated, and from version 0.18, use of precision, recall or F-score with multiclass or multilabel data or pos_label=None will result in an exception. Please set an explicit value for `average`, one of (None, 'micro', 'macro', 'weighted', 'samples'). In cross validation use, for instance, scoring=\"f1_weighted\" instead of scoring=\"f1\".\n",
      "  sample_weight=sample_weight)\n"
     ]
    },
    {
     "name": "stdout",
     "output_type": "stream",
     "text": [
      "No Preprocessing  f1: 0.714551506596\n",
      "Special Preprocessing vocabulary size: 24718\n",
      "Special Preprocessing  f1: 0.734435367357\n"
     ]
    },
    {
     "name": "stderr",
     "output_type": "stream",
     "text": [
      "C:\\Users\\N0209810\\.conda\\envs\\my_root\\lib\\site-packages\\sklearn\\metrics\\classification.py:676: DeprecationWarning: The default `weighted` averaging is deprecated, and from version 0.18, use of precision, recall or F-score with multiclass or multilabel data or pos_label=None will result in an exception. Please set an explicit value for `average`, one of (None, 'micro', 'macro', 'weighted', 'samples'). In cross validation use, for instance, scoring=\"f1_weighted\" instead of scoring=\"f1\".\n",
      "  sample_weight=sample_weight)\n"
     ]
    }
   ],
   "source": [
    "def empty_preprocessor(s):\n",
    "    return s\n",
    "\n",
    "def better_preprocessor(s):\n",
    "### STUDENT START ###\n",
    "    #to lower\n",
    "    s = s.lower()\n",
    "    #removes paragraphs/tabs etc (?) matches any word character (equal to [a-zA-Z0-9_]); increases accuracy\n",
    "    s = re.sub(r'[^\\w]', ' ',s)\n",
    "    #replace all numbers\n",
    "    s = re.sub(\"\\d+\", \"NUM\", s)\n",
    "    #Remove special characters; finds any whitespace character \n",
    "    s = re.sub('^\\s[^A-Za-z0-9]+',\"\",s)\n",
    "    \n",
    "    #white noise words; ubiquitious and of little value\n",
    "    #taken from https://github.com/postgres/postgres/tree/master/src/backend/snowball/stopwords\n",
    "    stopwords = ['i','me','my','myself','we','our','ours','ourselves','you','your','yours','yourself','yourselves','he','him','his','himself','she','her','hers','herself','it','its','itself','they','them','their','theirs','themselves','what','which','who','whom','this','that','these','those','am','is','are','was','were','be','been','being','have','has','had','having','do','does','did','doing','a','an','the','and','but','if','or','because','as','until','while','of','at','by','for','with','about','against','between','into','through','during','before','after','above','below','to','from','up','down','in','out','on','off','over','under','again','further','then','once','here','there','when','where','why','how','all','any','both','each','few','more','most','other','some','such','no','nor','not','only','own','same','so','than','too','very','s','t','can','will','just','don','should','now']\n",
    "\n",
    "    #remove stop words\n",
    "    for word in stopwords:\n",
    "        s= re.sub(\"\\s\"+ word +\"\\s\", \" \", s)\n",
    "        \n",
    "    #stemming; made it way worse, not surprising--I've never had good experience with it\n",
    "    #s= re.sub(\"ing\" +\"\\s\", \"\", s)\n",
    "    #s= re.sub(\"ly\" +\"\\s\", \"\", s)\n",
    "    #s= re.sub(\"s\" +\"\\s\", \"\", s)\n",
    "    \n",
    "    #removing large words  ##several combos made it worse\n",
    "    #s = re.sub(r'\\W*\\b\\w{9,15}\\b', \"\", s)\n",
    "    \n",
    "    #removing small words  ##also made it worse\n",
    "    #s = re.sub(r'\\W*\\b\\w{1,2}\\b', \"\", s)\n",
    "    \n",
    "    return s\n",
    "\n",
    "\n",
    "### STUDENT END ###\n",
    "\n",
    "def P5():\n",
    "### STUDENT START ###\n",
    "    #################################################\n",
    "    #Vanilla vectorizing\n",
    "    vanilla_vectorizer = CountVectorizer(preprocessor=empty_preprocessor)\n",
    "    vanilla_train_vec = vanilla_vectorizer.fit_transform(train_data).toarray()\n",
    "    vanilla_dev_vec = vanilla_vectorizer.transform(dev_data)\n",
    "    \n",
    "    #vocab size\n",
    "    print \"No Preprocessing vocabulary size: \" + str(vanilla_train_vec.shape[1])\n",
    "    \n",
    "    #Model with no preprocessing \n",
    "    vanilla_LR_model = LogisticRegression(penalty=\"l2\", C = 0.2)\n",
    "    vanilla_LR_model.fit(vanilla_train_vec, train_labels)\n",
    "    \n",
    "    #makes predictions on the dev dataset with the model I just built\n",
    "    vanilla_test_pred_labels = vanilla_LR_model.predict(vanilla_dev_vec)\n",
    "    \n",
    "    #accuracy Calcs (using f1 for multiclass problem + LR model)\n",
    "    vanilla_f1 = metrics.f1_score(vanilla_test_pred_labels, dev_labels)\n",
    "    print \"No Preprocessing  f1: \" + str(vanilla_f1) \n",
    "    \n",
    "    #################################################\n",
    "    #Special Preprocessing ---seriously missing nltk library :(\n",
    "    special_vectorizer = CountVectorizer(preprocessor=better_preprocessor)\n",
    "    special_train_vec = special_vectorizer.fit_transform(train_data).toarray()\n",
    "    special_dev_vec = special_vectorizer.transform(dev_data)\n",
    "    \n",
    "    #vocab size\n",
    "    print \"Special Preprocessing vocabulary size: \" + str(special_train_vec.shape[1])\n",
    "    \n",
    "    #Model with no preprocessing \n",
    "    special_LR_model = LogisticRegression(penalty=\"l2\", C = 0.2)\n",
    "    special_LR_model.fit(special_train_vec, train_labels)\n",
    "    \n",
    "    #makes predictions on the dev dataset with the model I just built\n",
    "    special_test_pred_labels = special_LR_model.predict(special_dev_vec)\n",
    "    \n",
    "    #accuracy Calcs (using f1 for multiclass problem + LR model)\n",
    "    special_f1 = metrics.f1_score(special_test_pred_labels, dev_labels)\n",
    "    print \"Special Preprocessing  f1: \" + str(special_f1)\n",
    "\n",
    "### STUDENT END ###\n",
    "P5()"
   ]
  },
  {
   "cell_type": "code",
   "execution_count": 752,
   "metadata": {},
   "outputs": [
    {
     "name": "stdout",
     "output_type": "stream",
     "text": [
      "pre processing vocab reduction of: 8573\n",
      "f1 increased by: 1.9883860761%\n"
     ]
    }
   ],
   "source": [
    "print \"pre processing vocab reduction of: \" + str(33291-24718)\n",
    "print \"f1 increased by: \" + str((0.734435367357-0.714551506596)*100)+\"%\"\n",
    "print \"which really rounds to 2\""
   ]
  },
  {
   "cell_type": "markdown",
   "metadata": {},
   "source": [
    "(6) The idea of regularization is to avoid learning very large weights (which are likely to fit the training data, but not generalize well) by adding a penalty to the total size of the learned weights. That is, logistic regression seeks the set of weights that minimizes errors in the training data AND has a small size. The default regularization, L2, computes this size as the sum of the squared weights (see P3, above). L1 regularization computes this size as the sum of the absolute values of the weights. The result is that whereas L2 regularization makes all the weights relatively small, L1 regularization drives lots of the weights to 0, effectively removing unimportant features.\n",
    "\n",
    "Train a logistic regression model using a \"l1\" penalty. Output the number of learned weights that are not equal to zero. How does this compare to the number of non-zero weights you get with \"l2\"? Now, reduce the size of the vocabulary by keeping only those features that have at least one non-zero weight and retrain a model using \"l2\".\n",
    "\n",
    "Make a plot showing accuracy of the re-trained model vs. the vocabulary size you get when pruning unused features by adjusting the C parameter.\n",
    "\n",
    "Note: The gradient descent code that trains the logistic regression model sometimes has trouble converging with extreme settings of the C parameter. Relax the convergence criteria by setting tol=.01 (the default is .0001).\n",
    "\n",
    "[4 pts]"
   ]
  },
  {
   "cell_type": "code",
   "execution_count": 846,
   "metadata": {},
   "outputs": [
    {
     "name": "stdout",
     "output_type": "stream",
     "text": [
      "L2 penalty has 107516 number of non-zero weights\n",
      "L1 penalty has 5 number of non-zero weights\n",
      "(2034L, 2L)\n",
      "Regularization weight: 0.0010.373860544704\n"
     ]
    },
    {
     "name": "stderr",
     "output_type": "stream",
     "text": [
      "C:\\Users\\N0209810\\.conda\\envs\\my_root\\lib\\site-packages\\sklearn\\metrics\\classification.py:676: DeprecationWarning: The default `weighted` averaging is deprecated, and from version 0.18, use of precision, recall or F-score with multiclass or multilabel data or pos_label=None will result in an exception. Please set an explicit value for `average`, one of (None, 'micro', 'macro', 'weighted', 'samples'). In cross validation use, for instance, scoring=\"f1_weighted\" instead of scoring=\"f1\".\n",
      "  sample_weight=sample_weight)\n"
     ]
    },
    {
     "name": "stdout",
     "output_type": "stream",
     "text": [
      "L2 penalty has 107516 number of non-zero weights\n",
      "L1 penalty has 35 number of non-zero weights\n",
      "(2034L, 16L)\n",
      "Regularization weight: 0.010.497324048797\n"
     ]
    },
    {
     "name": "stderr",
     "output_type": "stream",
     "text": [
      "C:\\Users\\N0209810\\.conda\\envs\\my_root\\lib\\site-packages\\sklearn\\metrics\\classification.py:676: DeprecationWarning: The default `weighted` averaging is deprecated, and from version 0.18, use of precision, recall or F-score with multiclass or multilabel data or pos_label=None will result in an exception. Please set an explicit value for `average`, one of (None, 'micro', 'macro', 'weighted', 'samples'). In cross validation use, for instance, scoring=\"f1_weighted\" instead of scoring=\"f1\".\n",
      "  sample_weight=sample_weight)\n"
     ]
    },
    {
     "name": "stdout",
     "output_type": "stream",
     "text": [
      "L2 penalty has 107516 number of non-zero weights\n",
      "L1 penalty has 364 number of non-zero weights\n",
      "(2034L, 211L)\n",
      "Regularization weight: 0.10.689499026459\n"
     ]
    },
    {
     "name": "stderr",
     "output_type": "stream",
     "text": [
      "C:\\Users\\N0209810\\.conda\\envs\\my_root\\lib\\site-packages\\sklearn\\metrics\\classification.py:676: DeprecationWarning: The default `weighted` averaging is deprecated, and from version 0.18, use of precision, recall or F-score with multiclass or multilabel data or pos_label=None will result in an exception. Please set an explicit value for `average`, one of (None, 'micro', 'macro', 'weighted', 'samples'). In cross validation use, for instance, scoring=\"f1_weighted\" instead of scoring=\"f1\".\n",
      "  sample_weight=sample_weight)\n"
     ]
    },
    {
     "name": "stdout",
     "output_type": "stream",
     "text": [
      "L2 penalty has 107516 number of non-zero weights\n",
      "L1 penalty has 747 number of non-zero weights\n",
      "(2034L, 434L)\n",
      "Regularization weight: 0.250.697910279953\n"
     ]
    },
    {
     "name": "stderr",
     "output_type": "stream",
     "text": [
      "C:\\Users\\N0209810\\.conda\\envs\\my_root\\lib\\site-packages\\sklearn\\metrics\\classification.py:676: DeprecationWarning: The default `weighted` averaging is deprecated, and from version 0.18, use of precision, recall or F-score with multiclass or multilabel data or pos_label=None will result in an exception. Please set an explicit value for `average`, one of (None, 'micro', 'macro', 'weighted', 'samples'). In cross validation use, for instance, scoring=\"f1_weighted\" instead of scoring=\"f1\".\n",
      "  sample_weight=sample_weight)\n"
     ]
    },
    {
     "name": "stdout",
     "output_type": "stream",
     "text": [
      "L2 penalty has 107516 number of non-zero weights\n",
      "L1 penalty has 1227 number of non-zero weights\n",
      "(2034L, 739L)\n",
      "Regularization weight: 0.50.68169704313\n"
     ]
    },
    {
     "name": "stderr",
     "output_type": "stream",
     "text": [
      "C:\\Users\\N0209810\\.conda\\envs\\my_root\\lib\\site-packages\\sklearn\\metrics\\classification.py:676: DeprecationWarning: The default `weighted` averaging is deprecated, and from version 0.18, use of precision, recall or F-score with multiclass or multilabel data or pos_label=None will result in an exception. Please set an explicit value for `average`, one of (None, 'micro', 'macro', 'weighted', 'samples'). In cross validation use, for instance, scoring=\"f1_weighted\" instead of scoring=\"f1\".\n",
      "  sample_weight=sample_weight)\n"
     ]
    },
    {
     "name": "stdout",
     "output_type": "stream",
     "text": [
      "L2 penalty has 107516 number of non-zero weights\n",
      "L1 penalty has 1623 number of non-zero weights\n",
      "(2034L, 955L)\n"
     ]
    },
    {
     "name": "stderr",
     "output_type": "stream",
     "text": [
      "C:\\Users\\N0209810\\.conda\\envs\\my_root\\lib\\site-packages\\sklearn\\metrics\\classification.py:676: DeprecationWarning: The default `weighted` averaging is deprecated, and from version 0.18, use of precision, recall or F-score with multiclass or multilabel data or pos_label=None will result in an exception. Please set an explicit value for `average`, one of (None, 'micro', 'macro', 'weighted', 'samples'). In cross validation use, for instance, scoring=\"f1_weighted\" instead of scoring=\"f1\".\n",
      "  sample_weight=sample_weight)\n"
     ]
    },
    {
     "name": "stdout",
     "output_type": "stream",
     "text": [
      "Regularization weight: 0.750.672120257\n",
      "L2 penalty has 107516 number of non-zero weights\n",
      "L1 penalty has 1691 number of non-zero weights\n",
      "(2034L, 1012L)\n"
     ]
    },
    {
     "name": "stderr",
     "output_type": "stream",
     "text": [
      "C:\\Users\\N0209810\\.conda\\envs\\my_root\\lib\\site-packages\\sklearn\\metrics\\classification.py:676: DeprecationWarning: The default `weighted` averaging is deprecated, and from version 0.18, use of precision, recall or F-score with multiclass or multilabel data or pos_label=None will result in an exception. Please set an explicit value for `average`, one of (None, 'micro', 'macro', 'weighted', 'samples'). In cross validation use, for instance, scoring=\"f1_weighted\" instead of scoring=\"f1\".\n",
      "  sample_weight=sample_weight)\n"
     ]
    },
    {
     "name": "stdout",
     "output_type": "stream",
     "text": [
      "Regularization weight: 0.90.678046380066\n",
      "L2 penalty has 107516 number of non-zero weights\n",
      "L1 penalty has 1762 number of non-zero weights\n",
      "(2034L, 1035L)\n"
     ]
    },
    {
     "name": "stderr",
     "output_type": "stream",
     "text": [
      "C:\\Users\\N0209810\\.conda\\envs\\my_root\\lib\\site-packages\\sklearn\\metrics\\classification.py:676: DeprecationWarning: The default `weighted` averaging is deprecated, and from version 0.18, use of precision, recall or F-score with multiclass or multilabel data or pos_label=None will result in an exception. Please set an explicit value for `average`, one of (None, 'micro', 'macro', 'weighted', 'samples'). In cross validation use, for instance, scoring=\"f1_weighted\" instead of scoring=\"f1\".\n",
      "  sample_weight=sample_weight)\n"
     ]
    },
    {
     "name": "stdout",
     "output_type": "stream",
     "text": [
      "Regularization weight: 0.990.691485159381\n",
      "L2 penalty has 107516 number of non-zero weights\n",
      "L1 penalty has 1853 number of non-zero weights\n",
      "(2034L, 1094L)\n"
     ]
    },
    {
     "name": "stderr",
     "output_type": "stream",
     "text": [
      "C:\\Users\\N0209810\\.conda\\envs\\my_root\\lib\\site-packages\\sklearn\\metrics\\classification.py:676: DeprecationWarning: The default `weighted` averaging is deprecated, and from version 0.18, use of precision, recall or F-score with multiclass or multilabel data or pos_label=None will result in an exception. Please set an explicit value for `average`, one of (None, 'micro', 'macro', 'weighted', 'samples'). In cross validation use, for instance, scoring=\"f1_weighted\" instead of scoring=\"f1\".\n",
      "  sample_weight=sample_weight)\n"
     ]
    },
    {
     "name": "stdout",
     "output_type": "stream",
     "text": [
      "Regularization weight: 10.689451523678\n",
      "L2 penalty has 107516 number of non-zero weights\n",
      "L1 penalty has 6025 number of non-zero weights\n",
      "(2034L, 3181L)\n"
     ]
    },
    {
     "name": "stderr",
     "output_type": "stream",
     "text": [
      "C:\\Users\\N0209810\\.conda\\envs\\my_root\\lib\\site-packages\\sklearn\\metrics\\classification.py:676: DeprecationWarning: The default `weighted` averaging is deprecated, and from version 0.18, use of precision, recall or F-score with multiclass or multilabel data or pos_label=None will result in an exception. Please set an explicit value for `average`, one of (None, 'micro', 'macro', 'weighted', 'samples'). In cross validation use, for instance, scoring=\"f1_weighted\" instead of scoring=\"f1\".\n",
      "  sample_weight=sample_weight)\n"
     ]
    },
    {
     "name": "stdout",
     "output_type": "stream",
     "text": [
      "Regularization weight: 100.696609512994\n",
      "L2 penalty has 107516 number of non-zero weights\n",
      "L1 penalty has 18287 number of non-zero weights\n",
      "(2034L, 7692L)\n",
      "Regularization weight: 1000.68999404115\n",
      "[0.37386054470403646, 0.49732404879702524, 0.68949902645894545, 0.69791027995339461, 0.68169704312969825, 0.67212025699972733, 0.67804638006551043, 0.69148515938108301, 0.68945152367781537, 0.69660951299423712, 0.68999404114988505]\n",
      "[5, 35, 364, 747, 1227, 1623, 1691, 1762, 1853, 6025, 18287]\n"
     ]
    },
    {
     "name": "stderr",
     "output_type": "stream",
     "text": [
      "C:\\Users\\N0209810\\.conda\\envs\\my_root\\lib\\site-packages\\sklearn\\metrics\\classification.py:676: DeprecationWarning: The default `weighted` averaging is deprecated, and from version 0.18, use of precision, recall or F-score with multiclass or multilabel data or pos_label=None will result in an exception. Please set an explicit value for `average`, one of (None, 'micro', 'macro', 'weighted', 'samples'). In cross validation use, for instance, scoring=\"f1_weighted\" instead of scoring=\"f1\".\n",
      "  sample_weight=sample_weight)\n"
     ]
    },
    {
     "data": {
      "image/png": "[encoded data removed]",
      "text/plain": [
       "<matplotlib.figure.Figure at 0x286efe10>"
      ]
     },
     "metadata": {},
     "output_type": "display_data"
    }
   ],
   "source": [
    "def P6():\n",
    "    # Keep this random seed here to make comparison easier.\n",
    "    np.random.seed(0)\n",
    "\n",
    "    ### STUDENT START ###\n",
    "    for c in regularization_c:\n",
    "        #################################################\n",
    "        #l2 penalty -- all data points\n",
    "        #single grams\n",
    "        vectorizer = CountVectorizer()\n",
    "        train_vec = vectorizer.fit_transform(train_data).toarray()\n",
    "        dev_vec = vectorizer.transform(dev_data)\n",
    "\n",
    "        #fit model\n",
    "        LR_model = LogisticRegression(penalty=\"l2\", C = c, tol=0.01)\n",
    "        LR_model.fit(train_vec, train_labels)\n",
    "\n",
    "        #model outputs\n",
    "        df_features2 = LR_model.coef_ #LR model coefficents\n",
    "\n",
    "        print \"L2 penalty has \" + str(np.count_nonzero(df_features2)) +\" number of non-zero weights\"\n",
    "        #calcs the total number of items in the array of arrays...please bring back the PANDAS!!!\n",
    "        #and the number of non-0's in that array & boom you have the total number of 0's\n",
    "        #print df_features2.shape[0]*df_features2.shape[1] - np.count_nonzero(df_features2)\n",
    "\n",
    "        ###################################################\n",
    "        #model with L1 penalty --all data points\n",
    "        #single grams\n",
    "        vectorizer = CountVectorizer()\n",
    "        train_vec = vectorizer.fit_transform(train_data).toarray()\n",
    "        dev_vec = vectorizer.transform(dev_data)\n",
    "\n",
    "        #fit model\n",
    "        LR_model = LogisticRegression(penalty=\"l1\", C = c, tol=0.01)\n",
    "        LR_model.fit(train_vec, train_labels)\n",
    "\n",
    "        #model outputs\n",
    "        df_features2 = LR_model.coef_ #LR model coefficents\n",
    "\n",
    "        #grab the features with NON 0 weighted features\n",
    "        non_zero_features = np.argwhere(df_features2!=0)\n",
    "        print \"L1 penalty has \" + str(np.count_nonzero(df_features2)) +\" number of non-zero weights\"\n",
    "        feature_cnt.append(np.count_nonzero(df_features2))\n",
    "        \n",
    "        new_list = []\n",
    "        #removing columns that have a total of 0, a rough work around...believe me I know\n",
    "        #bring back the pandas!! df.loc[:, (df != 0).any(axis=0)]\n",
    "        for entry_index in range(0,train_vec.shape[1]):\n",
    "            #checkout if the features add to 0\n",
    "            total = df_features2[:,entry_index].sum()\n",
    "            if total != 0:\n",
    "                new_list.append(entry_index)\n",
    "            #print total\n",
    "        #print new_list\n",
    "        ##########################\n",
    "        #prune word vector\n",
    "        #grab all feature names\n",
    "        feature_names = vectorizer.get_feature_names()\n",
    "        #select just the feature names with non 0 totals for each class\n",
    "        clean_names = [feature_names[match]for match in new_list]\n",
    "\n",
    "        ######################################################\n",
    "        #L2 SOME datapoints\n",
    "        #single grams\n",
    "        vectorizer = CountVectorizer()\n",
    "        clean_vec = vectorizer.fit(clean_names)\n",
    "        train_vec = clean_vec.transform(train_data).toarray()\n",
    "        dev_vec = clean_vec.transform(dev_data)\n",
    "\n",
    "        print np.shape(train_vec)\n",
    "\n",
    "        #fit model\n",
    "        LR_model = LogisticRegression(penalty=\"l2\", C = c, tol=0.01)\n",
    "        LR_model.fit(train_vec, train_labels)\n",
    "\n",
    "        #makes predictions on the dev dataset with the model I just built\n",
    "        dev_pred_labels = LR_model.predict(dev_vec)\n",
    "\n",
    "        #accuracy Calcs (using f1 for multiclass problem + LR model)\n",
    "        q6_f1 = metrics.f1_score(dev_pred_labels, dev_labels)\n",
    "        print \"Regularization weight: \" + str(c) + str(q6_f1)\n",
    "        accuracy.append(q6_f1)\n",
    "    \n",
    "    print accuracy\n",
    "    print feature_cnt   \n",
    "    #show relationship\n",
    "    plt.scatter(np.log(feature_cnt), accuracy)\n",
    "    plt.title('Effect of Feature Count on F1 Score')  \n",
    "    plt.ylabel('F1 Score') \n",
    "    plt.xlabel('Log of Feature Count') \n",
    "    plt.show()\n",
    "\n",
    "    ### STUDENT END ###\n",
    "accuracy = []\n",
    "feature_cnt = []\n",
    "regularization_c =[0.001, 0.01, 0.1, 0.25, 0.5, 0.75, 0.9, 0.99,1,10,100] # had to shift so it would run[0.0001, \n",
    "P6()\n",
    "\n"
   ]
  },
  {
   "cell_type": "markdown",
   "metadata": {},
   "source": [
    "(7) Use the TfidfVectorizer -- how is this different from the CountVectorizer? Train a logistic regression model with C=100.\n",
    "\n",
    "Make predictions on the dev data and show the top 3 documents where the ratio R is largest, where R is:\n",
    "\n",
    "maximum predicted probability / predicted probability of the correct label\n",
    "\n",
    "What kinds of mistakes is the model making? Suggest a way to address one particular issue that you see.\n",
    "\n",
    "[4 pts]"
   ]
  },
  {
   "cell_type": "code",
   "execution_count": 691,
   "metadata": {},
   "outputs": [
    {
     "name": "stdout",
     "output_type": "stream",
     "text": [
      "With the TFIDF leveraged, the vocabulary size shrinks to : 26879\n",
      "\n",
      "Actual category: talk.religion.misc\n",
      "Predicted category: comp.graphics\n",
      "\n",
      "text: I am pleased to announce that a *revised version* of _The Easy-to-Read Book\n",
      "of Mormon_ (former title: _Mormon's Book_) by Lynn Matthews Anderson is now\n",
      "available through anonymous ftp (see information below). In addition to the\n",
      "change in title, the revised ETR BOM has been shortened by several pages\n",
      "(eliminating many extraneous \"that's\" and \"of's\"), and many (minor) errors\n",
      "have been corrected. This release includes a simplified Joseph Smith Story,\n",
      "testimonies of the three and eight witnesses, and a \"Words-to-Know\"\n",
      "glossary.\n",
      "\n",
      "As with the previous announcement, readers are reminded that this is a\n",
      "not-for-profit endeavor. This is a copyrighted work, but people are welcome\n",
      "to make *verbatim* copies for personal use. People can recuperate the\n",
      "actual costs of printing (paper, copy center charges), but may not charge\n",
      "anything for their time in making copies, or in any way realize a profit\n",
      "from the use of this book. See the permissions notice in the book itself\n",
      "for the precise terms.\n",
      "\n",
      "Negotiations are currently underway with a Mormon publisher vis-a-vis the\n",
      "printing and distribution of bound books. (Sorry, I'm out of the wire-bound\n",
      "\"first editions.\") I will make another announcement about the availability\n",
      "of printed copies once everything has been worked out.\n",
      "\n",
      "FTP information: connect via anonymous ftp to carnot.itc.cmu.edu, then \"cd\n",
      "pub\" (you won't see anything at all until you do).\n",
      "\n",
      "\"The Easy-to-Read Book of Mormon\" is currently available in postscript and\n",
      "RTF (rich text format). (ASCII, LaTeX, and other versions can be made\n",
      "available; contact dba@andrew.cmu.edu for details.) You should be able to\n",
      "print the postscript file on any postscript printer (such as an Apple\n",
      "Laserwriter); let dba know if you have any difficulties. (The postscript in\n",
      "the last release had problems on some printers; this time it should work\n",
      "better.) RTF is a standard document interchange format that can be read in\n",
      "by a number of word processors, including Microsoft Word for both the\n",
      "Macintosh and Windows. If you don't have a postscript printer, you may be\n",
      "able to use the RTF file to print out a copy of the book.\n",
      "\n",
      "-r--r--r--  1 dba                   1984742 Apr 27 13:12 etrbom.ps\n",
      "-r--r--r--  1 dba                   1209071 Apr 27 13:13 etrbom.rtf\n",
      "\n",
      "For more information about how this project came about, please refer to my\n",
      "article in the current issue of _Sunstone_, entitled \"Delighting in\n",
      "Plainness: Issues Surrounding a Simple Modern English Book of Mormon.\"\n",
      "\n",
      "Send all inquiries and comments to:\n",
      "\n",
      "    Lynn Matthews Anderson\n",
      "    5806 Hampton Street\n",
      "    Pittsburgh, PA 15206\n",
      "\n",
      "--------------------------------------\n",
      "Actual category: talk.religion.misc\n",
      "Predicted category: comp.graphics\n",
      "\n",
      "text: Can anyone provide me a ftp site where I can obtain a online version\n",
      "of the Book of Mormon. Please email the internet address if possible.\n",
      "\n",
      "--------------------------------------\n",
      "Actual category: alt.atheism\n",
      "Predicted category: talk.religion.misc\n",
      "\n",
      "text: \n",
      "The 24 children were, of course, killed by a lone gunman in a second story\n",
      "window, who fired eight bullets in the space of two seconds...\n",
      "\n",
      "\n",
      "--------------------------------------\n"
     ]
    },
    {
     "name": "stderr",
     "output_type": "stream",
     "text": [
      "C:\\Users\\N0209810\\.conda\\envs\\my_root\\lib\\site-packages\\ipykernel\\__main__.py:41: DeprecationWarning: converting an array with ndim > 0 to an index will result in an error in the future\n",
      "C:\\Users\\N0209810\\.conda\\envs\\my_root\\lib\\site-packages\\ipykernel\\__main__.py:43: DeprecationWarning: converting an array with ndim > 0 to an index will result in an error in the future\n"
     ]
    }
   ],
   "source": [
    "def P7():\n",
    "    ### STUDENT START ###\n",
    "    #length weighting vectorizing\n",
    "    tfidf_vectorizer = TfidfVectorizer()\n",
    "    tfidf_train_vec = tfidf_vectorizer.fit_transform(train_data)\n",
    "    dev_vec = tfidf_vectorizer.transform(dev_data)\n",
    "    \n",
    "    #vocab size\n",
    "    print \"With the TFIDF leveraged, the vocabulary size shrinks to : \" + str(tfidf_train_vec.shape[1]) + \"\\n\"\n",
    "    \n",
    "    #Model with no preprocessing \n",
    "    tfidf_LR_model = LogisticRegression(penalty=\"l2\", C = 100)\n",
    "    tfidf_LR_model.fit(tfidf_train_vec, train_labels)\n",
    "    \n",
    "    #makes predictions on the dev dataset with the model I just built\n",
    "    tfidf_dev_pred_labels = tfidf_LR_model.predict(dev_vec)\n",
    "    tfidf_dev_pred_probs = tfidf_LR_model.predict_proba(dev_vec)\n",
    "                                \n",
    "    max_probabilities =[] \n",
    "    denominator = []\n",
    "    #look at all entries in the dev dataset\n",
    "    for item in range(0,len(dev_data)):\n",
    "        #find the max prob for each entry\n",
    "        max_prob = np.max(tfidf_dev_pred_probs[item])\n",
    "        max_probabilities.append(max_prob)\n",
    "        #find the denominator for R\n",
    "        label_prob = tfidf_dev_pred_probs[item,dev_labels[item]]\n",
    "        denominator.append(label_prob)\n",
    "        \n",
    "    ##R = maximum predicted probability (selected label) / predicted probability of the correct label (prob of the real label); R = 1 if they match\n",
    "    R = np.array(max_probabilities) / np.array(denominator)\n",
    "    \n",
    "    #flag records that are top 3\n",
    "    top_3 = np.sort(R)[-3:] #:-1][::-1]\n",
    "    \n",
    "    #print out the most incorrect predictions\n",
    "    for m in range(2,-1,-1):\n",
    "        #finds the position on the entry in Dev data\n",
    "        dev_location = [i for i,x in enumerate(R) if x == top_3[m]]\n",
    "        #show the category\n",
    "        print \"Actual category: \" + str(newsgroups_train.target_names[dev_labels[dev_location]])\n",
    "        #show the predicted category\n",
    "        print \"Predicted category: \" + str(newsgroups_train.target_names[tfidf_dev_pred_labels[dev_location]]) + \"\\n\"\n",
    "        #show the text for the message\n",
    "        print \"text: \" + str(dev_data[dev_location[0]])+ \"\\n\"\n",
    "        print \"--------------------------------------\"\n",
    "    \n",
    "\n",
    "    ### STUDENT END ###\n",
    "P7()"
   ]
  },
  {
   "cell_type": "markdown",
   "metadata": {},
   "source": [
    "ANSWER: TfidfVectorizer -- how is this different from the CountVectorizer? The term frequency inverse document frequency weighs the importance of the features given the length of the overall message so that longer messages don't carry additional importance in the model just because they are longer. The model does not do a very good job of considering the associations between words, it would be cool to build a long short term memory model to adjust for some of those relationships, phrases like \"book of Mormon\" might be picked up on as much more significant. Maybe after 205! It would also be interesting to try and merge the model with some pretrained text like word2vec to see if more established vernacular could assist with the identification of false red flags such at email, internet, and ftp seen in a few of the examples above."
   ]
  },
  {
   "cell_type": "markdown",
   "metadata": {},
   "source": [
    "(8) EXTRA CREDIT\n",
    "\n",
    "Try implementing one of your ideas based on your error analysis. Use logistic regression as your underlying model.\n",
    "\n",
    "- [1 pt] for a reasonable attempt\n",
    "- [2 pts] for improved performance"
   ]
  }
 ],
 "metadata": {
  "anaconda-cloud": {},
  "kernelspec": {
   "display_name": "Python [default]",
   "language": "python",
   "name": "python2"
  },
  "language_info": {
   "codemirror_mode": {
    "name": "ipython",
    "version": 2
   },
   "file_extension": ".py",
   "mimetype": "text/x-python",
   "name": "python",
   "nbconvert_exporter": "python",
   "pygments_lexer": "ipython2",
   "version": "2.7.13"
  }
 },
 "nbformat": 4,
 "nbformat_minor": 1
}
