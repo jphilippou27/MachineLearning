{
 "cells": [
  {
   "cell_type": "markdown",
   "metadata": {},
   "source": [
    "# Project 3: Poisonous mushrooms"
   ]
  },
  {
   "cell_type": "markdown",
   "metadata": {},
   "source": [
    "In this project, you'll investigate properties of mushrooms. This classic dataset contains over 8000 observations, where each mushroom is described by a variety of features like color, odor, etc., and the target variable is an indicator for whether the mushroom is poisonous. Since all the observations are categorical, I've binarized the feature space. Look at the feature_names below to see all 126 binary names.\n",
    "\n",
    "You'll start by running PCA to reduce the dimensionality from 126 down to 2 so that you can easily visualize the data. In general, PCA is very useful for visualization (though sklearn.manifold.tsne is known to produce better visualizations). Recall that PCA is a linear transformation. The 1st projected dimension is the linear combination of all 126 original features that captures as much of the variance in the data as possible. The 2nd projected dimension is the linear combination of all 126 original features that captures as much of the remaining variance as possible. The idea of dense low dimensional representations is crucial to machine learning!\n",
    "\n",
    "Once you've projected the data to 2 dimensions, you'll experiment with clustering using KMeans and density estimation with Gaussian Mixture Models. Finally, you'll train a classifier by fitting a GMM for the positive class and a GMM for the negative class, and perform inference by comparing the probabilities output by each model.\n",
    "\n",
    "As always, you're welcome to work on the project in groups and discuss ideas on the course wall, but please prepare your own write-up and write your own code."
   ]
  },
  {
   "cell_type": "code",
   "execution_count": 6,
   "metadata": {
    "collapsed": true
   },
   "outputs": [],
   "source": [
    "%matplotlib inline\n",
    "\n",
    "import numpy as np\n",
    "import matplotlib.pyplot as plt\n",
    "from sklearn import metrics\n",
    "from sklearn.decomposition import PCA\n",
    "from sklearn.cluster import KMeans\n",
    "from sklearn.mixture import GMM\n",
    "from matplotlib.colors import LogNorm"
   ]
  },
  {
   "cell_type": "markdown",
   "metadata": {},
   "source": [
    "Load feature names."
   ]
  },
  {
   "cell_type": "code",
   "execution_count": 7,
   "metadata": {},
   "outputs": [
    {
     "name": "stdout",
     "output_type": "stream",
     "text": [
      "Loaded feature names: 126\n"
     ]
    }
   ],
   "source": [
    "feature_names = []\n",
    "with open('../Data/mushroom.map') as fmap:\n",
    "    for line in fmap:\n",
    "        [index, name, junk] = line.split()\n",
    "        feature_names.append(name)\n",
    "\n",
    "print 'Loaded feature names:', len(feature_names)"
   ]
  },
  {
   "cell_type": "markdown",
   "metadata": {},
   "source": [
    "Load data. The data is sparse in the input file, but there aren't too many features, so we'll use a dense representation, which is supported by all sklearn objects."
   ]
  },
  {
   "cell_type": "code",
   "execution_count": 107,
   "metadata": {},
   "outputs": [
    {
     "name": "stdout",
     "output_type": "stream",
     "text": [
      "(7000L, 126L) (1124L, 126L)\n",
      "(7000L,)\n"
     ]
    }
   ],
   "source": [
    "X, Y = [], []\n",
    "\n",
    "with open('../Data/mushroom.data') as fdata:\n",
    "    for line in fdata:\n",
    "        items = line.split()\n",
    "        Y.append(int(items.pop(0)))\n",
    "        x = np.zeros(len(feature_names))\n",
    "        for item in items:\n",
    "            feature = int(item.split(':')[0])\n",
    "            x[feature] = 1\n",
    "        X.append(x)\n",
    "\n",
    "# Convert these lists to numpy arrays.\n",
    "X = np.array(X)\n",
    "Y = np.array(Y)\n",
    "\n",
    "# Split into train and test data.\n",
    "train_data, train_labels = X[:7000], Y[:7000]\n",
    "test_data, test_labels = X[7000:], Y[7000:]\n",
    "\n",
    "# Check that the shapes look right.\n",
    "print train_data.shape, test_data.shape\n",
    "print train_labels.shape"
   ]
  },
  {
   "cell_type": "markdown",
   "metadata": {},
   "source": [
    "(1) Run Principal Components Analysis on the data. Show what fraction of the total variance in the training data is explained by the first k principal components, for k in [1, 50]."
   ]
  },
  {
   "cell_type": "code",
   "execution_count": 56,
   "metadata": {},
   "outputs": [
    {
     "name": "stdout",
     "output_type": "stream",
     "text": [
      "Total Cummulative Variance: 0.297 Component Count :1 Last Component Varianace: 0.164\n",
      "Total Cummulative Variance: 0.399 Component Count :2 Last Component Varianace: 0.133\n",
      "Total Cummulative Variance: 0.47 Component Count :3 Last Component Varianace: 0.102\n",
      "Total Cummulative Variance: 0.508 Component Count :4 Last Component Varianace: 0.071\n",
      "Total Cummulative Variance: 0.545 Component Count :5 Last Component Varianace: 0.039\n",
      "Total Cummulative Variance: 0.576 Component Count :6 Last Component Varianace: 0.037\n",
      "Total Cummulative Variance: 0.604 Component Count :7 Last Component Varianace: 0.031\n",
      "Total Cummulative Variance: 0.63 Component Count :8 Last Component Varianace: 0.027\n",
      "Total Cummulative Variance: 0.652 Component Count :9 Last Component Varianace: 0.026\n",
      "Total Cummulative Variance: 0.673 Component Count :10 Last Component Varianace: 0.022\n",
      "Total Cummulative Variance: 0.691 Component Count :11 Last Component Varianace: 0.02\n",
      "Total Cummulative Variance: 0.709 Component Count :12 Last Component Varianace: 0.019\n",
      "Total Cummulative Variance: 0.726 Component Count :13 Last Component Varianace: 0.017\n",
      "Total Cummulative Variance: 0.741 Component Count :14 Last Component Varianace: 0.017\n",
      "Total Cummulative Variance: 0.756 Component Count :15 Last Component Varianace: 0.015\n",
      "Total Cummulative Variance: 0.77 Component Count :16 Last Component Varianace: 0.015\n",
      "Total Cummulative Variance: 0.784 Component Count :17 Last Component Varianace: 0.014\n",
      "Total Cummulative Variance: 0.798 Component Count :18 Last Component Varianace: 0.014\n",
      "Total Cummulative Variance: 0.809 Component Count :19 Last Component Varianace: 0.013\n",
      "Total Cummulative Variance: 0.82 Component Count :20 Last Component Varianace: 0.011\n",
      "Total Cummulative Variance: 0.83 Component Count :21 Last Component Varianace: 0.011\n",
      "Total Cummulative Variance: 0.841 Component Count :22 Last Component Varianace: 0.011\n",
      "Total Cummulative Variance: 0.851 Component Count :23 Last Component Varianace: 0.01\n",
      "Total Cummulative Variance: 0.86 Component Count :24 Last Component Varianace: 0.01\n",
      "Total Cummulative Variance: 0.868 Component Count :25 Last Component Varianace: 0.009\n",
      "Total Cummulative Variance: 0.876 Component Count :26 Last Component Varianace: 0.009\n",
      "Total Cummulative Variance: 0.884 Component Count :27 Last Component Varianace: 0.008\n",
      "Total Cummulative Variance: 0.892 Component Count :28 Last Component Varianace: 0.008\n",
      "Total Cummulative Variance: 0.899 Component Count :29 Last Component Varianace: 0.007\n",
      "Total Cummulative Variance: 0.905 Component Count :30 Last Component Varianace: 0.007\n",
      "Total Cummulative Variance: 0.911 Component Count :31 Last Component Varianace: 0.006\n",
      "Total Cummulative Variance: 0.917 Component Count :32 Last Component Varianace: 0.006\n",
      "Total Cummulative Variance: 0.922 Component Count :33 Last Component Varianace: 0.006\n",
      "Total Cummulative Variance: 0.927 Component Count :34 Last Component Varianace: 0.005\n",
      "Total Cummulative Variance: 0.932 Component Count :35 Last Component Varianace: 0.005\n",
      "Total Cummulative Variance: 0.937 Component Count :36 Last Component Varianace: 0.005\n",
      "Total Cummulative Variance: 0.942 Component Count :37 Last Component Varianace: 0.005\n",
      "Total Cummulative Variance: 0.947 Component Count :38 Last Component Varianace: 0.005\n",
      "Total Cummulative Variance: 0.951 Component Count :39 Last Component Varianace: 0.005\n",
      "Total Cummulative Variance: 0.955 Component Count :40 Last Component Varianace: 0.004\n",
      "Total Cummulative Variance: 0.959 Component Count :41 Last Component Varianace: 0.004\n",
      "Total Cummulative Variance: 0.963 Component Count :42 Last Component Varianace: 0.004\n",
      "Total Cummulative Variance: 0.966 Component Count :43 Last Component Varianace: 0.004\n",
      "Total Cummulative Variance: 0.97 Component Count :44 Last Component Varianace: 0.004\n",
      "Total Cummulative Variance: 0.973 Component Count :45 Last Component Varianace: 0.003\n",
      "Total Cummulative Variance: 0.975 Component Count :46 Last Component Varianace: 0.003\n",
      "Total Cummulative Variance: 0.978 Component Count :47 Last Component Varianace: 0.003\n",
      "Total Cummulative Variance: 0.98 Component Count :48 Last Component Varianace: 0.002\n",
      "Total Cummulative Variance: 0.982 Component Count :49 Last Component Varianace: 0.002\n",
      "Total Cummulative Variance: 0.984 Component Count :50 Last Component Varianace: 0.002\n"
     ]
    }
   ],
   "source": [
    "def P1():\n",
    "### STUDENT START ###\n",
    "    k = range(1,52)\n",
    "\n",
    "    variance_list = []\n",
    "    #run PCA for every parameter k\n",
    "    for i in range(1,len(k)):\n",
    "        #plt.cla()\n",
    "        pca = PCA(n_components=k[i])\n",
    "        pca.fit(train_data)\n",
    "        X = pca.transform(train_data)\n",
    "        #pca.fit_transform(test_data)\n",
    "\n",
    "        #Results\n",
    "        variance_temp = pca.explained_variance_ratio_\n",
    "        print \"Total Cummulative Variance: \" + str(round(np.sum(variance_temp),3)) + \" Component Count :\" + str(i) + \" Last Component Varianace: \" + str(round(variance_temp[i-1],3))\n",
    "\n",
    "### STUDENT END ###\n",
    "\n",
    "P1()"
   ]
  },
  {
   "cell_type": "markdown",
   "metadata": {},
   "source": [
    "(2) PCA can be very useful for visualizing data. Project the training data down to 2 dimensions and plot it. Show the positive (poisonous) cases in blue and the negative (non-poisonous) in red. Here's a reference for plotting: http://matplotlib.org/users/pyplot_tutorial.html"
   ]
  },
  {
   "cell_type": "code",
   "execution_count": 131,
   "metadata": {},
   "outputs": [
    {
     "data": {
      "image/png": "[encoded data removed]",
      "text/plain": [
       "<matplotlib.figure.Figure at 0x230486a0>"
      ]
     },
     "metadata": {},
     "output_type": "display_data"
    }
   ],
   "source": [
    "def P2():\n",
    "### STUDENT START ###\n",
    "    pca = PCA(n_components=2)\n",
    "    pca.fit(train_data)\n",
    "    X = pca.transform(train_data)\n",
    "    #visually show the data after its been reduced to 2 dimensions\n",
    "    #fig, ax = plt.subplots()\n",
    "    #for label, group in X\n",
    "    plt.plot(X[:7000,0], X[:7000,1], \"ro\", label = train_labels)\n",
    "    plt.title('PCA with 2 Components')  \n",
    "    plt.ylabel('Component 1') \n",
    "    plt.xlabel('Component 2') \n",
    "### STUDENT END ###\n",
    "\n",
    "P2()"
   ]
  },
  {
   "cell_type": "code",
   "execution_count": 194,
   "metadata": {},
   "outputs": [
    {
     "name": "stdout",
     "output_type": "stream",
     "text": [
      "(7000L, 2L)\n",
      "<type 'numpy.ndarray'>\n",
      "(7000L,)\n",
      "[[ 1.05434454 -0.89426308]\n",
      " [ 1.44383045 -0.08008516]\n",
      " [ 1.54310134 -0.28842409]\n",
      " ..., \n",
      " [ 0.84782643 -0.5247949 ]\n",
      " [ 1.07204581  0.23034774]\n",
      " [ 0.47873986 -0.9996519 ]]\n",
      "<type 'numpy.ndarray'>\n",
      "[1 0 0 ..., 1 0 0]\n"
     ]
    }
   ],
   "source": [
    "print X.shape\n",
    "print type(X)\n",
    "print train_labels.shape\n",
    "print X\n",
    "print type(train_labels)\n",
    "\n",
    "train_labels_long = np.reshape(train_labels,7000)\n",
    "print (train_labels_long)"
   ]
  },
  {
   "cell_type": "code",
   "execution_count": 200,
   "metadata": {},
   "outputs": [
    {
     "ename": "TypeError",
     "evalue": "append() takes at least 2 arguments (2 given)",
     "output_type": "error",
     "traceback": [
      "\u001b[1;31m---------------------------------------------------------------------------\u001b[0m",
      "\u001b[1;31mTypeError\u001b[0m                                 Traceback (most recent call last)",
      "\u001b[1;32m<ipython-input-200-f76082156536>\u001b[0m in \u001b[0;36m<module>\u001b[1;34m()\u001b[0m\n\u001b[1;32m----> 1\u001b[1;33m \u001b[0mnp\u001b[0m\u001b[1;33m.\u001b[0m\u001b[0mappend\u001b[0m\u001b[1;33m(\u001b[0m\u001b[1;33m[\u001b[0m\u001b[0mtrain_labels\u001b[0m\u001b[1;33m,\u001b[0m \u001b[0mX\u001b[0m\u001b[1;33m]\u001b[0m\u001b[1;33m,\u001b[0m \u001b[0maxis\u001b[0m \u001b[1;33m=\u001b[0m\u001b[1;36m1\u001b[0m\u001b[1;33m)\u001b[0m\u001b[1;33m\u001b[0m\u001b[0m\n\u001b[0m",
      "\u001b[1;31mTypeError\u001b[0m: append() takes at least 2 arguments (2 given)"
     ]
    }
   ],
   "source": [
    "np.append([train_labels, X], axis =1)"
   ]
  },
  {
   "cell_type": "code",
   "execution_count": 214,
   "metadata": {},
   "outputs": [
    {
     "name": "stdout",
     "output_type": "stream",
     "text": [
      "[ 1.  0.  0. ...,  1.  0.  0.]\n",
      "[[ 1.          1.05434454 -0.89426308]\n",
      " [ 0.          1.44383045 -0.08008516]\n",
      " [ 0.          1.54310134 -0.28842409]\n",
      " ..., \n",
      " [ 1.          0.84782643 -0.5247949 ]\n",
      " [ 0.          1.07204581  0.23034774]\n",
      " [ 0.          0.47873986 -0.9996519 ]]\n"
     ]
    },
    {
     "ename": "ValueError",
     "evalue": "too many values to unpack",
     "output_type": "error",
     "traceback": [
      "\u001b[1;31m---------------------------------------------------------------------------\u001b[0m",
      "\u001b[1;31mValueError\u001b[0m                                Traceback (most recent call last)",
      "\u001b[1;32m<ipython-input-214-af2eb007c843>\u001b[0m in \u001b[0;36m<module>\u001b[1;34m()\u001b[0m\n\u001b[0;32m      9\u001b[0m \u001b[0mfig\u001b[0m\u001b[1;33m,\u001b[0m \u001b[0max\u001b[0m \u001b[1;33m=\u001b[0m \u001b[0mplt\u001b[0m\u001b[1;33m.\u001b[0m\u001b[0msubplots\u001b[0m\u001b[1;33m(\u001b[0m\u001b[1;33m)\u001b[0m\u001b[1;33m\u001b[0m\u001b[0m\n\u001b[0;32m     10\u001b[0m \u001b[1;32mprint\u001b[0m \u001b[0mdf_graph\u001b[0m\u001b[1;33m\u001b[0m\u001b[0m\n\u001b[1;32m---> 11\u001b[1;33m \u001b[1;32mfor\u001b[0m \u001b[0mname\u001b[0m\u001b[1;33m,\u001b[0m \u001b[0mgroup\u001b[0m \u001b[1;32min\u001b[0m \u001b[0mdf_graph\u001b[0m\u001b[1;33m:\u001b[0m\u001b[1;33m\u001b[0m\u001b[0m\n\u001b[0m\u001b[0;32m     12\u001b[0m     \u001b[0mplt\u001b[0m\u001b[1;33m.\u001b[0m\u001b[0mplot\u001b[0m\u001b[1;33m(\u001b[0m\u001b[0mX\u001b[0m\u001b[1;33m[\u001b[0m\u001b[1;33m:\u001b[0m\u001b[1;36m7000\u001b[0m\u001b[1;33m,\u001b[0m\u001b[1;36m0\u001b[0m\u001b[1;33m]\u001b[0m\u001b[1;33m,\u001b[0m \u001b[0mX\u001b[0m\u001b[1;33m[\u001b[0m\u001b[1;33m:\u001b[0m\u001b[1;36m7000\u001b[0m\u001b[1;33m,\u001b[0m\u001b[1;36m1\u001b[0m\u001b[1;33m]\u001b[0m\u001b[1;33m,\u001b[0m \u001b[1;34m\"ro\"\u001b[0m\u001b[1;33m)\u001b[0m \u001b[1;31m#, label = df_graph[:,0])\u001b[0m\u001b[1;33m\u001b[0m\u001b[0m\n\u001b[0;32m     13\u001b[0m     \u001b[0mplt\u001b[0m\u001b[1;33m.\u001b[0m\u001b[0mtitle\u001b[0m\u001b[1;33m(\u001b[0m\u001b[1;34m'PCA with 2 Components'\u001b[0m\u001b[1;33m)\u001b[0m\u001b[1;33m\u001b[0m\u001b[0m\n",
      "\u001b[1;31mValueError\u001b[0m: too many values to unpack"
     ]
    },
    {
     "data": {
      "image/png": "[encoded data removed]",
      "text/plain": [
       "<matplotlib.figure.Figure at 0x23c9f978>"
      ]
     },
     "metadata": {},
     "output_type": "display_data"
    }
   ],
   "source": [
    "pca = PCA(n_components=2)\n",
    "pca.fit(train_data)\n",
    "X = pca.transform(train_data)\n",
    "\n",
    "#df_graph = [train_labels.T[:7000,0][X]\n",
    "df_graph = np.concatenate((train_long.T, X), axis = 1)\n",
    "print df_graph[:,0]\n",
    "#visually show the data after its been reduced to 2 dimensions\n",
    "fig, ax = plt.subplots()\n",
    "print df_graph\n",
    "for name, group in df_graph:\n",
    "    plt.plot(X[:7000,0], X[:7000,1], \"ro\") #, label = df_graph[:,0])\n",
    "    plt.title('PCA with 2 Components')  \n",
    "    plt.ylabel('Component 1') \n",
    "    plt.xlabel('Component 2') "
   ]
  },
  {
   "cell_type": "code",
   "execution_count": 219,
   "metadata": {},
   "outputs": [
    {
     "ename": "IndexError",
     "evalue": "too many indices for array",
     "output_type": "error",
     "traceback": [
      "\u001b[1;31m---------------------------------------------------------------------------\u001b[0m",
      "\u001b[1;31mIndexError\u001b[0m                                Traceback (most recent call last)",
      "\u001b[1;32m<ipython-input-219-e815bf7fa321>\u001b[0m in \u001b[0;36m<module>\u001b[1;34m()\u001b[0m\n\u001b[1;32m----> 1\u001b[1;33m \u001b[0mplt\u001b[0m\u001b[1;33m.\u001b[0m\u001b[0mplot\u001b[0m\u001b[1;33m(\u001b[0m\u001b[0mdf_graph\u001b[0m\u001b[1;33m[\u001b[0m\u001b[1;36m0\u001b[0m\u001b[1;33m,\u001b[0m\u001b[1;33m:\u001b[0m\u001b[1;36m7000\u001b[0m\u001b[1;33m,\u001b[0m\u001b[1;36m1\u001b[0m\u001b[1;33m]\u001b[0m\u001b[1;33m,\u001b[0m \u001b[0mdf_graph\u001b[0m\u001b[1;33m[\u001b[0m\u001b[1;36m0\u001b[0m\u001b[1;33m,\u001b[0m\u001b[1;33m:\u001b[0m\u001b[1;36m7000\u001b[0m\u001b[1;33m,\u001b[0m\u001b[1;36m2\u001b[0m\u001b[1;33m]\u001b[0m\u001b[1;33m,\u001b[0m \u001b[1;34m\"ro\"\u001b[0m\u001b[1;33m)\u001b[0m\u001b[1;33m\u001b[0m\u001b[0m\n\u001b[0m\u001b[0;32m      2\u001b[0m \u001b[1;32mprint\u001b[0m \u001b[0mdf_graph\u001b[0m\u001b[1;33m[\u001b[0m\u001b[1;33m:\u001b[0m\u001b[1;33m,\u001b[0m\u001b[1;36m0\u001b[0m\u001b[1;33m]\u001b[0m\u001b[1;33m\u001b[0m\u001b[0m\n",
      "\u001b[1;31mIndexError\u001b[0m: too many indices for array"
     ]
    }
   ],
   "source": [
    "plt.plot(df_graph[0,:7000,1], df_graph[0,:7000,2], \"ro\")\n",
    "print df_graph[:,0]"
   ]
  },
  {
   "cell_type": "code",
   "execution_count": 223,
   "metadata": {},
   "outputs": [
    {
     "data": {
      "text/plain": [
       "[<matplotlib.lines.Line2D at 0x235d87f0>]"
      ]
     },
     "execution_count": 223,
     "metadata": {},
     "output_type": "execute_result"
    },
    {
     "data": {
      "image/png": "[encoded data removed]",
      "text/plain": [
       "<matplotlib.figure.Figure at 0x23c07470>"
      ]
     },
     "metadata": {},
     "output_type": "display_data"
    }
   ],
   "source": [
    "plt.plot(X[train_labels==1,0], X[train_labels==1,1], \"ro\")\n",
    "plt.plot(X[train_labels==0,0], X[train_labels==0,1], \"bo\")"
   ]
  },
  {
   "cell_type": "code",
   "execution_count": null,
   "metadata": {
    "collapsed": true
   },
   "outputs": [],
   "source": [
    "plt.plot(df_graph[train_labels==1,0], df_graph[train_labels==1,1], \"ro\")\n",
    "plt.plot(df_graph[train_labels==0,0], df_graph[train_labels==0,1], \"bo\")"
   ]
  },
  {
   "cell_type": "code",
   "execution_count": 232,
   "metadata": {},
   "outputs": [
    {
     "name": "stdout",
     "output_type": "stream",
     "text": [
      "(3198L, 3L)\n",
      "[[ 1.          1.05434454 -0.89426308]\n",
      " [ 1.          1.18360334 -0.59804199]\n",
      " [ 1.          0.92105756 -0.51390434]\n",
      " ..., \n",
      " [ 1.          0.98473448 -0.82398787]\n",
      " [ 1.          0.997379   -0.67719079]\n",
      " [ 1.          0.84782643 -0.5247949 ]]\n",
      "(3802L, 3L)\n"
     ]
    }
   ],
   "source": [
    "test =df_graph[df_graph[:,0]!=0]\n",
    "print test.shape\n",
    "print test\n",
    "test2 =df_graph[df_graph[:,0]!=1]\n",
    "print test2.shape"
   ]
  },
  {
   "cell_type": "code",
   "execution_count": 233,
   "metadata": {},
   "outputs": [
    {
     "data": {
      "text/plain": [
       "7000"
      ]
     },
     "execution_count": 233,
     "metadata": {},
     "output_type": "execute_result"
    }
   ],
   "source": [
    "3802+3198"
   ]
  },
  {
   "cell_type": "code",
   "execution_count": 184,
   "metadata": {},
   "outputs": [
    {
     "name": "stdout",
     "output_type": "stream",
     "text": [
      "(3L, 2L)\n",
      "(1L, 3L)\n",
      "[[1 2 7]\n",
      " [3 4 8]\n",
      " [5 6 9]]\n"
     ]
    }
   ],
   "source": [
    "a = np.array([[1, 2], [3,4], [5,6]])\n",
    "b = np.array([[7, 8, 9]])\n",
    "print a.shape\n",
    "print b.shape\n",
    "print np.concatenate((a, b.T), axis =1)"
   ]
  },
  {
   "cell_type": "code",
   "execution_count": 203,
   "metadata": {},
   "outputs": [
    {
     "name": "stdout",
     "output_type": "stream",
     "text": [
      "(1L, 7000L)\n"
     ]
    }
   ],
   "source": [
    "train_long = np.reshape(train_labels,(1,7000))\n",
    "print train_long.shape"
   ]
  },
  {
   "cell_type": "code",
   "execution_count": 213,
   "metadata": {},
   "outputs": [
    {
     "name": "stdout",
     "output_type": "stream",
     "text": [
      "   label         x         y\n",
      "0      a  0.809080  0.893113\n",
      "1      c  0.361490  0.436031\n",
      "2      c  0.744783  0.285222\n",
      "3      c  0.797621  0.592932\n",
      "4      c  0.617236  0.545665\n",
      "5      b  0.156297  0.008694\n",
      "6      a  0.831894  0.273449\n",
      "7      a  0.290004  0.922744\n",
      "8      b  0.742814  0.448012\n",
      "9      b  0.060241  0.646726\n",
      "10     a  0.428852  0.185470\n",
      "11     a  0.354149  0.937377\n",
      "12     b  0.888946  0.744678\n",
      "13     c  0.983894  0.365977\n",
      "16     b  0.145813  0.382585\n",
      "a\n",
      "b\n",
      "c\n"
     ]
    },
    {
     "data": {
      "image/png": "[encoded data removed]",
      "text/plain": [
       "<matplotlib.figure.Figure at 0x22f82048>"
      ]
     },
     "metadata": {},
     "output_type": "display_data"
    }
   ],
   "source": [
    "import matplotlib.pyplot as plt\n",
    "import numpy as np\n",
    "import pandas as pd\n",
    "np.random.seed(1974)\n",
    "\n",
    "# Generate Data\n",
    "num = 20\n",
    "x, y = np.random.random((2, num))\n",
    "labels = np.random.choice(['a', 'b', 'c'], num)\n",
    "df = pd.DataFrame(dict(x=x, y=y, label=labels))\n",
    "\n",
    "groups = df.groupby('label')\n",
    "print groups.head()\n",
    "\n",
    "# Plot\n",
    "fig, ax = plt.subplots()\n",
    "ax.margins(0.05) # Optional, just adds 5% padding to the autoscaling\n",
    "for name, group in groups:\n",
    "    ax.plot(group.x, group.y, marker='o', linestyle='', ms=12, label=name)\n",
    "    print name\n",
    "    #print group\n",
    "ax.legend()\n",
    "\n",
    "plt.show()"
   ]
  },
  {
   "cell_type": "code",
   "execution_count": 115,
   "metadata": {},
   "outputs": [
    {
     "name": "stdout",
     "output_type": "stream",
     "text": [
      "[[ 1.05434454 -0.89426308]\n",
      " [ 1.44383045 -0.08008516]\n",
      " [ 1.54310134 -0.28842409]\n",
      " ..., \n",
      " [ 0.84782643 -0.5247949 ]\n",
      " [ 1.07204581  0.23034774]\n",
      " [ 0.47873986 -0.9996519 ]]\n",
      "(7000L, 2L)\n",
      "break\n",
      "[ 1.05434454  1.44383045  1.54310134  1.18360334  0.63709298  1.47786269\n",
      "  1.44041116]\n"
     ]
    },
    {
     "data": {
      "text/plain": [
       "<matplotlib.collections.PathCollection at 0x21e69278>"
      ]
     },
     "execution_count": 115,
     "metadata": {},
     "output_type": "execute_result"
    },
    {
     "data": {
      "image/png": "[encoded data removed]",
      "text/plain": [
       "<matplotlib.figure.Figure at 0x2181ef60>"
      ]
     },
     "metadata": {},
     "output_type": "display_data"
    }
   ],
   "source": [
    "    pca = PCA(n_components=2)\n",
    "    pca.fit(train_data)\n",
    "    X = pca.transform(train_data)\n",
    "    print X\n",
    "    print X.shape\n",
    "    print \"break\"\n",
    "    print X[:7,0]\n",
    "    #values_for_graph = pca.singular_values_\n",
    "    #plt.scatter(pca.components_[0], pca.components_[1])\n",
    "    plt.scatter(X[:7000,0], X[:7000,1])\n",
    "   # plt.title('PCA with 2 Components')  \n",
    "   # plt.ylabel('Component 1') \n",
    "   # plt.xlabel('Component 2')"
   ]
  },
  {
   "cell_type": "markdown",
   "metadata": {},
   "source": [
    "(3) Run KMeans with [1,16] clusters over the 2d projected data. Mark each centroid cluster and plot a circle that goes through the most distant point assigned to each cluster."
   ]
  },
  {
   "cell_type": "code",
   "execution_count": 3,
   "metadata": {
    "collapsed": true
   },
   "outputs": [],
   "source": [
    "#def P3():\n",
    "### STUDENT START ###\n",
    "\n",
    "### STUDENT END ###\n",
    "\n",
    "#P3()"
   ]
  },
  {
   "cell_type": "markdown",
   "metadata": {},
   "source": [
    "(4) Fit a Gaussian Mixture Model for the positive examples in your 2d projected data. Plot the estimated density contours as shown here: http://scikit-learn.org/stable/auto_examples/mixture/plot_gmm_pdf.html#example-mixture-plot-gmm-pdf-py. Vary the number of mixture components from 1-4 and the covariance matrix type ('spherical', 'diag', 'tied', 'full')."
   ]
  },
  {
   "cell_type": "code",
   "execution_count": 4,
   "metadata": {
    "collapsed": true
   },
   "outputs": [],
   "source": [
    "#def P4():\n",
    "### STUDENT START ###\n",
    "\n",
    "### STUDENT END ###\n",
    "\n",
    "#P4()"
   ]
  },
  {
   "cell_type": "markdown",
   "metadata": {},
   "source": [
    "(5) Fit two 4-component full covariance GMMs, one for the positive examples and one for the negative examples in your 2d projected data. Predict the test examples by choosing the label for which the model gives a larger probability (use GMM.score). What is the accuracy?"
   ]
  },
  {
   "cell_type": "code",
   "execution_count": 5,
   "metadata": {
    "collapsed": true
   },
   "outputs": [],
   "source": [
    "#def P5():\n",
    "### STUDENT START ###\n",
    "\n",
    "### STUDENT END ###\n",
    "\n",
    "#P5()"
   ]
  },
  {
   "cell_type": "markdown",
   "metadata": {},
   "source": [
    "(6) Ideally, we'd like a model that gives the best accuracy with the fewest parameters. Run a series of experiments to find the model that gives the best accuracy with no more than 50 parameters. For example, with 3 PCA components and 2-component diagonal covariance GMMs, you'd have:\n",
    "\n",
    "( (3 mean vector + 3 covariance matrix) x 2 components ) x 2 classes = 24 parameters\n",
    "\n",
    "You should vary the number of PCA components, the number of GMM components, and the covariance type."
   ]
  },
  {
   "cell_type": "code",
   "execution_count": 6,
   "metadata": {
    "collapsed": true
   },
   "outputs": [],
   "source": [
    "#def P6():\n",
    "### STUDENT START ###\n",
    "\n",
    "### STUDENT END ###\n",
    "\n",
    "#P6()"
   ]
  },
  {
   "cell_type": "code",
   "execution_count": null,
   "metadata": {
    "collapsed": true
   },
   "outputs": [],
   "source": []
  }
 ],
 "metadata": {
  "anaconda-cloud": {},
  "kernelspec": {
   "display_name": "Python [default]",
   "language": "python",
   "name": "python2"
  },
  "language_info": {
   "codemirror_mode": {
    "name": "ipython",
    "version": 2
   },
   "file_extension": ".py",
   "mimetype": "text/x-python",
   "name": "python",
   "nbconvert_exporter": "python",
   "pygments_lexer": "ipython2",
   "version": "2.7.13"
  }
 },
 "nbformat": 4,
 "nbformat_minor": 1
}
